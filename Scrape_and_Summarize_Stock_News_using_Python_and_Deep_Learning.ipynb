{
  "nbformat": 4,
  "nbformat_minor": 0,
  "metadata": {
    "colab": {
      "provenance": []
    },
    "kernelspec": {
      "name": "python3",
      "display_name": "Python 3"
    },
    "language_info": {
      "name": "python"
    },
    "widgets": {
      "application/vnd.jupyter.widget-state+json": {
        "dff674ee13824cc280e3d1a3056456f4": {
          "model_module": "@jupyter-widgets/controls",
          "model_name": "HBoxModel",
          "model_module_version": "1.5.0",
          "state": {
            "_dom_classes": [],
            "_model_module": "@jupyter-widgets/controls",
            "_model_module_version": "1.5.0",
            "_model_name": "HBoxModel",
            "_view_count": null,
            "_view_module": "@jupyter-widgets/controls",
            "_view_module_version": "1.5.0",
            "_view_name": "HBoxView",
            "box_style": "",
            "children": [
              "IPY_MODEL_c597a569798d4045a40fea3280f0b1c0",
              "IPY_MODEL_9def969016214337868f7b1b5ca40951",
              "IPY_MODEL_6b9bc6e4a7b3468e853308f50e8685db"
            ],
            "layout": "IPY_MODEL_d78817060a134be383458f8c7d88db9d"
          }
        },
        "c597a569798d4045a40fea3280f0b1c0": {
          "model_module": "@jupyter-widgets/controls",
          "model_name": "HTMLModel",
          "model_module_version": "1.5.0",
          "state": {
            "_dom_classes": [],
            "_model_module": "@jupyter-widgets/controls",
            "_model_module_version": "1.5.0",
            "_model_name": "HTMLModel",
            "_view_count": null,
            "_view_module": "@jupyter-widgets/controls",
            "_view_module_version": "1.5.0",
            "_view_name": "HTMLView",
            "description": "",
            "description_tooltip": null,
            "layout": "IPY_MODEL_0399819b51414671a590e62682fea4f2",
            "placeholder": "​",
            "style": "IPY_MODEL_0133745273124d1eba6fc562292b83c4",
            "value": "tokenizer_config.json: 100%"
          }
        },
        "9def969016214337868f7b1b5ca40951": {
          "model_module": "@jupyter-widgets/controls",
          "model_name": "FloatProgressModel",
          "model_module_version": "1.5.0",
          "state": {
            "_dom_classes": [],
            "_model_module": "@jupyter-widgets/controls",
            "_model_module_version": "1.5.0",
            "_model_name": "FloatProgressModel",
            "_view_count": null,
            "_view_module": "@jupyter-widgets/controls",
            "_view_module_version": "1.5.0",
            "_view_name": "ProgressView",
            "bar_style": "success",
            "description": "",
            "description_tooltip": null,
            "layout": "IPY_MODEL_33c9ea8476254f1fab10bdbf57a32f51",
            "max": 1436,
            "min": 0,
            "orientation": "horizontal",
            "style": "IPY_MODEL_540334794d404e9aa3719ce29ccecc8c",
            "value": 1436
          }
        },
        "6b9bc6e4a7b3468e853308f50e8685db": {
          "model_module": "@jupyter-widgets/controls",
          "model_name": "HTMLModel",
          "model_module_version": "1.5.0",
          "state": {
            "_dom_classes": [],
            "_model_module": "@jupyter-widgets/controls",
            "_model_module_version": "1.5.0",
            "_model_name": "HTMLModel",
            "_view_count": null,
            "_view_module": "@jupyter-widgets/controls",
            "_view_module_version": "1.5.0",
            "_view_name": "HTMLView",
            "description": "",
            "description_tooltip": null,
            "layout": "IPY_MODEL_0b7280128fee40b79e483d6a79a5ed13",
            "placeholder": "​",
            "style": "IPY_MODEL_242335ec75a94f068b9b67a6edaca30a",
            "value": " 1.44k/1.44k [00:00&lt;00:00, 72.2kB/s]"
          }
        },
        "d78817060a134be383458f8c7d88db9d": {
          "model_module": "@jupyter-widgets/base",
          "model_name": "LayoutModel",
          "model_module_version": "1.2.0",
          "state": {
            "_model_module": "@jupyter-widgets/base",
            "_model_module_version": "1.2.0",
            "_model_name": "LayoutModel",
            "_view_count": null,
            "_view_module": "@jupyter-widgets/base",
            "_view_module_version": "1.2.0",
            "_view_name": "LayoutView",
            "align_content": null,
            "align_items": null,
            "align_self": null,
            "border": null,
            "bottom": null,
            "display": null,
            "flex": null,
            "flex_flow": null,
            "grid_area": null,
            "grid_auto_columns": null,
            "grid_auto_flow": null,
            "grid_auto_rows": null,
            "grid_column": null,
            "grid_gap": null,
            "grid_row": null,
            "grid_template_areas": null,
            "grid_template_columns": null,
            "grid_template_rows": null,
            "height": null,
            "justify_content": null,
            "justify_items": null,
            "left": null,
            "margin": null,
            "max_height": null,
            "max_width": null,
            "min_height": null,
            "min_width": null,
            "object_fit": null,
            "object_position": null,
            "order": null,
            "overflow": null,
            "overflow_x": null,
            "overflow_y": null,
            "padding": null,
            "right": null,
            "top": null,
            "visibility": null,
            "width": null
          }
        },
        "0399819b51414671a590e62682fea4f2": {
          "model_module": "@jupyter-widgets/base",
          "model_name": "LayoutModel",
          "model_module_version": "1.2.0",
          "state": {
            "_model_module": "@jupyter-widgets/base",
            "_model_module_version": "1.2.0",
            "_model_name": "LayoutModel",
            "_view_count": null,
            "_view_module": "@jupyter-widgets/base",
            "_view_module_version": "1.2.0",
            "_view_name": "LayoutView",
            "align_content": null,
            "align_items": null,
            "align_self": null,
            "border": null,
            "bottom": null,
            "display": null,
            "flex": null,
            "flex_flow": null,
            "grid_area": null,
            "grid_auto_columns": null,
            "grid_auto_flow": null,
            "grid_auto_rows": null,
            "grid_column": null,
            "grid_gap": null,
            "grid_row": null,
            "grid_template_areas": null,
            "grid_template_columns": null,
            "grid_template_rows": null,
            "height": null,
            "justify_content": null,
            "justify_items": null,
            "left": null,
            "margin": null,
            "max_height": null,
            "max_width": null,
            "min_height": null,
            "min_width": null,
            "object_fit": null,
            "object_position": null,
            "order": null,
            "overflow": null,
            "overflow_x": null,
            "overflow_y": null,
            "padding": null,
            "right": null,
            "top": null,
            "visibility": null,
            "width": null
          }
        },
        "0133745273124d1eba6fc562292b83c4": {
          "model_module": "@jupyter-widgets/controls",
          "model_name": "DescriptionStyleModel",
          "model_module_version": "1.5.0",
          "state": {
            "_model_module": "@jupyter-widgets/controls",
            "_model_module_version": "1.5.0",
            "_model_name": "DescriptionStyleModel",
            "_view_count": null,
            "_view_module": "@jupyter-widgets/base",
            "_view_module_version": "1.2.0",
            "_view_name": "StyleView",
            "description_width": ""
          }
        },
        "33c9ea8476254f1fab10bdbf57a32f51": {
          "model_module": "@jupyter-widgets/base",
          "model_name": "LayoutModel",
          "model_module_version": "1.2.0",
          "state": {
            "_model_module": "@jupyter-widgets/base",
            "_model_module_version": "1.2.0",
            "_model_name": "LayoutModel",
            "_view_count": null,
            "_view_module": "@jupyter-widgets/base",
            "_view_module_version": "1.2.0",
            "_view_name": "LayoutView",
            "align_content": null,
            "align_items": null,
            "align_self": null,
            "border": null,
            "bottom": null,
            "display": null,
            "flex": null,
            "flex_flow": null,
            "grid_area": null,
            "grid_auto_columns": null,
            "grid_auto_flow": null,
            "grid_auto_rows": null,
            "grid_column": null,
            "grid_gap": null,
            "grid_row": null,
            "grid_template_areas": null,
            "grid_template_columns": null,
            "grid_template_rows": null,
            "height": null,
            "justify_content": null,
            "justify_items": null,
            "left": null,
            "margin": null,
            "max_height": null,
            "max_width": null,
            "min_height": null,
            "min_width": null,
            "object_fit": null,
            "object_position": null,
            "order": null,
            "overflow": null,
            "overflow_x": null,
            "overflow_y": null,
            "padding": null,
            "right": null,
            "top": null,
            "visibility": null,
            "width": null
          }
        },
        "540334794d404e9aa3719ce29ccecc8c": {
          "model_module": "@jupyter-widgets/controls",
          "model_name": "ProgressStyleModel",
          "model_module_version": "1.5.0",
          "state": {
            "_model_module": "@jupyter-widgets/controls",
            "_model_module_version": "1.5.0",
            "_model_name": "ProgressStyleModel",
            "_view_count": null,
            "_view_module": "@jupyter-widgets/base",
            "_view_module_version": "1.2.0",
            "_view_name": "StyleView",
            "bar_color": null,
            "description_width": ""
          }
        },
        "0b7280128fee40b79e483d6a79a5ed13": {
          "model_module": "@jupyter-widgets/base",
          "model_name": "LayoutModel",
          "model_module_version": "1.2.0",
          "state": {
            "_model_module": "@jupyter-widgets/base",
            "_model_module_version": "1.2.0",
            "_model_name": "LayoutModel",
            "_view_count": null,
            "_view_module": "@jupyter-widgets/base",
            "_view_module_version": "1.2.0",
            "_view_name": "LayoutView",
            "align_content": null,
            "align_items": null,
            "align_self": null,
            "border": null,
            "bottom": null,
            "display": null,
            "flex": null,
            "flex_flow": null,
            "grid_area": null,
            "grid_auto_columns": null,
            "grid_auto_flow": null,
            "grid_auto_rows": null,
            "grid_column": null,
            "grid_gap": null,
            "grid_row": null,
            "grid_template_areas": null,
            "grid_template_columns": null,
            "grid_template_rows": null,
            "height": null,
            "justify_content": null,
            "justify_items": null,
            "left": null,
            "margin": null,
            "max_height": null,
            "max_width": null,
            "min_height": null,
            "min_width": null,
            "object_fit": null,
            "object_position": null,
            "order": null,
            "overflow": null,
            "overflow_x": null,
            "overflow_y": null,
            "padding": null,
            "right": null,
            "top": null,
            "visibility": null,
            "width": null
          }
        },
        "242335ec75a94f068b9b67a6edaca30a": {
          "model_module": "@jupyter-widgets/controls",
          "model_name": "DescriptionStyleModel",
          "model_module_version": "1.5.0",
          "state": {
            "_model_module": "@jupyter-widgets/controls",
            "_model_module_version": "1.5.0",
            "_model_name": "DescriptionStyleModel",
            "_view_count": null,
            "_view_module": "@jupyter-widgets/base",
            "_view_module_version": "1.2.0",
            "_view_name": "StyleView",
            "description_width": ""
          }
        },
        "dad657f15546449fb7faedd477c78154": {
          "model_module": "@jupyter-widgets/controls",
          "model_name": "HBoxModel",
          "model_module_version": "1.5.0",
          "state": {
            "_dom_classes": [],
            "_model_module": "@jupyter-widgets/controls",
            "_model_module_version": "1.5.0",
            "_model_name": "HBoxModel",
            "_view_count": null,
            "_view_module": "@jupyter-widgets/controls",
            "_view_module_version": "1.5.0",
            "_view_name": "HBoxView",
            "box_style": "",
            "children": [
              "IPY_MODEL_fb7072108d95439ab775f5b1a60b71c2",
              "IPY_MODEL_91c66a9f24364cbab776ef35b3f6f040",
              "IPY_MODEL_f7e5ceca497d4b71ba8f89009d7486d1"
            ],
            "layout": "IPY_MODEL_725aa0ef82bb4105bea02cb0b9b3fc1e"
          }
        },
        "fb7072108d95439ab775f5b1a60b71c2": {
          "model_module": "@jupyter-widgets/controls",
          "model_name": "HTMLModel",
          "model_module_version": "1.5.0",
          "state": {
            "_dom_classes": [],
            "_model_module": "@jupyter-widgets/controls",
            "_model_module_version": "1.5.0",
            "_model_name": "HTMLModel",
            "_view_count": null,
            "_view_module": "@jupyter-widgets/controls",
            "_view_module_version": "1.5.0",
            "_view_name": "HTMLView",
            "description": "",
            "description_tooltip": null,
            "layout": "IPY_MODEL_60d366b8c4df43fe9d7266de247b1c19",
            "placeholder": "​",
            "style": "IPY_MODEL_7814b8f713f34dd6a351fa4d51dcb6e3",
            "value": "spiece.model: 100%"
          }
        },
        "91c66a9f24364cbab776ef35b3f6f040": {
          "model_module": "@jupyter-widgets/controls",
          "model_name": "FloatProgressModel",
          "model_module_version": "1.5.0",
          "state": {
            "_dom_classes": [],
            "_model_module": "@jupyter-widgets/controls",
            "_model_module_version": "1.5.0",
            "_model_name": "FloatProgressModel",
            "_view_count": null,
            "_view_module": "@jupyter-widgets/controls",
            "_view_module_version": "1.5.0",
            "_view_name": "ProgressView",
            "bar_style": "success",
            "description": "",
            "description_tooltip": null,
            "layout": "IPY_MODEL_69391e138f7346079b90568b21470878",
            "max": 1912529,
            "min": 0,
            "orientation": "horizontal",
            "style": "IPY_MODEL_a1bb02b8759f43a78c488ca5a8e5b28f",
            "value": 1912529
          }
        },
        "f7e5ceca497d4b71ba8f89009d7486d1": {
          "model_module": "@jupyter-widgets/controls",
          "model_name": "HTMLModel",
          "model_module_version": "1.5.0",
          "state": {
            "_dom_classes": [],
            "_model_module": "@jupyter-widgets/controls",
            "_model_module_version": "1.5.0",
            "_model_name": "HTMLModel",
            "_view_count": null,
            "_view_module": "@jupyter-widgets/controls",
            "_view_module_version": "1.5.0",
            "_view_name": "HTMLView",
            "description": "",
            "description_tooltip": null,
            "layout": "IPY_MODEL_3f729a334a0945e18fe8573efe6e3256",
            "placeholder": "​",
            "style": "IPY_MODEL_e3f6c296e6224156a6e2ef552e6ef36a",
            "value": " 1.91M/1.91M [00:00&lt;00:00, 8.33MB/s]"
          }
        },
        "725aa0ef82bb4105bea02cb0b9b3fc1e": {
          "model_module": "@jupyter-widgets/base",
          "model_name": "LayoutModel",
          "model_module_version": "1.2.0",
          "state": {
            "_model_module": "@jupyter-widgets/base",
            "_model_module_version": "1.2.0",
            "_model_name": "LayoutModel",
            "_view_count": null,
            "_view_module": "@jupyter-widgets/base",
            "_view_module_version": "1.2.0",
            "_view_name": "LayoutView",
            "align_content": null,
            "align_items": null,
            "align_self": null,
            "border": null,
            "bottom": null,
            "display": null,
            "flex": null,
            "flex_flow": null,
            "grid_area": null,
            "grid_auto_columns": null,
            "grid_auto_flow": null,
            "grid_auto_rows": null,
            "grid_column": null,
            "grid_gap": null,
            "grid_row": null,
            "grid_template_areas": null,
            "grid_template_columns": null,
            "grid_template_rows": null,
            "height": null,
            "justify_content": null,
            "justify_items": null,
            "left": null,
            "margin": null,
            "max_height": null,
            "max_width": null,
            "min_height": null,
            "min_width": null,
            "object_fit": null,
            "object_position": null,
            "order": null,
            "overflow": null,
            "overflow_x": null,
            "overflow_y": null,
            "padding": null,
            "right": null,
            "top": null,
            "visibility": null,
            "width": null
          }
        },
        "60d366b8c4df43fe9d7266de247b1c19": {
          "model_module": "@jupyter-widgets/base",
          "model_name": "LayoutModel",
          "model_module_version": "1.2.0",
          "state": {
            "_model_module": "@jupyter-widgets/base",
            "_model_module_version": "1.2.0",
            "_model_name": "LayoutModel",
            "_view_count": null,
            "_view_module": "@jupyter-widgets/base",
            "_view_module_version": "1.2.0",
            "_view_name": "LayoutView",
            "align_content": null,
            "align_items": null,
            "align_self": null,
            "border": null,
            "bottom": null,
            "display": null,
            "flex": null,
            "flex_flow": null,
            "grid_area": null,
            "grid_auto_columns": null,
            "grid_auto_flow": null,
            "grid_auto_rows": null,
            "grid_column": null,
            "grid_gap": null,
            "grid_row": null,
            "grid_template_areas": null,
            "grid_template_columns": null,
            "grid_template_rows": null,
            "height": null,
            "justify_content": null,
            "justify_items": null,
            "left": null,
            "margin": null,
            "max_height": null,
            "max_width": null,
            "min_height": null,
            "min_width": null,
            "object_fit": null,
            "object_position": null,
            "order": null,
            "overflow": null,
            "overflow_x": null,
            "overflow_y": null,
            "padding": null,
            "right": null,
            "top": null,
            "visibility": null,
            "width": null
          }
        },
        "7814b8f713f34dd6a351fa4d51dcb6e3": {
          "model_module": "@jupyter-widgets/controls",
          "model_name": "DescriptionStyleModel",
          "model_module_version": "1.5.0",
          "state": {
            "_model_module": "@jupyter-widgets/controls",
            "_model_module_version": "1.5.0",
            "_model_name": "DescriptionStyleModel",
            "_view_count": null,
            "_view_module": "@jupyter-widgets/base",
            "_view_module_version": "1.2.0",
            "_view_name": "StyleView",
            "description_width": ""
          }
        },
        "69391e138f7346079b90568b21470878": {
          "model_module": "@jupyter-widgets/base",
          "model_name": "LayoutModel",
          "model_module_version": "1.2.0",
          "state": {
            "_model_module": "@jupyter-widgets/base",
            "_model_module_version": "1.2.0",
            "_model_name": "LayoutModel",
            "_view_count": null,
            "_view_module": "@jupyter-widgets/base",
            "_view_module_version": "1.2.0",
            "_view_name": "LayoutView",
            "align_content": null,
            "align_items": null,
            "align_self": null,
            "border": null,
            "bottom": null,
            "display": null,
            "flex": null,
            "flex_flow": null,
            "grid_area": null,
            "grid_auto_columns": null,
            "grid_auto_flow": null,
            "grid_auto_rows": null,
            "grid_column": null,
            "grid_gap": null,
            "grid_row": null,
            "grid_template_areas": null,
            "grid_template_columns": null,
            "grid_template_rows": null,
            "height": null,
            "justify_content": null,
            "justify_items": null,
            "left": null,
            "margin": null,
            "max_height": null,
            "max_width": null,
            "min_height": null,
            "min_width": null,
            "object_fit": null,
            "object_position": null,
            "order": null,
            "overflow": null,
            "overflow_x": null,
            "overflow_y": null,
            "padding": null,
            "right": null,
            "top": null,
            "visibility": null,
            "width": null
          }
        },
        "a1bb02b8759f43a78c488ca5a8e5b28f": {
          "model_module": "@jupyter-widgets/controls",
          "model_name": "ProgressStyleModel",
          "model_module_version": "1.5.0",
          "state": {
            "_model_module": "@jupyter-widgets/controls",
            "_model_module_version": "1.5.0",
            "_model_name": "ProgressStyleModel",
            "_view_count": null,
            "_view_module": "@jupyter-widgets/base",
            "_view_module_version": "1.2.0",
            "_view_name": "StyleView",
            "bar_color": null,
            "description_width": ""
          }
        },
        "3f729a334a0945e18fe8573efe6e3256": {
          "model_module": "@jupyter-widgets/base",
          "model_name": "LayoutModel",
          "model_module_version": "1.2.0",
          "state": {
            "_model_module": "@jupyter-widgets/base",
            "_model_module_version": "1.2.0",
            "_model_name": "LayoutModel",
            "_view_count": null,
            "_view_module": "@jupyter-widgets/base",
            "_view_module_version": "1.2.0",
            "_view_name": "LayoutView",
            "align_content": null,
            "align_items": null,
            "align_self": null,
            "border": null,
            "bottom": null,
            "display": null,
            "flex": null,
            "flex_flow": null,
            "grid_area": null,
            "grid_auto_columns": null,
            "grid_auto_flow": null,
            "grid_auto_rows": null,
            "grid_column": null,
            "grid_gap": null,
            "grid_row": null,
            "grid_template_areas": null,
            "grid_template_columns": null,
            "grid_template_rows": null,
            "height": null,
            "justify_content": null,
            "justify_items": null,
            "left": null,
            "margin": null,
            "max_height": null,
            "max_width": null,
            "min_height": null,
            "min_width": null,
            "object_fit": null,
            "object_position": null,
            "order": null,
            "overflow": null,
            "overflow_x": null,
            "overflow_y": null,
            "padding": null,
            "right": null,
            "top": null,
            "visibility": null,
            "width": null
          }
        },
        "e3f6c296e6224156a6e2ef552e6ef36a": {
          "model_module": "@jupyter-widgets/controls",
          "model_name": "DescriptionStyleModel",
          "model_module_version": "1.5.0",
          "state": {
            "_model_module": "@jupyter-widgets/controls",
            "_model_module_version": "1.5.0",
            "_model_name": "DescriptionStyleModel",
            "_view_count": null,
            "_view_module": "@jupyter-widgets/base",
            "_view_module_version": "1.2.0",
            "_view_name": "StyleView",
            "description_width": ""
          }
        },
        "f00d7c009b154ef089e70282ab02726c": {
          "model_module": "@jupyter-widgets/controls",
          "model_name": "HBoxModel",
          "model_module_version": "1.5.0",
          "state": {
            "_dom_classes": [],
            "_model_module": "@jupyter-widgets/controls",
            "_model_module_version": "1.5.0",
            "_model_name": "HBoxModel",
            "_view_count": null,
            "_view_module": "@jupyter-widgets/controls",
            "_view_module_version": "1.5.0",
            "_view_name": "HBoxView",
            "box_style": "",
            "children": [
              "IPY_MODEL_c67d2653df5a45ae830d5e640dc71af3",
              "IPY_MODEL_e5933522bf004d999133b2ba221563be",
              "IPY_MODEL_ec0fe39d8e184a8eb2b0b4d1531318e6"
            ],
            "layout": "IPY_MODEL_b3691f2cf5474fafa0cfd2d55769bbe4"
          }
        },
        "c67d2653df5a45ae830d5e640dc71af3": {
          "model_module": "@jupyter-widgets/controls",
          "model_name": "HTMLModel",
          "model_module_version": "1.5.0",
          "state": {
            "_dom_classes": [],
            "_model_module": "@jupyter-widgets/controls",
            "_model_module_version": "1.5.0",
            "_model_name": "HTMLModel",
            "_view_count": null,
            "_view_module": "@jupyter-widgets/controls",
            "_view_module_version": "1.5.0",
            "_view_name": "HTMLView",
            "description": "",
            "description_tooltip": null,
            "layout": "IPY_MODEL_bbbdeff061af412191bfbac9f2f3b66d",
            "placeholder": "​",
            "style": "IPY_MODEL_ca822093c1a84e00ad3ffaf3aef08f3d",
            "value": "special_tokens_map.json: 100%"
          }
        },
        "e5933522bf004d999133b2ba221563be": {
          "model_module": "@jupyter-widgets/controls",
          "model_name": "FloatProgressModel",
          "model_module_version": "1.5.0",
          "state": {
            "_dom_classes": [],
            "_model_module": "@jupyter-widgets/controls",
            "_model_module_version": "1.5.0",
            "_model_name": "FloatProgressModel",
            "_view_count": null,
            "_view_module": "@jupyter-widgets/controls",
            "_view_module_version": "1.5.0",
            "_view_name": "ProgressView",
            "bar_style": "success",
            "description": "",
            "description_tooltip": null,
            "layout": "IPY_MODEL_333cc69359dc4f4da6fb002fd0c282e5",
            "max": 1341,
            "min": 0,
            "orientation": "horizontal",
            "style": "IPY_MODEL_3791a4e724374c6bb107c29f89a696bb",
            "value": 1341
          }
        },
        "ec0fe39d8e184a8eb2b0b4d1531318e6": {
          "model_module": "@jupyter-widgets/controls",
          "model_name": "HTMLModel",
          "model_module_version": "1.5.0",
          "state": {
            "_dom_classes": [],
            "_model_module": "@jupyter-widgets/controls",
            "_model_module_version": "1.5.0",
            "_model_name": "HTMLModel",
            "_view_count": null,
            "_view_module": "@jupyter-widgets/controls",
            "_view_module_version": "1.5.0",
            "_view_name": "HTMLView",
            "description": "",
            "description_tooltip": null,
            "layout": "IPY_MODEL_3d3ee9888ea24099a7de137e9a1696b0",
            "placeholder": "​",
            "style": "IPY_MODEL_1b275752c60a49d4968b88bc99985dec",
            "value": " 1.34k/1.34k [00:00&lt;00:00, 88.1kB/s]"
          }
        },
        "b3691f2cf5474fafa0cfd2d55769bbe4": {
          "model_module": "@jupyter-widgets/base",
          "model_name": "LayoutModel",
          "model_module_version": "1.2.0",
          "state": {
            "_model_module": "@jupyter-widgets/base",
            "_model_module_version": "1.2.0",
            "_model_name": "LayoutModel",
            "_view_count": null,
            "_view_module": "@jupyter-widgets/base",
            "_view_module_version": "1.2.0",
            "_view_name": "LayoutView",
            "align_content": null,
            "align_items": null,
            "align_self": null,
            "border": null,
            "bottom": null,
            "display": null,
            "flex": null,
            "flex_flow": null,
            "grid_area": null,
            "grid_auto_columns": null,
            "grid_auto_flow": null,
            "grid_auto_rows": null,
            "grid_column": null,
            "grid_gap": null,
            "grid_row": null,
            "grid_template_areas": null,
            "grid_template_columns": null,
            "grid_template_rows": null,
            "height": null,
            "justify_content": null,
            "justify_items": null,
            "left": null,
            "margin": null,
            "max_height": null,
            "max_width": null,
            "min_height": null,
            "min_width": null,
            "object_fit": null,
            "object_position": null,
            "order": null,
            "overflow": null,
            "overflow_x": null,
            "overflow_y": null,
            "padding": null,
            "right": null,
            "top": null,
            "visibility": null,
            "width": null
          }
        },
        "bbbdeff061af412191bfbac9f2f3b66d": {
          "model_module": "@jupyter-widgets/base",
          "model_name": "LayoutModel",
          "model_module_version": "1.2.0",
          "state": {
            "_model_module": "@jupyter-widgets/base",
            "_model_module_version": "1.2.0",
            "_model_name": "LayoutModel",
            "_view_count": null,
            "_view_module": "@jupyter-widgets/base",
            "_view_module_version": "1.2.0",
            "_view_name": "LayoutView",
            "align_content": null,
            "align_items": null,
            "align_self": null,
            "border": null,
            "bottom": null,
            "display": null,
            "flex": null,
            "flex_flow": null,
            "grid_area": null,
            "grid_auto_columns": null,
            "grid_auto_flow": null,
            "grid_auto_rows": null,
            "grid_column": null,
            "grid_gap": null,
            "grid_row": null,
            "grid_template_areas": null,
            "grid_template_columns": null,
            "grid_template_rows": null,
            "height": null,
            "justify_content": null,
            "justify_items": null,
            "left": null,
            "margin": null,
            "max_height": null,
            "max_width": null,
            "min_height": null,
            "min_width": null,
            "object_fit": null,
            "object_position": null,
            "order": null,
            "overflow": null,
            "overflow_x": null,
            "overflow_y": null,
            "padding": null,
            "right": null,
            "top": null,
            "visibility": null,
            "width": null
          }
        },
        "ca822093c1a84e00ad3ffaf3aef08f3d": {
          "model_module": "@jupyter-widgets/controls",
          "model_name": "DescriptionStyleModel",
          "model_module_version": "1.5.0",
          "state": {
            "_model_module": "@jupyter-widgets/controls",
            "_model_module_version": "1.5.0",
            "_model_name": "DescriptionStyleModel",
            "_view_count": null,
            "_view_module": "@jupyter-widgets/base",
            "_view_module_version": "1.2.0",
            "_view_name": "StyleView",
            "description_width": ""
          }
        },
        "333cc69359dc4f4da6fb002fd0c282e5": {
          "model_module": "@jupyter-widgets/base",
          "model_name": "LayoutModel",
          "model_module_version": "1.2.0",
          "state": {
            "_model_module": "@jupyter-widgets/base",
            "_model_module_version": "1.2.0",
            "_model_name": "LayoutModel",
            "_view_count": null,
            "_view_module": "@jupyter-widgets/base",
            "_view_module_version": "1.2.0",
            "_view_name": "LayoutView",
            "align_content": null,
            "align_items": null,
            "align_self": null,
            "border": null,
            "bottom": null,
            "display": null,
            "flex": null,
            "flex_flow": null,
            "grid_area": null,
            "grid_auto_columns": null,
            "grid_auto_flow": null,
            "grid_auto_rows": null,
            "grid_column": null,
            "grid_gap": null,
            "grid_row": null,
            "grid_template_areas": null,
            "grid_template_columns": null,
            "grid_template_rows": null,
            "height": null,
            "justify_content": null,
            "justify_items": null,
            "left": null,
            "margin": null,
            "max_height": null,
            "max_width": null,
            "min_height": null,
            "min_width": null,
            "object_fit": null,
            "object_position": null,
            "order": null,
            "overflow": null,
            "overflow_x": null,
            "overflow_y": null,
            "padding": null,
            "right": null,
            "top": null,
            "visibility": null,
            "width": null
          }
        },
        "3791a4e724374c6bb107c29f89a696bb": {
          "model_module": "@jupyter-widgets/controls",
          "model_name": "ProgressStyleModel",
          "model_module_version": "1.5.0",
          "state": {
            "_model_module": "@jupyter-widgets/controls",
            "_model_module_version": "1.5.0",
            "_model_name": "ProgressStyleModel",
            "_view_count": null,
            "_view_module": "@jupyter-widgets/base",
            "_view_module_version": "1.2.0",
            "_view_name": "StyleView",
            "bar_color": null,
            "description_width": ""
          }
        },
        "3d3ee9888ea24099a7de137e9a1696b0": {
          "model_module": "@jupyter-widgets/base",
          "model_name": "LayoutModel",
          "model_module_version": "1.2.0",
          "state": {
            "_model_module": "@jupyter-widgets/base",
            "_model_module_version": "1.2.0",
            "_model_name": "LayoutModel",
            "_view_count": null,
            "_view_module": "@jupyter-widgets/base",
            "_view_module_version": "1.2.0",
            "_view_name": "LayoutView",
            "align_content": null,
            "align_items": null,
            "align_self": null,
            "border": null,
            "bottom": null,
            "display": null,
            "flex": null,
            "flex_flow": null,
            "grid_area": null,
            "grid_auto_columns": null,
            "grid_auto_flow": null,
            "grid_auto_rows": null,
            "grid_column": null,
            "grid_gap": null,
            "grid_row": null,
            "grid_template_areas": null,
            "grid_template_columns": null,
            "grid_template_rows": null,
            "height": null,
            "justify_content": null,
            "justify_items": null,
            "left": null,
            "margin": null,
            "max_height": null,
            "max_width": null,
            "min_height": null,
            "min_width": null,
            "object_fit": null,
            "object_position": null,
            "order": null,
            "overflow": null,
            "overflow_x": null,
            "overflow_y": null,
            "padding": null,
            "right": null,
            "top": null,
            "visibility": null,
            "width": null
          }
        },
        "1b275752c60a49d4968b88bc99985dec": {
          "model_module": "@jupyter-widgets/controls",
          "model_name": "DescriptionStyleModel",
          "model_module_version": "1.5.0",
          "state": {
            "_model_module": "@jupyter-widgets/controls",
            "_model_module_version": "1.5.0",
            "_model_name": "DescriptionStyleModel",
            "_view_count": null,
            "_view_module": "@jupyter-widgets/base",
            "_view_module_version": "1.2.0",
            "_view_name": "StyleView",
            "description_width": ""
          }
        },
        "3a5cbb2782e34e41916d6ffb8852fa66": {
          "model_module": "@jupyter-widgets/controls",
          "model_name": "HBoxModel",
          "model_module_version": "1.5.0",
          "state": {
            "_dom_classes": [],
            "_model_module": "@jupyter-widgets/controls",
            "_model_module_version": "1.5.0",
            "_model_name": "HBoxModel",
            "_view_count": null,
            "_view_module": "@jupyter-widgets/controls",
            "_view_module_version": "1.5.0",
            "_view_name": "HBoxView",
            "box_style": "",
            "children": [
              "IPY_MODEL_49cc655a83c54277a922067bd9d9f71f",
              "IPY_MODEL_56547761377f4e078ac95ef8c61b0c26",
              "IPY_MODEL_442a7e0347644442bcfac9f815624aa0"
            ],
            "layout": "IPY_MODEL_e922654191694082a639ee0d81175187"
          }
        },
        "49cc655a83c54277a922067bd9d9f71f": {
          "model_module": "@jupyter-widgets/controls",
          "model_name": "HTMLModel",
          "model_module_version": "1.5.0",
          "state": {
            "_dom_classes": [],
            "_model_module": "@jupyter-widgets/controls",
            "_model_module_version": "1.5.0",
            "_model_name": "HTMLModel",
            "_view_count": null,
            "_view_module": "@jupyter-widgets/controls",
            "_view_module_version": "1.5.0",
            "_view_name": "HTMLView",
            "description": "",
            "description_tooltip": null,
            "layout": "IPY_MODEL_7d4fabce97554d1b9783f906b6649933",
            "placeholder": "​",
            "style": "IPY_MODEL_4ecad361b673481e8eca2f34c4094d26",
            "value": "config.json: 100%"
          }
        },
        "56547761377f4e078ac95ef8c61b0c26": {
          "model_module": "@jupyter-widgets/controls",
          "model_name": "FloatProgressModel",
          "model_module_version": "1.5.0",
          "state": {
            "_dom_classes": [],
            "_model_module": "@jupyter-widgets/controls",
            "_model_module_version": "1.5.0",
            "_model_name": "FloatProgressModel",
            "_view_count": null,
            "_view_module": "@jupyter-widgets/controls",
            "_view_module_version": "1.5.0",
            "_view_name": "ProgressView",
            "bar_style": "success",
            "description": "",
            "description_tooltip": null,
            "layout": "IPY_MODEL_23cc7e34ebeb49cfb0e796e67113f2f4",
            "max": 1274,
            "min": 0,
            "orientation": "horizontal",
            "style": "IPY_MODEL_a30590a2281444349bb87f705a36297c",
            "value": 1274
          }
        },
        "442a7e0347644442bcfac9f815624aa0": {
          "model_module": "@jupyter-widgets/controls",
          "model_name": "HTMLModel",
          "model_module_version": "1.5.0",
          "state": {
            "_dom_classes": [],
            "_model_module": "@jupyter-widgets/controls",
            "_model_module_version": "1.5.0",
            "_model_name": "HTMLModel",
            "_view_count": null,
            "_view_module": "@jupyter-widgets/controls",
            "_view_module_version": "1.5.0",
            "_view_name": "HTMLView",
            "description": "",
            "description_tooltip": null,
            "layout": "IPY_MODEL_f6e6e5ab0ab04c94a403db050dec732b",
            "placeholder": "​",
            "style": "IPY_MODEL_3bc0e37621c54c879f31a53b17ed2044",
            "value": " 1.27k/1.27k [00:00&lt;00:00, 48.4kB/s]"
          }
        },
        "e922654191694082a639ee0d81175187": {
          "model_module": "@jupyter-widgets/base",
          "model_name": "LayoutModel",
          "model_module_version": "1.2.0",
          "state": {
            "_model_module": "@jupyter-widgets/base",
            "_model_module_version": "1.2.0",
            "_model_name": "LayoutModel",
            "_view_count": null,
            "_view_module": "@jupyter-widgets/base",
            "_view_module_version": "1.2.0",
            "_view_name": "LayoutView",
            "align_content": null,
            "align_items": null,
            "align_self": null,
            "border": null,
            "bottom": null,
            "display": null,
            "flex": null,
            "flex_flow": null,
            "grid_area": null,
            "grid_auto_columns": null,
            "grid_auto_flow": null,
            "grid_auto_rows": null,
            "grid_column": null,
            "grid_gap": null,
            "grid_row": null,
            "grid_template_areas": null,
            "grid_template_columns": null,
            "grid_template_rows": null,
            "height": null,
            "justify_content": null,
            "justify_items": null,
            "left": null,
            "margin": null,
            "max_height": null,
            "max_width": null,
            "min_height": null,
            "min_width": null,
            "object_fit": null,
            "object_position": null,
            "order": null,
            "overflow": null,
            "overflow_x": null,
            "overflow_y": null,
            "padding": null,
            "right": null,
            "top": null,
            "visibility": null,
            "width": null
          }
        },
        "7d4fabce97554d1b9783f906b6649933": {
          "model_module": "@jupyter-widgets/base",
          "model_name": "LayoutModel",
          "model_module_version": "1.2.0",
          "state": {
            "_model_module": "@jupyter-widgets/base",
            "_model_module_version": "1.2.0",
            "_model_name": "LayoutModel",
            "_view_count": null,
            "_view_module": "@jupyter-widgets/base",
            "_view_module_version": "1.2.0",
            "_view_name": "LayoutView",
            "align_content": null,
            "align_items": null,
            "align_self": null,
            "border": null,
            "bottom": null,
            "display": null,
            "flex": null,
            "flex_flow": null,
            "grid_area": null,
            "grid_auto_columns": null,
            "grid_auto_flow": null,
            "grid_auto_rows": null,
            "grid_column": null,
            "grid_gap": null,
            "grid_row": null,
            "grid_template_areas": null,
            "grid_template_columns": null,
            "grid_template_rows": null,
            "height": null,
            "justify_content": null,
            "justify_items": null,
            "left": null,
            "margin": null,
            "max_height": null,
            "max_width": null,
            "min_height": null,
            "min_width": null,
            "object_fit": null,
            "object_position": null,
            "order": null,
            "overflow": null,
            "overflow_x": null,
            "overflow_y": null,
            "padding": null,
            "right": null,
            "top": null,
            "visibility": null,
            "width": null
          }
        },
        "4ecad361b673481e8eca2f34c4094d26": {
          "model_module": "@jupyter-widgets/controls",
          "model_name": "DescriptionStyleModel",
          "model_module_version": "1.5.0",
          "state": {
            "_model_module": "@jupyter-widgets/controls",
            "_model_module_version": "1.5.0",
            "_model_name": "DescriptionStyleModel",
            "_view_count": null,
            "_view_module": "@jupyter-widgets/base",
            "_view_module_version": "1.2.0",
            "_view_name": "StyleView",
            "description_width": ""
          }
        },
        "23cc7e34ebeb49cfb0e796e67113f2f4": {
          "model_module": "@jupyter-widgets/base",
          "model_name": "LayoutModel",
          "model_module_version": "1.2.0",
          "state": {
            "_model_module": "@jupyter-widgets/base",
            "_model_module_version": "1.2.0",
            "_model_name": "LayoutModel",
            "_view_count": null,
            "_view_module": "@jupyter-widgets/base",
            "_view_module_version": "1.2.0",
            "_view_name": "LayoutView",
            "align_content": null,
            "align_items": null,
            "align_self": null,
            "border": null,
            "bottom": null,
            "display": null,
            "flex": null,
            "flex_flow": null,
            "grid_area": null,
            "grid_auto_columns": null,
            "grid_auto_flow": null,
            "grid_auto_rows": null,
            "grid_column": null,
            "grid_gap": null,
            "grid_row": null,
            "grid_template_areas": null,
            "grid_template_columns": null,
            "grid_template_rows": null,
            "height": null,
            "justify_content": null,
            "justify_items": null,
            "left": null,
            "margin": null,
            "max_height": null,
            "max_width": null,
            "min_height": null,
            "min_width": null,
            "object_fit": null,
            "object_position": null,
            "order": null,
            "overflow": null,
            "overflow_x": null,
            "overflow_y": null,
            "padding": null,
            "right": null,
            "top": null,
            "visibility": null,
            "width": null
          }
        },
        "a30590a2281444349bb87f705a36297c": {
          "model_module": "@jupyter-widgets/controls",
          "model_name": "ProgressStyleModel",
          "model_module_version": "1.5.0",
          "state": {
            "_model_module": "@jupyter-widgets/controls",
            "_model_module_version": "1.5.0",
            "_model_name": "ProgressStyleModel",
            "_view_count": null,
            "_view_module": "@jupyter-widgets/base",
            "_view_module_version": "1.2.0",
            "_view_name": "StyleView",
            "bar_color": null,
            "description_width": ""
          }
        },
        "f6e6e5ab0ab04c94a403db050dec732b": {
          "model_module": "@jupyter-widgets/base",
          "model_name": "LayoutModel",
          "model_module_version": "1.2.0",
          "state": {
            "_model_module": "@jupyter-widgets/base",
            "_model_module_version": "1.2.0",
            "_model_name": "LayoutModel",
            "_view_count": null,
            "_view_module": "@jupyter-widgets/base",
            "_view_module_version": "1.2.0",
            "_view_name": "LayoutView",
            "align_content": null,
            "align_items": null,
            "align_self": null,
            "border": null,
            "bottom": null,
            "display": null,
            "flex": null,
            "flex_flow": null,
            "grid_area": null,
            "grid_auto_columns": null,
            "grid_auto_flow": null,
            "grid_auto_rows": null,
            "grid_column": null,
            "grid_gap": null,
            "grid_row": null,
            "grid_template_areas": null,
            "grid_template_columns": null,
            "grid_template_rows": null,
            "height": null,
            "justify_content": null,
            "justify_items": null,
            "left": null,
            "margin": null,
            "max_height": null,
            "max_width": null,
            "min_height": null,
            "min_width": null,
            "object_fit": null,
            "object_position": null,
            "order": null,
            "overflow": null,
            "overflow_x": null,
            "overflow_y": null,
            "padding": null,
            "right": null,
            "top": null,
            "visibility": null,
            "width": null
          }
        },
        "3bc0e37621c54c879f31a53b17ed2044": {
          "model_module": "@jupyter-widgets/controls",
          "model_name": "DescriptionStyleModel",
          "model_module_version": "1.5.0",
          "state": {
            "_model_module": "@jupyter-widgets/controls",
            "_model_module_version": "1.5.0",
            "_model_name": "DescriptionStyleModel",
            "_view_count": null,
            "_view_module": "@jupyter-widgets/base",
            "_view_module_version": "1.2.0",
            "_view_name": "StyleView",
            "description_width": ""
          }
        },
        "2dffd8afbbce4ccdb22b2a1011e14087": {
          "model_module": "@jupyter-widgets/controls",
          "model_name": "HBoxModel",
          "model_module_version": "1.5.0",
          "state": {
            "_dom_classes": [],
            "_model_module": "@jupyter-widgets/controls",
            "_model_module_version": "1.5.0",
            "_model_name": "HBoxModel",
            "_view_count": null,
            "_view_module": "@jupyter-widgets/controls",
            "_view_module_version": "1.5.0",
            "_view_name": "HBoxView",
            "box_style": "",
            "children": [
              "IPY_MODEL_7e8584038b2041b3b02b12ae268c2e78",
              "IPY_MODEL_a5409eb462ee43538173980a945e35bc",
              "IPY_MODEL_053e8d7dc94d45bc962c6fea089b6c32"
            ],
            "layout": "IPY_MODEL_16ae7ff4d1204ed183e58889544c8387"
          }
        },
        "7e8584038b2041b3b02b12ae268c2e78": {
          "model_module": "@jupyter-widgets/controls",
          "model_name": "HTMLModel",
          "model_module_version": "1.5.0",
          "state": {
            "_dom_classes": [],
            "_model_module": "@jupyter-widgets/controls",
            "_model_module_version": "1.5.0",
            "_model_name": "HTMLModel",
            "_view_count": null,
            "_view_module": "@jupyter-widgets/controls",
            "_view_module_version": "1.5.0",
            "_view_name": "HTMLView",
            "description": "",
            "description_tooltip": null,
            "layout": "IPY_MODEL_461db7689b924f5894df33be14eaa09d",
            "placeholder": "​",
            "style": "IPY_MODEL_5129b2d8d9394c7c9b0fd66e41487d6d",
            "value": "model.safetensors: 100%"
          }
        },
        "a5409eb462ee43538173980a945e35bc": {
          "model_module": "@jupyter-widgets/controls",
          "model_name": "FloatProgressModel",
          "model_module_version": "1.5.0",
          "state": {
            "_dom_classes": [],
            "_model_module": "@jupyter-widgets/controls",
            "_model_module_version": "1.5.0",
            "_model_name": "FloatProgressModel",
            "_view_count": null,
            "_view_module": "@jupyter-widgets/controls",
            "_view_module_version": "1.5.0",
            "_view_name": "ProgressView",
            "bar_style": "success",
            "description": "",
            "description_tooltip": null,
            "layout": "IPY_MODEL_6de25742aae84ff1a701a6af638738d0",
            "max": 2275264008,
            "min": 0,
            "orientation": "horizontal",
            "style": "IPY_MODEL_7797af944f6a4dafaee80353de4cc53a",
            "value": 2275264008
          }
        },
        "053e8d7dc94d45bc962c6fea089b6c32": {
          "model_module": "@jupyter-widgets/controls",
          "model_name": "HTMLModel",
          "model_module_version": "1.5.0",
          "state": {
            "_dom_classes": [],
            "_model_module": "@jupyter-widgets/controls",
            "_model_module_version": "1.5.0",
            "_model_name": "HTMLModel",
            "_view_count": null,
            "_view_module": "@jupyter-widgets/controls",
            "_view_module_version": "1.5.0",
            "_view_name": "HTMLView",
            "description": "",
            "description_tooltip": null,
            "layout": "IPY_MODEL_7f6be934fadb4878b9fdddde6a7a290b",
            "placeholder": "​",
            "style": "IPY_MODEL_2a45afbe9eb64acf9278920608ac4952",
            "value": " 2.28G/2.28G [00:24&lt;00:00, 107MB/s]"
          }
        },
        "16ae7ff4d1204ed183e58889544c8387": {
          "model_module": "@jupyter-widgets/base",
          "model_name": "LayoutModel",
          "model_module_version": "1.2.0",
          "state": {
            "_model_module": "@jupyter-widgets/base",
            "_model_module_version": "1.2.0",
            "_model_name": "LayoutModel",
            "_view_count": null,
            "_view_module": "@jupyter-widgets/base",
            "_view_module_version": "1.2.0",
            "_view_name": "LayoutView",
            "align_content": null,
            "align_items": null,
            "align_self": null,
            "border": null,
            "bottom": null,
            "display": null,
            "flex": null,
            "flex_flow": null,
            "grid_area": null,
            "grid_auto_columns": null,
            "grid_auto_flow": null,
            "grid_auto_rows": null,
            "grid_column": null,
            "grid_gap": null,
            "grid_row": null,
            "grid_template_areas": null,
            "grid_template_columns": null,
            "grid_template_rows": null,
            "height": null,
            "justify_content": null,
            "justify_items": null,
            "left": null,
            "margin": null,
            "max_height": null,
            "max_width": null,
            "min_height": null,
            "min_width": null,
            "object_fit": null,
            "object_position": null,
            "order": null,
            "overflow": null,
            "overflow_x": null,
            "overflow_y": null,
            "padding": null,
            "right": null,
            "top": null,
            "visibility": null,
            "width": null
          }
        },
        "461db7689b924f5894df33be14eaa09d": {
          "model_module": "@jupyter-widgets/base",
          "model_name": "LayoutModel",
          "model_module_version": "1.2.0",
          "state": {
            "_model_module": "@jupyter-widgets/base",
            "_model_module_version": "1.2.0",
            "_model_name": "LayoutModel",
            "_view_count": null,
            "_view_module": "@jupyter-widgets/base",
            "_view_module_version": "1.2.0",
            "_view_name": "LayoutView",
            "align_content": null,
            "align_items": null,
            "align_self": null,
            "border": null,
            "bottom": null,
            "display": null,
            "flex": null,
            "flex_flow": null,
            "grid_area": null,
            "grid_auto_columns": null,
            "grid_auto_flow": null,
            "grid_auto_rows": null,
            "grid_column": null,
            "grid_gap": null,
            "grid_row": null,
            "grid_template_areas": null,
            "grid_template_columns": null,
            "grid_template_rows": null,
            "height": null,
            "justify_content": null,
            "justify_items": null,
            "left": null,
            "margin": null,
            "max_height": null,
            "max_width": null,
            "min_height": null,
            "min_width": null,
            "object_fit": null,
            "object_position": null,
            "order": null,
            "overflow": null,
            "overflow_x": null,
            "overflow_y": null,
            "padding": null,
            "right": null,
            "top": null,
            "visibility": null,
            "width": null
          }
        },
        "5129b2d8d9394c7c9b0fd66e41487d6d": {
          "model_module": "@jupyter-widgets/controls",
          "model_name": "DescriptionStyleModel",
          "model_module_version": "1.5.0",
          "state": {
            "_model_module": "@jupyter-widgets/controls",
            "_model_module_version": "1.5.0",
            "_model_name": "DescriptionStyleModel",
            "_view_count": null,
            "_view_module": "@jupyter-widgets/base",
            "_view_module_version": "1.2.0",
            "_view_name": "StyleView",
            "description_width": ""
          }
        },
        "6de25742aae84ff1a701a6af638738d0": {
          "model_module": "@jupyter-widgets/base",
          "model_name": "LayoutModel",
          "model_module_version": "1.2.0",
          "state": {
            "_model_module": "@jupyter-widgets/base",
            "_model_module_version": "1.2.0",
            "_model_name": "LayoutModel",
            "_view_count": null,
            "_view_module": "@jupyter-widgets/base",
            "_view_module_version": "1.2.0",
            "_view_name": "LayoutView",
            "align_content": null,
            "align_items": null,
            "align_self": null,
            "border": null,
            "bottom": null,
            "display": null,
            "flex": null,
            "flex_flow": null,
            "grid_area": null,
            "grid_auto_columns": null,
            "grid_auto_flow": null,
            "grid_auto_rows": null,
            "grid_column": null,
            "grid_gap": null,
            "grid_row": null,
            "grid_template_areas": null,
            "grid_template_columns": null,
            "grid_template_rows": null,
            "height": null,
            "justify_content": null,
            "justify_items": null,
            "left": null,
            "margin": null,
            "max_height": null,
            "max_width": null,
            "min_height": null,
            "min_width": null,
            "object_fit": null,
            "object_position": null,
            "order": null,
            "overflow": null,
            "overflow_x": null,
            "overflow_y": null,
            "padding": null,
            "right": null,
            "top": null,
            "visibility": null,
            "width": null
          }
        },
        "7797af944f6a4dafaee80353de4cc53a": {
          "model_module": "@jupyter-widgets/controls",
          "model_name": "ProgressStyleModel",
          "model_module_version": "1.5.0",
          "state": {
            "_model_module": "@jupyter-widgets/controls",
            "_model_module_version": "1.5.0",
            "_model_name": "ProgressStyleModel",
            "_view_count": null,
            "_view_module": "@jupyter-widgets/base",
            "_view_module_version": "1.2.0",
            "_view_name": "StyleView",
            "bar_color": null,
            "description_width": ""
          }
        },
        "7f6be934fadb4878b9fdddde6a7a290b": {
          "model_module": "@jupyter-widgets/base",
          "model_name": "LayoutModel",
          "model_module_version": "1.2.0",
          "state": {
            "_model_module": "@jupyter-widgets/base",
            "_model_module_version": "1.2.0",
            "_model_name": "LayoutModel",
            "_view_count": null,
            "_view_module": "@jupyter-widgets/base",
            "_view_module_version": "1.2.0",
            "_view_name": "LayoutView",
            "align_content": null,
            "align_items": null,
            "align_self": null,
            "border": null,
            "bottom": null,
            "display": null,
            "flex": null,
            "flex_flow": null,
            "grid_area": null,
            "grid_auto_columns": null,
            "grid_auto_flow": null,
            "grid_auto_rows": null,
            "grid_column": null,
            "grid_gap": null,
            "grid_row": null,
            "grid_template_areas": null,
            "grid_template_columns": null,
            "grid_template_rows": null,
            "height": null,
            "justify_content": null,
            "justify_items": null,
            "left": null,
            "margin": null,
            "max_height": null,
            "max_width": null,
            "min_height": null,
            "min_width": null,
            "object_fit": null,
            "object_position": null,
            "order": null,
            "overflow": null,
            "overflow_x": null,
            "overflow_y": null,
            "padding": null,
            "right": null,
            "top": null,
            "visibility": null,
            "width": null
          }
        },
        "2a45afbe9eb64acf9278920608ac4952": {
          "model_module": "@jupyter-widgets/controls",
          "model_name": "DescriptionStyleModel",
          "model_module_version": "1.5.0",
          "state": {
            "_model_module": "@jupyter-widgets/controls",
            "_model_module_version": "1.5.0",
            "_model_name": "DescriptionStyleModel",
            "_view_count": null,
            "_view_module": "@jupyter-widgets/base",
            "_view_module_version": "1.2.0",
            "_view_name": "StyleView",
            "description_width": ""
          }
        },
        "c5b899d1ae0e4e80ac71208048a61e1d": {
          "model_module": "@jupyter-widgets/controls",
          "model_name": "HBoxModel",
          "model_module_version": "1.5.0",
          "state": {
            "_dom_classes": [],
            "_model_module": "@jupyter-widgets/controls",
            "_model_module_version": "1.5.0",
            "_model_name": "HBoxModel",
            "_view_count": null,
            "_view_module": "@jupyter-widgets/controls",
            "_view_module_version": "1.5.0",
            "_view_name": "HBoxView",
            "box_style": "",
            "children": [
              "IPY_MODEL_41a3286bbf52427bbbd84154969f93d9",
              "IPY_MODEL_f48d15012681458db8c59a50e2e8dcb9",
              "IPY_MODEL_09ca8f893a814d21bd756c37e4c50cea"
            ],
            "layout": "IPY_MODEL_5134f504a1b74fdbaf7fa9e29ee59537"
          }
        },
        "41a3286bbf52427bbbd84154969f93d9": {
          "model_module": "@jupyter-widgets/controls",
          "model_name": "HTMLModel",
          "model_module_version": "1.5.0",
          "state": {
            "_dom_classes": [],
            "_model_module": "@jupyter-widgets/controls",
            "_model_module_version": "1.5.0",
            "_model_name": "HTMLModel",
            "_view_count": null,
            "_view_module": "@jupyter-widgets/controls",
            "_view_module_version": "1.5.0",
            "_view_name": "HTMLView",
            "description": "",
            "description_tooltip": null,
            "layout": "IPY_MODEL_4467b36acc344291b6779c73ec456298",
            "placeholder": "​",
            "style": "IPY_MODEL_47cd01e2b3994b2ab3fb8ec060eceacd",
            "value": "config.json: 100%"
          }
        },
        "f48d15012681458db8c59a50e2e8dcb9": {
          "model_module": "@jupyter-widgets/controls",
          "model_name": "FloatProgressModel",
          "model_module_version": "1.5.0",
          "state": {
            "_dom_classes": [],
            "_model_module": "@jupyter-widgets/controls",
            "_model_module_version": "1.5.0",
            "_model_name": "FloatProgressModel",
            "_view_count": null,
            "_view_module": "@jupyter-widgets/controls",
            "_view_module_version": "1.5.0",
            "_view_name": "ProgressView",
            "bar_style": "success",
            "description": "",
            "description_tooltip": null,
            "layout": "IPY_MODEL_eefa8e36e82d4bf0aae8d148a3de2d45",
            "max": 629,
            "min": 0,
            "orientation": "horizontal",
            "style": "IPY_MODEL_07f0688e02f543979a3cf87c2c0abfa3",
            "value": 629
          }
        },
        "09ca8f893a814d21bd756c37e4c50cea": {
          "model_module": "@jupyter-widgets/controls",
          "model_name": "HTMLModel",
          "model_module_version": "1.5.0",
          "state": {
            "_dom_classes": [],
            "_model_module": "@jupyter-widgets/controls",
            "_model_module_version": "1.5.0",
            "_model_name": "HTMLModel",
            "_view_count": null,
            "_view_module": "@jupyter-widgets/controls",
            "_view_module_version": "1.5.0",
            "_view_name": "HTMLView",
            "description": "",
            "description_tooltip": null,
            "layout": "IPY_MODEL_8beba53cf2764ba48b2642dfd2cb8bed",
            "placeholder": "​",
            "style": "IPY_MODEL_e111b43cfbbc477ea94b35a2769c073d",
            "value": " 629/629 [00:00&lt;00:00, 18.9kB/s]"
          }
        },
        "5134f504a1b74fdbaf7fa9e29ee59537": {
          "model_module": "@jupyter-widgets/base",
          "model_name": "LayoutModel",
          "model_module_version": "1.2.0",
          "state": {
            "_model_module": "@jupyter-widgets/base",
            "_model_module_version": "1.2.0",
            "_model_name": "LayoutModel",
            "_view_count": null,
            "_view_module": "@jupyter-widgets/base",
            "_view_module_version": "1.2.0",
            "_view_name": "LayoutView",
            "align_content": null,
            "align_items": null,
            "align_self": null,
            "border": null,
            "bottom": null,
            "display": null,
            "flex": null,
            "flex_flow": null,
            "grid_area": null,
            "grid_auto_columns": null,
            "grid_auto_flow": null,
            "grid_auto_rows": null,
            "grid_column": null,
            "grid_gap": null,
            "grid_row": null,
            "grid_template_areas": null,
            "grid_template_columns": null,
            "grid_template_rows": null,
            "height": null,
            "justify_content": null,
            "justify_items": null,
            "left": null,
            "margin": null,
            "max_height": null,
            "max_width": null,
            "min_height": null,
            "min_width": null,
            "object_fit": null,
            "object_position": null,
            "order": null,
            "overflow": null,
            "overflow_x": null,
            "overflow_y": null,
            "padding": null,
            "right": null,
            "top": null,
            "visibility": null,
            "width": null
          }
        },
        "4467b36acc344291b6779c73ec456298": {
          "model_module": "@jupyter-widgets/base",
          "model_name": "LayoutModel",
          "model_module_version": "1.2.0",
          "state": {
            "_model_module": "@jupyter-widgets/base",
            "_model_module_version": "1.2.0",
            "_model_name": "LayoutModel",
            "_view_count": null,
            "_view_module": "@jupyter-widgets/base",
            "_view_module_version": "1.2.0",
            "_view_name": "LayoutView",
            "align_content": null,
            "align_items": null,
            "align_self": null,
            "border": null,
            "bottom": null,
            "display": null,
            "flex": null,
            "flex_flow": null,
            "grid_area": null,
            "grid_auto_columns": null,
            "grid_auto_flow": null,
            "grid_auto_rows": null,
            "grid_column": null,
            "grid_gap": null,
            "grid_row": null,
            "grid_template_areas": null,
            "grid_template_columns": null,
            "grid_template_rows": null,
            "height": null,
            "justify_content": null,
            "justify_items": null,
            "left": null,
            "margin": null,
            "max_height": null,
            "max_width": null,
            "min_height": null,
            "min_width": null,
            "object_fit": null,
            "object_position": null,
            "order": null,
            "overflow": null,
            "overflow_x": null,
            "overflow_y": null,
            "padding": null,
            "right": null,
            "top": null,
            "visibility": null,
            "width": null
          }
        },
        "47cd01e2b3994b2ab3fb8ec060eceacd": {
          "model_module": "@jupyter-widgets/controls",
          "model_name": "DescriptionStyleModel",
          "model_module_version": "1.5.0",
          "state": {
            "_model_module": "@jupyter-widgets/controls",
            "_model_module_version": "1.5.0",
            "_model_name": "DescriptionStyleModel",
            "_view_count": null,
            "_view_module": "@jupyter-widgets/base",
            "_view_module_version": "1.2.0",
            "_view_name": "StyleView",
            "description_width": ""
          }
        },
        "eefa8e36e82d4bf0aae8d148a3de2d45": {
          "model_module": "@jupyter-widgets/base",
          "model_name": "LayoutModel",
          "model_module_version": "1.2.0",
          "state": {
            "_model_module": "@jupyter-widgets/base",
            "_model_module_version": "1.2.0",
            "_model_name": "LayoutModel",
            "_view_count": null,
            "_view_module": "@jupyter-widgets/base",
            "_view_module_version": "1.2.0",
            "_view_name": "LayoutView",
            "align_content": null,
            "align_items": null,
            "align_self": null,
            "border": null,
            "bottom": null,
            "display": null,
            "flex": null,
            "flex_flow": null,
            "grid_area": null,
            "grid_auto_columns": null,
            "grid_auto_flow": null,
            "grid_auto_rows": null,
            "grid_column": null,
            "grid_gap": null,
            "grid_row": null,
            "grid_template_areas": null,
            "grid_template_columns": null,
            "grid_template_rows": null,
            "height": null,
            "justify_content": null,
            "justify_items": null,
            "left": null,
            "margin": null,
            "max_height": null,
            "max_width": null,
            "min_height": null,
            "min_width": null,
            "object_fit": null,
            "object_position": null,
            "order": null,
            "overflow": null,
            "overflow_x": null,
            "overflow_y": null,
            "padding": null,
            "right": null,
            "top": null,
            "visibility": null,
            "width": null
          }
        },
        "07f0688e02f543979a3cf87c2c0abfa3": {
          "model_module": "@jupyter-widgets/controls",
          "model_name": "ProgressStyleModel",
          "model_module_version": "1.5.0",
          "state": {
            "_model_module": "@jupyter-widgets/controls",
            "_model_module_version": "1.5.0",
            "_model_name": "ProgressStyleModel",
            "_view_count": null,
            "_view_module": "@jupyter-widgets/base",
            "_view_module_version": "1.2.0",
            "_view_name": "StyleView",
            "bar_color": null,
            "description_width": ""
          }
        },
        "8beba53cf2764ba48b2642dfd2cb8bed": {
          "model_module": "@jupyter-widgets/base",
          "model_name": "LayoutModel",
          "model_module_version": "1.2.0",
          "state": {
            "_model_module": "@jupyter-widgets/base",
            "_model_module_version": "1.2.0",
            "_model_name": "LayoutModel",
            "_view_count": null,
            "_view_module": "@jupyter-widgets/base",
            "_view_module_version": "1.2.0",
            "_view_name": "LayoutView",
            "align_content": null,
            "align_items": null,
            "align_self": null,
            "border": null,
            "bottom": null,
            "display": null,
            "flex": null,
            "flex_flow": null,
            "grid_area": null,
            "grid_auto_columns": null,
            "grid_auto_flow": null,
            "grid_auto_rows": null,
            "grid_column": null,
            "grid_gap": null,
            "grid_row": null,
            "grid_template_areas": null,
            "grid_template_columns": null,
            "grid_template_rows": null,
            "height": null,
            "justify_content": null,
            "justify_items": null,
            "left": null,
            "margin": null,
            "max_height": null,
            "max_width": null,
            "min_height": null,
            "min_width": null,
            "object_fit": null,
            "object_position": null,
            "order": null,
            "overflow": null,
            "overflow_x": null,
            "overflow_y": null,
            "padding": null,
            "right": null,
            "top": null,
            "visibility": null,
            "width": null
          }
        },
        "e111b43cfbbc477ea94b35a2769c073d": {
          "model_module": "@jupyter-widgets/controls",
          "model_name": "DescriptionStyleModel",
          "model_module_version": "1.5.0",
          "state": {
            "_model_module": "@jupyter-widgets/controls",
            "_model_module_version": "1.5.0",
            "_model_name": "DescriptionStyleModel",
            "_view_count": null,
            "_view_module": "@jupyter-widgets/base",
            "_view_module_version": "1.2.0",
            "_view_name": "StyleView",
            "description_width": ""
          }
        },
        "ca1b78199bbf49068d3a621aa85f2708": {
          "model_module": "@jupyter-widgets/controls",
          "model_name": "HBoxModel",
          "model_module_version": "1.5.0",
          "state": {
            "_dom_classes": [],
            "_model_module": "@jupyter-widgets/controls",
            "_model_module_version": "1.5.0",
            "_model_name": "HBoxModel",
            "_view_count": null,
            "_view_module": "@jupyter-widgets/controls",
            "_view_module_version": "1.5.0",
            "_view_name": "HBoxView",
            "box_style": "",
            "children": [
              "IPY_MODEL_36342b0215b54fd4b5423d08bd562fef",
              "IPY_MODEL_c0df4ccc05ef49bd833c273b3f56b26c",
              "IPY_MODEL_59a913ee673c4b41b7aaba3b90c0dfc3"
            ],
            "layout": "IPY_MODEL_be5601d50e4b4249aef83e940086ed6b"
          }
        },
        "36342b0215b54fd4b5423d08bd562fef": {
          "model_module": "@jupyter-widgets/controls",
          "model_name": "HTMLModel",
          "model_module_version": "1.5.0",
          "state": {
            "_dom_classes": [],
            "_model_module": "@jupyter-widgets/controls",
            "_model_module_version": "1.5.0",
            "_model_name": "HTMLModel",
            "_view_count": null,
            "_view_module": "@jupyter-widgets/controls",
            "_view_module_version": "1.5.0",
            "_view_name": "HTMLView",
            "description": "",
            "description_tooltip": null,
            "layout": "IPY_MODEL_ec6c785a835643b89e1a4e3e3c2395bb",
            "placeholder": "​",
            "style": "IPY_MODEL_29e2505f5e9144a18f3ee2474310e134",
            "value": "model.safetensors: 100%"
          }
        },
        "c0df4ccc05ef49bd833c273b3f56b26c": {
          "model_module": "@jupyter-widgets/controls",
          "model_name": "FloatProgressModel",
          "model_module_version": "1.5.0",
          "state": {
            "_dom_classes": [],
            "_model_module": "@jupyter-widgets/controls",
            "_model_module_version": "1.5.0",
            "_model_name": "FloatProgressModel",
            "_view_count": null,
            "_view_module": "@jupyter-widgets/controls",
            "_view_module_version": "1.5.0",
            "_view_name": "ProgressView",
            "bar_style": "success",
            "description": "",
            "description_tooltip": null,
            "layout": "IPY_MODEL_6875158b436640248d21f836eb1f2f91",
            "max": 267832558,
            "min": 0,
            "orientation": "horizontal",
            "style": "IPY_MODEL_e1a99b7cbc69487b901df10af2910bc6",
            "value": 267832558
          }
        },
        "59a913ee673c4b41b7aaba3b90c0dfc3": {
          "model_module": "@jupyter-widgets/controls",
          "model_name": "HTMLModel",
          "model_module_version": "1.5.0",
          "state": {
            "_dom_classes": [],
            "_model_module": "@jupyter-widgets/controls",
            "_model_module_version": "1.5.0",
            "_model_name": "HTMLModel",
            "_view_count": null,
            "_view_module": "@jupyter-widgets/controls",
            "_view_module_version": "1.5.0",
            "_view_name": "HTMLView",
            "description": "",
            "description_tooltip": null,
            "layout": "IPY_MODEL_cf80a72f7288478eb3c6875e181ff331",
            "placeholder": "​",
            "style": "IPY_MODEL_87819ae2bb584c4da55bdd92061f7f2d",
            "value": " 268M/268M [00:02&lt;00:00, 126MB/s]"
          }
        },
        "be5601d50e4b4249aef83e940086ed6b": {
          "model_module": "@jupyter-widgets/base",
          "model_name": "LayoutModel",
          "model_module_version": "1.2.0",
          "state": {
            "_model_module": "@jupyter-widgets/base",
            "_model_module_version": "1.2.0",
            "_model_name": "LayoutModel",
            "_view_count": null,
            "_view_module": "@jupyter-widgets/base",
            "_view_module_version": "1.2.0",
            "_view_name": "LayoutView",
            "align_content": null,
            "align_items": null,
            "align_self": null,
            "border": null,
            "bottom": null,
            "display": null,
            "flex": null,
            "flex_flow": null,
            "grid_area": null,
            "grid_auto_columns": null,
            "grid_auto_flow": null,
            "grid_auto_rows": null,
            "grid_column": null,
            "grid_gap": null,
            "grid_row": null,
            "grid_template_areas": null,
            "grid_template_columns": null,
            "grid_template_rows": null,
            "height": null,
            "justify_content": null,
            "justify_items": null,
            "left": null,
            "margin": null,
            "max_height": null,
            "max_width": null,
            "min_height": null,
            "min_width": null,
            "object_fit": null,
            "object_position": null,
            "order": null,
            "overflow": null,
            "overflow_x": null,
            "overflow_y": null,
            "padding": null,
            "right": null,
            "top": null,
            "visibility": null,
            "width": null
          }
        },
        "ec6c785a835643b89e1a4e3e3c2395bb": {
          "model_module": "@jupyter-widgets/base",
          "model_name": "LayoutModel",
          "model_module_version": "1.2.0",
          "state": {
            "_model_module": "@jupyter-widgets/base",
            "_model_module_version": "1.2.0",
            "_model_name": "LayoutModel",
            "_view_count": null,
            "_view_module": "@jupyter-widgets/base",
            "_view_module_version": "1.2.0",
            "_view_name": "LayoutView",
            "align_content": null,
            "align_items": null,
            "align_self": null,
            "border": null,
            "bottom": null,
            "display": null,
            "flex": null,
            "flex_flow": null,
            "grid_area": null,
            "grid_auto_columns": null,
            "grid_auto_flow": null,
            "grid_auto_rows": null,
            "grid_column": null,
            "grid_gap": null,
            "grid_row": null,
            "grid_template_areas": null,
            "grid_template_columns": null,
            "grid_template_rows": null,
            "height": null,
            "justify_content": null,
            "justify_items": null,
            "left": null,
            "margin": null,
            "max_height": null,
            "max_width": null,
            "min_height": null,
            "min_width": null,
            "object_fit": null,
            "object_position": null,
            "order": null,
            "overflow": null,
            "overflow_x": null,
            "overflow_y": null,
            "padding": null,
            "right": null,
            "top": null,
            "visibility": null,
            "width": null
          }
        },
        "29e2505f5e9144a18f3ee2474310e134": {
          "model_module": "@jupyter-widgets/controls",
          "model_name": "DescriptionStyleModel",
          "model_module_version": "1.5.0",
          "state": {
            "_model_module": "@jupyter-widgets/controls",
            "_model_module_version": "1.5.0",
            "_model_name": "DescriptionStyleModel",
            "_view_count": null,
            "_view_module": "@jupyter-widgets/base",
            "_view_module_version": "1.2.0",
            "_view_name": "StyleView",
            "description_width": ""
          }
        },
        "6875158b436640248d21f836eb1f2f91": {
          "model_module": "@jupyter-widgets/base",
          "model_name": "LayoutModel",
          "model_module_version": "1.2.0",
          "state": {
            "_model_module": "@jupyter-widgets/base",
            "_model_module_version": "1.2.0",
            "_model_name": "LayoutModel",
            "_view_count": null,
            "_view_module": "@jupyter-widgets/base",
            "_view_module_version": "1.2.0",
            "_view_name": "LayoutView",
            "align_content": null,
            "align_items": null,
            "align_self": null,
            "border": null,
            "bottom": null,
            "display": null,
            "flex": null,
            "flex_flow": null,
            "grid_area": null,
            "grid_auto_columns": null,
            "grid_auto_flow": null,
            "grid_auto_rows": null,
            "grid_column": null,
            "grid_gap": null,
            "grid_row": null,
            "grid_template_areas": null,
            "grid_template_columns": null,
            "grid_template_rows": null,
            "height": null,
            "justify_content": null,
            "justify_items": null,
            "left": null,
            "margin": null,
            "max_height": null,
            "max_width": null,
            "min_height": null,
            "min_width": null,
            "object_fit": null,
            "object_position": null,
            "order": null,
            "overflow": null,
            "overflow_x": null,
            "overflow_y": null,
            "padding": null,
            "right": null,
            "top": null,
            "visibility": null,
            "width": null
          }
        },
        "e1a99b7cbc69487b901df10af2910bc6": {
          "model_module": "@jupyter-widgets/controls",
          "model_name": "ProgressStyleModel",
          "model_module_version": "1.5.0",
          "state": {
            "_model_module": "@jupyter-widgets/controls",
            "_model_module_version": "1.5.0",
            "_model_name": "ProgressStyleModel",
            "_view_count": null,
            "_view_module": "@jupyter-widgets/base",
            "_view_module_version": "1.2.0",
            "_view_name": "StyleView",
            "bar_color": null,
            "description_width": ""
          }
        },
        "cf80a72f7288478eb3c6875e181ff331": {
          "model_module": "@jupyter-widgets/base",
          "model_name": "LayoutModel",
          "model_module_version": "1.2.0",
          "state": {
            "_model_module": "@jupyter-widgets/base",
            "_model_module_version": "1.2.0",
            "_model_name": "LayoutModel",
            "_view_count": null,
            "_view_module": "@jupyter-widgets/base",
            "_view_module_version": "1.2.0",
            "_view_name": "LayoutView",
            "align_content": null,
            "align_items": null,
            "align_self": null,
            "border": null,
            "bottom": null,
            "display": null,
            "flex": null,
            "flex_flow": null,
            "grid_area": null,
            "grid_auto_columns": null,
            "grid_auto_flow": null,
            "grid_auto_rows": null,
            "grid_column": null,
            "grid_gap": null,
            "grid_row": null,
            "grid_template_areas": null,
            "grid_template_columns": null,
            "grid_template_rows": null,
            "height": null,
            "justify_content": null,
            "justify_items": null,
            "left": null,
            "margin": null,
            "max_height": null,
            "max_width": null,
            "min_height": null,
            "min_width": null,
            "object_fit": null,
            "object_position": null,
            "order": null,
            "overflow": null,
            "overflow_x": null,
            "overflow_y": null,
            "padding": null,
            "right": null,
            "top": null,
            "visibility": null,
            "width": null
          }
        },
        "87819ae2bb584c4da55bdd92061f7f2d": {
          "model_module": "@jupyter-widgets/controls",
          "model_name": "DescriptionStyleModel",
          "model_module_version": "1.5.0",
          "state": {
            "_model_module": "@jupyter-widgets/controls",
            "_model_module_version": "1.5.0",
            "_model_name": "DescriptionStyleModel",
            "_view_count": null,
            "_view_module": "@jupyter-widgets/base",
            "_view_module_version": "1.2.0",
            "_view_name": "StyleView",
            "description_width": ""
          }
        },
        "5f28f9670dbb4ff4bd43cef056af16e6": {
          "model_module": "@jupyter-widgets/controls",
          "model_name": "HBoxModel",
          "model_module_version": "1.5.0",
          "state": {
            "_dom_classes": [],
            "_model_module": "@jupyter-widgets/controls",
            "_model_module_version": "1.5.0",
            "_model_name": "HBoxModel",
            "_view_count": null,
            "_view_module": "@jupyter-widgets/controls",
            "_view_module_version": "1.5.0",
            "_view_name": "HBoxView",
            "box_style": "",
            "children": [
              "IPY_MODEL_97a74a6842444b669d4729c95c79cc7d",
              "IPY_MODEL_1849b41a310444aba78c5879af8a60e8",
              "IPY_MODEL_d96632bbcf9c4bf194cc2b2be21e9709"
            ],
            "layout": "IPY_MODEL_9133af113c5d4797ab37e153a7f2fd7b"
          }
        },
        "97a74a6842444b669d4729c95c79cc7d": {
          "model_module": "@jupyter-widgets/controls",
          "model_name": "HTMLModel",
          "model_module_version": "1.5.0",
          "state": {
            "_dom_classes": [],
            "_model_module": "@jupyter-widgets/controls",
            "_model_module_version": "1.5.0",
            "_model_name": "HTMLModel",
            "_view_count": null,
            "_view_module": "@jupyter-widgets/controls",
            "_view_module_version": "1.5.0",
            "_view_name": "HTMLView",
            "description": "",
            "description_tooltip": null,
            "layout": "IPY_MODEL_038ba2e3fa7445f1b2ba0388cb73cc68",
            "placeholder": "​",
            "style": "IPY_MODEL_e1ae7e421976482ca9d9fce98cf8d095",
            "value": "tokenizer_config.json: 100%"
          }
        },
        "1849b41a310444aba78c5879af8a60e8": {
          "model_module": "@jupyter-widgets/controls",
          "model_name": "FloatProgressModel",
          "model_module_version": "1.5.0",
          "state": {
            "_dom_classes": [],
            "_model_module": "@jupyter-widgets/controls",
            "_model_module_version": "1.5.0",
            "_model_name": "FloatProgressModel",
            "_view_count": null,
            "_view_module": "@jupyter-widgets/controls",
            "_view_module_version": "1.5.0",
            "_view_name": "ProgressView",
            "bar_style": "success",
            "description": "",
            "description_tooltip": null,
            "layout": "IPY_MODEL_baa6df5eebaf41d3b347a6b3717d77a4",
            "max": 48,
            "min": 0,
            "orientation": "horizontal",
            "style": "IPY_MODEL_161da38d616b47f19d24815aec12b43d",
            "value": 48
          }
        },
        "d96632bbcf9c4bf194cc2b2be21e9709": {
          "model_module": "@jupyter-widgets/controls",
          "model_name": "HTMLModel",
          "model_module_version": "1.5.0",
          "state": {
            "_dom_classes": [],
            "_model_module": "@jupyter-widgets/controls",
            "_model_module_version": "1.5.0",
            "_model_name": "HTMLModel",
            "_view_count": null,
            "_view_module": "@jupyter-widgets/controls",
            "_view_module_version": "1.5.0",
            "_view_name": "HTMLView",
            "description": "",
            "description_tooltip": null,
            "layout": "IPY_MODEL_34315295ac4f4e3b8030a22136264c0a",
            "placeholder": "​",
            "style": "IPY_MODEL_a6eac7dc5d1c4824b5e443bee487a7e6",
            "value": " 48.0/48.0 [00:00&lt;00:00, 2.96kB/s]"
          }
        },
        "9133af113c5d4797ab37e153a7f2fd7b": {
          "model_module": "@jupyter-widgets/base",
          "model_name": "LayoutModel",
          "model_module_version": "1.2.0",
          "state": {
            "_model_module": "@jupyter-widgets/base",
            "_model_module_version": "1.2.0",
            "_model_name": "LayoutModel",
            "_view_count": null,
            "_view_module": "@jupyter-widgets/base",
            "_view_module_version": "1.2.0",
            "_view_name": "LayoutView",
            "align_content": null,
            "align_items": null,
            "align_self": null,
            "border": null,
            "bottom": null,
            "display": null,
            "flex": null,
            "flex_flow": null,
            "grid_area": null,
            "grid_auto_columns": null,
            "grid_auto_flow": null,
            "grid_auto_rows": null,
            "grid_column": null,
            "grid_gap": null,
            "grid_row": null,
            "grid_template_areas": null,
            "grid_template_columns": null,
            "grid_template_rows": null,
            "height": null,
            "justify_content": null,
            "justify_items": null,
            "left": null,
            "margin": null,
            "max_height": null,
            "max_width": null,
            "min_height": null,
            "min_width": null,
            "object_fit": null,
            "object_position": null,
            "order": null,
            "overflow": null,
            "overflow_x": null,
            "overflow_y": null,
            "padding": null,
            "right": null,
            "top": null,
            "visibility": null,
            "width": null
          }
        },
        "038ba2e3fa7445f1b2ba0388cb73cc68": {
          "model_module": "@jupyter-widgets/base",
          "model_name": "LayoutModel",
          "model_module_version": "1.2.0",
          "state": {
            "_model_module": "@jupyter-widgets/base",
            "_model_module_version": "1.2.0",
            "_model_name": "LayoutModel",
            "_view_count": null,
            "_view_module": "@jupyter-widgets/base",
            "_view_module_version": "1.2.0",
            "_view_name": "LayoutView",
            "align_content": null,
            "align_items": null,
            "align_self": null,
            "border": null,
            "bottom": null,
            "display": null,
            "flex": null,
            "flex_flow": null,
            "grid_area": null,
            "grid_auto_columns": null,
            "grid_auto_flow": null,
            "grid_auto_rows": null,
            "grid_column": null,
            "grid_gap": null,
            "grid_row": null,
            "grid_template_areas": null,
            "grid_template_columns": null,
            "grid_template_rows": null,
            "height": null,
            "justify_content": null,
            "justify_items": null,
            "left": null,
            "margin": null,
            "max_height": null,
            "max_width": null,
            "min_height": null,
            "min_width": null,
            "object_fit": null,
            "object_position": null,
            "order": null,
            "overflow": null,
            "overflow_x": null,
            "overflow_y": null,
            "padding": null,
            "right": null,
            "top": null,
            "visibility": null,
            "width": null
          }
        },
        "e1ae7e421976482ca9d9fce98cf8d095": {
          "model_module": "@jupyter-widgets/controls",
          "model_name": "DescriptionStyleModel",
          "model_module_version": "1.5.0",
          "state": {
            "_model_module": "@jupyter-widgets/controls",
            "_model_module_version": "1.5.0",
            "_model_name": "DescriptionStyleModel",
            "_view_count": null,
            "_view_module": "@jupyter-widgets/base",
            "_view_module_version": "1.2.0",
            "_view_name": "StyleView",
            "description_width": ""
          }
        },
        "baa6df5eebaf41d3b347a6b3717d77a4": {
          "model_module": "@jupyter-widgets/base",
          "model_name": "LayoutModel",
          "model_module_version": "1.2.0",
          "state": {
            "_model_module": "@jupyter-widgets/base",
            "_model_module_version": "1.2.0",
            "_model_name": "LayoutModel",
            "_view_count": null,
            "_view_module": "@jupyter-widgets/base",
            "_view_module_version": "1.2.0",
            "_view_name": "LayoutView",
            "align_content": null,
            "align_items": null,
            "align_self": null,
            "border": null,
            "bottom": null,
            "display": null,
            "flex": null,
            "flex_flow": null,
            "grid_area": null,
            "grid_auto_columns": null,
            "grid_auto_flow": null,
            "grid_auto_rows": null,
            "grid_column": null,
            "grid_gap": null,
            "grid_row": null,
            "grid_template_areas": null,
            "grid_template_columns": null,
            "grid_template_rows": null,
            "height": null,
            "justify_content": null,
            "justify_items": null,
            "left": null,
            "margin": null,
            "max_height": null,
            "max_width": null,
            "min_height": null,
            "min_width": null,
            "object_fit": null,
            "object_position": null,
            "order": null,
            "overflow": null,
            "overflow_x": null,
            "overflow_y": null,
            "padding": null,
            "right": null,
            "top": null,
            "visibility": null,
            "width": null
          }
        },
        "161da38d616b47f19d24815aec12b43d": {
          "model_module": "@jupyter-widgets/controls",
          "model_name": "ProgressStyleModel",
          "model_module_version": "1.5.0",
          "state": {
            "_model_module": "@jupyter-widgets/controls",
            "_model_module_version": "1.5.0",
            "_model_name": "ProgressStyleModel",
            "_view_count": null,
            "_view_module": "@jupyter-widgets/base",
            "_view_module_version": "1.2.0",
            "_view_name": "StyleView",
            "bar_color": null,
            "description_width": ""
          }
        },
        "34315295ac4f4e3b8030a22136264c0a": {
          "model_module": "@jupyter-widgets/base",
          "model_name": "LayoutModel",
          "model_module_version": "1.2.0",
          "state": {
            "_model_module": "@jupyter-widgets/base",
            "_model_module_version": "1.2.0",
            "_model_name": "LayoutModel",
            "_view_count": null,
            "_view_module": "@jupyter-widgets/base",
            "_view_module_version": "1.2.0",
            "_view_name": "LayoutView",
            "align_content": null,
            "align_items": null,
            "align_self": null,
            "border": null,
            "bottom": null,
            "display": null,
            "flex": null,
            "flex_flow": null,
            "grid_area": null,
            "grid_auto_columns": null,
            "grid_auto_flow": null,
            "grid_auto_rows": null,
            "grid_column": null,
            "grid_gap": null,
            "grid_row": null,
            "grid_template_areas": null,
            "grid_template_columns": null,
            "grid_template_rows": null,
            "height": null,
            "justify_content": null,
            "justify_items": null,
            "left": null,
            "margin": null,
            "max_height": null,
            "max_width": null,
            "min_height": null,
            "min_width": null,
            "object_fit": null,
            "object_position": null,
            "order": null,
            "overflow": null,
            "overflow_x": null,
            "overflow_y": null,
            "padding": null,
            "right": null,
            "top": null,
            "visibility": null,
            "width": null
          }
        },
        "a6eac7dc5d1c4824b5e443bee487a7e6": {
          "model_module": "@jupyter-widgets/controls",
          "model_name": "DescriptionStyleModel",
          "model_module_version": "1.5.0",
          "state": {
            "_model_module": "@jupyter-widgets/controls",
            "_model_module_version": "1.5.0",
            "_model_name": "DescriptionStyleModel",
            "_view_count": null,
            "_view_module": "@jupyter-widgets/base",
            "_view_module_version": "1.2.0",
            "_view_name": "StyleView",
            "description_width": ""
          }
        },
        "115bd56a5d1e4bae8b24edee6e223514": {
          "model_module": "@jupyter-widgets/controls",
          "model_name": "HBoxModel",
          "model_module_version": "1.5.0",
          "state": {
            "_dom_classes": [],
            "_model_module": "@jupyter-widgets/controls",
            "_model_module_version": "1.5.0",
            "_model_name": "HBoxModel",
            "_view_count": null,
            "_view_module": "@jupyter-widgets/controls",
            "_view_module_version": "1.5.0",
            "_view_name": "HBoxView",
            "box_style": "",
            "children": [
              "IPY_MODEL_aa32770c5ef04960bacca0ceb68b75f2",
              "IPY_MODEL_4698e1d9fac848eebdd84eff769a1d00",
              "IPY_MODEL_bce7110bdebc47fabdb1effabcb39dd2"
            ],
            "layout": "IPY_MODEL_84ab5d7fa4c7421795620e0ec42e3a4d"
          }
        },
        "aa32770c5ef04960bacca0ceb68b75f2": {
          "model_module": "@jupyter-widgets/controls",
          "model_name": "HTMLModel",
          "model_module_version": "1.5.0",
          "state": {
            "_dom_classes": [],
            "_model_module": "@jupyter-widgets/controls",
            "_model_module_version": "1.5.0",
            "_model_name": "HTMLModel",
            "_view_count": null,
            "_view_module": "@jupyter-widgets/controls",
            "_view_module_version": "1.5.0",
            "_view_name": "HTMLView",
            "description": "",
            "description_tooltip": null,
            "layout": "IPY_MODEL_8b95afd81e874f2ba914c10545b07801",
            "placeholder": "​",
            "style": "IPY_MODEL_64c882edb82c49aab543d35bcc495a23",
            "value": "vocab.txt: 100%"
          }
        },
        "4698e1d9fac848eebdd84eff769a1d00": {
          "model_module": "@jupyter-widgets/controls",
          "model_name": "FloatProgressModel",
          "model_module_version": "1.5.0",
          "state": {
            "_dom_classes": [],
            "_model_module": "@jupyter-widgets/controls",
            "_model_module_version": "1.5.0",
            "_model_name": "FloatProgressModel",
            "_view_count": null,
            "_view_module": "@jupyter-widgets/controls",
            "_view_module_version": "1.5.0",
            "_view_name": "ProgressView",
            "bar_style": "success",
            "description": "",
            "description_tooltip": null,
            "layout": "IPY_MODEL_88fcaeca8782407081451b82d6bbd462",
            "max": 231508,
            "min": 0,
            "orientation": "horizontal",
            "style": "IPY_MODEL_a684744c44d94487b1eaf4806f2e5615",
            "value": 231508
          }
        },
        "bce7110bdebc47fabdb1effabcb39dd2": {
          "model_module": "@jupyter-widgets/controls",
          "model_name": "HTMLModel",
          "model_module_version": "1.5.0",
          "state": {
            "_dom_classes": [],
            "_model_module": "@jupyter-widgets/controls",
            "_model_module_version": "1.5.0",
            "_model_name": "HTMLModel",
            "_view_count": null,
            "_view_module": "@jupyter-widgets/controls",
            "_view_module_version": "1.5.0",
            "_view_name": "HTMLView",
            "description": "",
            "description_tooltip": null,
            "layout": "IPY_MODEL_5809ff0423714234ae2720dcfaa746f9",
            "placeholder": "​",
            "style": "IPY_MODEL_5b44cfd47f0b400c82fae19f0a6f3c53",
            "value": " 232k/232k [00:00&lt;00:00, 3.96MB/s]"
          }
        },
        "84ab5d7fa4c7421795620e0ec42e3a4d": {
          "model_module": "@jupyter-widgets/base",
          "model_name": "LayoutModel",
          "model_module_version": "1.2.0",
          "state": {
            "_model_module": "@jupyter-widgets/base",
            "_model_module_version": "1.2.0",
            "_model_name": "LayoutModel",
            "_view_count": null,
            "_view_module": "@jupyter-widgets/base",
            "_view_module_version": "1.2.0",
            "_view_name": "LayoutView",
            "align_content": null,
            "align_items": null,
            "align_self": null,
            "border": null,
            "bottom": null,
            "display": null,
            "flex": null,
            "flex_flow": null,
            "grid_area": null,
            "grid_auto_columns": null,
            "grid_auto_flow": null,
            "grid_auto_rows": null,
            "grid_column": null,
            "grid_gap": null,
            "grid_row": null,
            "grid_template_areas": null,
            "grid_template_columns": null,
            "grid_template_rows": null,
            "height": null,
            "justify_content": null,
            "justify_items": null,
            "left": null,
            "margin": null,
            "max_height": null,
            "max_width": null,
            "min_height": null,
            "min_width": null,
            "object_fit": null,
            "object_position": null,
            "order": null,
            "overflow": null,
            "overflow_x": null,
            "overflow_y": null,
            "padding": null,
            "right": null,
            "top": null,
            "visibility": null,
            "width": null
          }
        },
        "8b95afd81e874f2ba914c10545b07801": {
          "model_module": "@jupyter-widgets/base",
          "model_name": "LayoutModel",
          "model_module_version": "1.2.0",
          "state": {
            "_model_module": "@jupyter-widgets/base",
            "_model_module_version": "1.2.0",
            "_model_name": "LayoutModel",
            "_view_count": null,
            "_view_module": "@jupyter-widgets/base",
            "_view_module_version": "1.2.0",
            "_view_name": "LayoutView",
            "align_content": null,
            "align_items": null,
            "align_self": null,
            "border": null,
            "bottom": null,
            "display": null,
            "flex": null,
            "flex_flow": null,
            "grid_area": null,
            "grid_auto_columns": null,
            "grid_auto_flow": null,
            "grid_auto_rows": null,
            "grid_column": null,
            "grid_gap": null,
            "grid_row": null,
            "grid_template_areas": null,
            "grid_template_columns": null,
            "grid_template_rows": null,
            "height": null,
            "justify_content": null,
            "justify_items": null,
            "left": null,
            "margin": null,
            "max_height": null,
            "max_width": null,
            "min_height": null,
            "min_width": null,
            "object_fit": null,
            "object_position": null,
            "order": null,
            "overflow": null,
            "overflow_x": null,
            "overflow_y": null,
            "padding": null,
            "right": null,
            "top": null,
            "visibility": null,
            "width": null
          }
        },
        "64c882edb82c49aab543d35bcc495a23": {
          "model_module": "@jupyter-widgets/controls",
          "model_name": "DescriptionStyleModel",
          "model_module_version": "1.5.0",
          "state": {
            "_model_module": "@jupyter-widgets/controls",
            "_model_module_version": "1.5.0",
            "_model_name": "DescriptionStyleModel",
            "_view_count": null,
            "_view_module": "@jupyter-widgets/base",
            "_view_module_version": "1.2.0",
            "_view_name": "StyleView",
            "description_width": ""
          }
        },
        "88fcaeca8782407081451b82d6bbd462": {
          "model_module": "@jupyter-widgets/base",
          "model_name": "LayoutModel",
          "model_module_version": "1.2.0",
          "state": {
            "_model_module": "@jupyter-widgets/base",
            "_model_module_version": "1.2.0",
            "_model_name": "LayoutModel",
            "_view_count": null,
            "_view_module": "@jupyter-widgets/base",
            "_view_module_version": "1.2.0",
            "_view_name": "LayoutView",
            "align_content": null,
            "align_items": null,
            "align_self": null,
            "border": null,
            "bottom": null,
            "display": null,
            "flex": null,
            "flex_flow": null,
            "grid_area": null,
            "grid_auto_columns": null,
            "grid_auto_flow": null,
            "grid_auto_rows": null,
            "grid_column": null,
            "grid_gap": null,
            "grid_row": null,
            "grid_template_areas": null,
            "grid_template_columns": null,
            "grid_template_rows": null,
            "height": null,
            "justify_content": null,
            "justify_items": null,
            "left": null,
            "margin": null,
            "max_height": null,
            "max_width": null,
            "min_height": null,
            "min_width": null,
            "object_fit": null,
            "object_position": null,
            "order": null,
            "overflow": null,
            "overflow_x": null,
            "overflow_y": null,
            "padding": null,
            "right": null,
            "top": null,
            "visibility": null,
            "width": null
          }
        },
        "a684744c44d94487b1eaf4806f2e5615": {
          "model_module": "@jupyter-widgets/controls",
          "model_name": "ProgressStyleModel",
          "model_module_version": "1.5.0",
          "state": {
            "_model_module": "@jupyter-widgets/controls",
            "_model_module_version": "1.5.0",
            "_model_name": "ProgressStyleModel",
            "_view_count": null,
            "_view_module": "@jupyter-widgets/base",
            "_view_module_version": "1.2.0",
            "_view_name": "StyleView",
            "bar_color": null,
            "description_width": ""
          }
        },
        "5809ff0423714234ae2720dcfaa746f9": {
          "model_module": "@jupyter-widgets/base",
          "model_name": "LayoutModel",
          "model_module_version": "1.2.0",
          "state": {
            "_model_module": "@jupyter-widgets/base",
            "_model_module_version": "1.2.0",
            "_model_name": "LayoutModel",
            "_view_count": null,
            "_view_module": "@jupyter-widgets/base",
            "_view_module_version": "1.2.0",
            "_view_name": "LayoutView",
            "align_content": null,
            "align_items": null,
            "align_self": null,
            "border": null,
            "bottom": null,
            "display": null,
            "flex": null,
            "flex_flow": null,
            "grid_area": null,
            "grid_auto_columns": null,
            "grid_auto_flow": null,
            "grid_auto_rows": null,
            "grid_column": null,
            "grid_gap": null,
            "grid_row": null,
            "grid_template_areas": null,
            "grid_template_columns": null,
            "grid_template_rows": null,
            "height": null,
            "justify_content": null,
            "justify_items": null,
            "left": null,
            "margin": null,
            "max_height": null,
            "max_width": null,
            "min_height": null,
            "min_width": null,
            "object_fit": null,
            "object_position": null,
            "order": null,
            "overflow": null,
            "overflow_x": null,
            "overflow_y": null,
            "padding": null,
            "right": null,
            "top": null,
            "visibility": null,
            "width": null
          }
        },
        "5b44cfd47f0b400c82fae19f0a6f3c53": {
          "model_module": "@jupyter-widgets/controls",
          "model_name": "DescriptionStyleModel",
          "model_module_version": "1.5.0",
          "state": {
            "_model_module": "@jupyter-widgets/controls",
            "_model_module_version": "1.5.0",
            "_model_name": "DescriptionStyleModel",
            "_view_count": null,
            "_view_module": "@jupyter-widgets/base",
            "_view_module_version": "1.2.0",
            "_view_name": "StyleView",
            "description_width": ""
          }
        }
      }
    }
  },
  "cells": [
    {
      "cell_type": "markdown",
      "source": [
        "## 1. Install and Import Baseline Dependencies"
      ],
      "metadata": {
        "id": "9QAtuVZJ_ynj"
      }
    },
    {
      "cell_type": "code",
      "execution_count": 1,
      "metadata": {
        "colab": {
          "base_uri": "https://localhost:8080/"
        },
        "id": "zcUMZFVG_rLz",
        "outputId": "7310d191-adc6-4ed7-f1a3-005ce9a8008d"
      },
      "outputs": [
        {
          "output_type": "stream",
          "name": "stdout",
          "text": [
            "Requirement already satisfied: transformers in /usr/local/lib/python3.10/dist-packages (4.46.2)\n",
            "Requirement already satisfied: filelock in /usr/local/lib/python3.10/dist-packages (from transformers) (3.16.1)\n",
            "Requirement already satisfied: huggingface-hub<1.0,>=0.23.2 in /usr/local/lib/python3.10/dist-packages (from transformers) (0.26.2)\n",
            "Requirement already satisfied: numpy>=1.17 in /usr/local/lib/python3.10/dist-packages (from transformers) (1.26.4)\n",
            "Requirement already satisfied: packaging>=20.0 in /usr/local/lib/python3.10/dist-packages (from transformers) (24.2)\n",
            "Requirement already satisfied: pyyaml>=5.1 in /usr/local/lib/python3.10/dist-packages (from transformers) (6.0.2)\n",
            "Requirement already satisfied: regex!=2019.12.17 in /usr/local/lib/python3.10/dist-packages (from transformers) (2024.9.11)\n",
            "Requirement already satisfied: requests in /usr/local/lib/python3.10/dist-packages (from transformers) (2.32.3)\n",
            "Requirement already satisfied: safetensors>=0.4.1 in /usr/local/lib/python3.10/dist-packages (from transformers) (0.4.5)\n",
            "Requirement already satisfied: tokenizers<0.21,>=0.20 in /usr/local/lib/python3.10/dist-packages (from transformers) (0.20.3)\n",
            "Requirement already satisfied: tqdm>=4.27 in /usr/local/lib/python3.10/dist-packages (from transformers) (4.66.6)\n",
            "Requirement already satisfied: fsspec>=2023.5.0 in /usr/local/lib/python3.10/dist-packages (from huggingface-hub<1.0,>=0.23.2->transformers) (2024.10.0)\n",
            "Requirement already satisfied: typing-extensions>=3.7.4.3 in /usr/local/lib/python3.10/dist-packages (from huggingface-hub<1.0,>=0.23.2->transformers) (4.12.2)\n",
            "Requirement already satisfied: charset-normalizer<4,>=2 in /usr/local/lib/python3.10/dist-packages (from requests->transformers) (3.4.0)\n",
            "Requirement already satisfied: idna<4,>=2.5 in /usr/local/lib/python3.10/dist-packages (from requests->transformers) (3.10)\n",
            "Requirement already satisfied: urllib3<3,>=1.21.1 in /usr/local/lib/python3.10/dist-packages (from requests->transformers) (2.2.3)\n",
            "Requirement already satisfied: certifi>=2017.4.17 in /usr/local/lib/python3.10/dist-packages (from requests->transformers) (2024.8.30)\n"
          ]
        }
      ],
      "source": [
        "!pip install transformers\n"
      ]
    },
    {
      "cell_type": "code",
      "source": [
        "from transformers import PegasusTokenizer, PegasusForConditionalGeneration\n",
        "from bs4 import BeautifulSoup\n",
        "import requests"
      ],
      "metadata": {
        "id": "wMJlXVyC_6XD"
      },
      "execution_count": 2,
      "outputs": []
    },
    {
      "cell_type": "markdown",
      "source": [
        "## 2. Setup Summarization Model\n"
      ],
      "metadata": {
        "id": "0c3ntLT4_8-f"
      }
    },
    {
      "cell_type": "code",
      "source": [
        "model_name = \"human-centered-summarization/financial-summarization-pegasus\"\n",
        "tokenizer = PegasusTokenizer.from_pretrained(model_name)\n",
        "model = PegasusForConditionalGeneration.from_pretrained(model_name)"
      ],
      "metadata": {
        "colab": {
          "base_uri": "https://localhost:8080/",
          "height": 336,
          "referenced_widgets": [
            "dff674ee13824cc280e3d1a3056456f4",
            "c597a569798d4045a40fea3280f0b1c0",
            "9def969016214337868f7b1b5ca40951",
            "6b9bc6e4a7b3468e853308f50e8685db",
            "d78817060a134be383458f8c7d88db9d",
            "0399819b51414671a590e62682fea4f2",
            "0133745273124d1eba6fc562292b83c4",
            "33c9ea8476254f1fab10bdbf57a32f51",
            "540334794d404e9aa3719ce29ccecc8c",
            "0b7280128fee40b79e483d6a79a5ed13",
            "242335ec75a94f068b9b67a6edaca30a",
            "dad657f15546449fb7faedd477c78154",
            "fb7072108d95439ab775f5b1a60b71c2",
            "91c66a9f24364cbab776ef35b3f6f040",
            "f7e5ceca497d4b71ba8f89009d7486d1",
            "725aa0ef82bb4105bea02cb0b9b3fc1e",
            "60d366b8c4df43fe9d7266de247b1c19",
            "7814b8f713f34dd6a351fa4d51dcb6e3",
            "69391e138f7346079b90568b21470878",
            "a1bb02b8759f43a78c488ca5a8e5b28f",
            "3f729a334a0945e18fe8573efe6e3256",
            "e3f6c296e6224156a6e2ef552e6ef36a",
            "f00d7c009b154ef089e70282ab02726c",
            "c67d2653df5a45ae830d5e640dc71af3",
            "e5933522bf004d999133b2ba221563be",
            "ec0fe39d8e184a8eb2b0b4d1531318e6",
            "b3691f2cf5474fafa0cfd2d55769bbe4",
            "bbbdeff061af412191bfbac9f2f3b66d",
            "ca822093c1a84e00ad3ffaf3aef08f3d",
            "333cc69359dc4f4da6fb002fd0c282e5",
            "3791a4e724374c6bb107c29f89a696bb",
            "3d3ee9888ea24099a7de137e9a1696b0",
            "1b275752c60a49d4968b88bc99985dec",
            "3a5cbb2782e34e41916d6ffb8852fa66",
            "49cc655a83c54277a922067bd9d9f71f",
            "56547761377f4e078ac95ef8c61b0c26",
            "442a7e0347644442bcfac9f815624aa0",
            "e922654191694082a639ee0d81175187",
            "7d4fabce97554d1b9783f906b6649933",
            "4ecad361b673481e8eca2f34c4094d26",
            "23cc7e34ebeb49cfb0e796e67113f2f4",
            "a30590a2281444349bb87f705a36297c",
            "f6e6e5ab0ab04c94a403db050dec732b",
            "3bc0e37621c54c879f31a53b17ed2044",
            "2dffd8afbbce4ccdb22b2a1011e14087",
            "7e8584038b2041b3b02b12ae268c2e78",
            "a5409eb462ee43538173980a945e35bc",
            "053e8d7dc94d45bc962c6fea089b6c32",
            "16ae7ff4d1204ed183e58889544c8387",
            "461db7689b924f5894df33be14eaa09d",
            "5129b2d8d9394c7c9b0fd66e41487d6d",
            "6de25742aae84ff1a701a6af638738d0",
            "7797af944f6a4dafaee80353de4cc53a",
            "7f6be934fadb4878b9fdddde6a7a290b",
            "2a45afbe9eb64acf9278920608ac4952"
          ]
        },
        "id": "8SCq63T4AATA",
        "outputId": "53a1184e-91c9-4776-a4aa-ed20b4c10938"
      },
      "execution_count": 3,
      "outputs": [
        {
          "output_type": "stream",
          "name": "stderr",
          "text": [
            "/usr/local/lib/python3.10/dist-packages/huggingface_hub/utils/_auth.py:94: UserWarning: \n",
            "The secret `HF_TOKEN` does not exist in your Colab secrets.\n",
            "To authenticate with the Hugging Face Hub, create a token in your settings tab (https://huggingface.co/settings/tokens), set it as secret in your Google Colab and restart your session.\n",
            "You will be able to reuse this secret in all of your notebooks.\n",
            "Please note that authentication is recommended but still optional to access public models or datasets.\n",
            "  warnings.warn(\n"
          ]
        },
        {
          "output_type": "display_data",
          "data": {
            "text/plain": [
              "tokenizer_config.json:   0%|          | 0.00/1.44k [00:00<?, ?B/s]"
            ],
            "application/vnd.jupyter.widget-view+json": {
              "version_major": 2,
              "version_minor": 0,
              "model_id": "dff674ee13824cc280e3d1a3056456f4"
            }
          },
          "metadata": {}
        },
        {
          "output_type": "display_data",
          "data": {
            "text/plain": [
              "spiece.model:   0%|          | 0.00/1.91M [00:00<?, ?B/s]"
            ],
            "application/vnd.jupyter.widget-view+json": {
              "version_major": 2,
              "version_minor": 0,
              "model_id": "dad657f15546449fb7faedd477c78154"
            }
          },
          "metadata": {}
        },
        {
          "output_type": "display_data",
          "data": {
            "text/plain": [
              "special_tokens_map.json:   0%|          | 0.00/1.34k [00:00<?, ?B/s]"
            ],
            "application/vnd.jupyter.widget-view+json": {
              "version_major": 2,
              "version_minor": 0,
              "model_id": "f00d7c009b154ef089e70282ab02726c"
            }
          },
          "metadata": {}
        },
        {
          "output_type": "display_data",
          "data": {
            "text/plain": [
              "config.json:   0%|          | 0.00/1.27k [00:00<?, ?B/s]"
            ],
            "application/vnd.jupyter.widget-view+json": {
              "version_major": 2,
              "version_minor": 0,
              "model_id": "3a5cbb2782e34e41916d6ffb8852fa66"
            }
          },
          "metadata": {}
        },
        {
          "output_type": "display_data",
          "data": {
            "text/plain": [
              "model.safetensors:   0%|          | 0.00/2.28G [00:00<?, ?B/s]"
            ],
            "application/vnd.jupyter.widget-view+json": {
              "version_major": 2,
              "version_minor": 0,
              "model_id": "2dffd8afbbce4ccdb22b2a1011e14087"
            }
          },
          "metadata": {}
        },
        {
          "output_type": "stream",
          "name": "stderr",
          "text": [
            "Some weights of PegasusForConditionalGeneration were not initialized from the model checkpoint at human-centered-summarization/financial-summarization-pegasus and are newly initialized: ['model.decoder.embed_positions.weight', 'model.encoder.embed_positions.weight']\n",
            "You should probably TRAIN this model on a down-stream task to be able to use it for predictions and inference.\n"
          ]
        }
      ]
    },
    {
      "cell_type": "markdown",
      "source": [
        "## 3. Summarize a Single Article\n"
      ],
      "metadata": {
        "id": "QHqyotKFAEF-"
      }
    },
    {
      "cell_type": "code",
      "source": [
        "url = \"https://au.finance.yahoo.com/news/insurance-warning-for-aussies-wanting-to-snap-up-new-chinese-ev-brands-theres-a-catch-190046746.html\"\n",
        "r = requests.get(url)\n",
        "soup = BeautifulSoup(r.text, 'html.parser')\n",
        "paragraphs = soup.find_all('p')"
      ],
      "metadata": {
        "id": "73Giw7KUAFBS"
      },
      "execution_count": 10,
      "outputs": []
    },
    {
      "cell_type": "code",
      "source": [
        "paragraphs[1].text\n"
      ],
      "metadata": {
        "colab": {
          "base_uri": "https://localhost:8080/",
          "height": 53
        },
        "id": "CR8zImPkAlbn",
        "outputId": "3a39820e-5052-4b38-ba3b-ba1665761c9a"
      },
      "execution_count": 13,
      "outputs": [
        {
          "output_type": "execute_result",
          "data": {
            "text/plain": [
              "'Zeekr, Jac, Deepal. You may think these names are foreign, but they’ll soon be sitting alongside Toyotas, Hyundais and Mazdas in traffic.'"
            ],
            "application/vnd.google.colaboratory.intrinsic+json": {
              "type": "string"
            }
          },
          "metadata": {},
          "execution_count": 13
        }
      ]
    },
    {
      "cell_type": "code",
      "source": [
        "text = [paragraph.text for paragraph in paragraphs]\n",
        "words = ' '.join(text).split(' ')[:400]\n",
        "ARTICLE = ' '.join(words)"
      ],
      "metadata": {
        "id": "-Z86LNP1AnlP"
      },
      "execution_count": 14,
      "outputs": []
    },
    {
      "cell_type": "code",
      "source": [
        "ARTICLE\n"
      ],
      "metadata": {
        "colab": {
          "base_uri": "https://localhost:8080/",
          "height": 174
        },
        "id": "Wkv8nP8TAp75",
        "outputId": "b93e1d47-722b-4030-8846-941cc3a7a881"
      },
      "execution_count": 15,
      "outputs": [
        {
          "output_type": "execute_result",
          "data": {
            "text/plain": [
              "\"We are experiencing some temporary issues. The market data on this page is currently delayed. Please bear with us as we address this and restore your personalised lists. Zeekr, Jac, Deepal. You may think these names are foreign, but they’ll soon be sitting alongside Toyotas, Hyundais and Mazdas in traffic. At least seven new Chinese car brands have been confirmed to launch in 2025 – or are already available – in Australia. Following the success of MG, GWM and BYD, the Chinese automotive industry has clearly seen an opportunity to offer more competitively priced, value-packed, and high-tech new cars Down Under – whether powered by petrol, diesel or electricity. But what’s the catch? $1,100 cost-of-living relief for Centrelink recipients and other Aussies ‘doing it tough’ Major EV win as Aussies can earn $12,000 from their electric car: 'Free money' $1,300 cash boost for Woolworths, Coles shoppers as major class action lawsuit launched Aside from the sharp price tags, big screens and fancy lights, they could be more costly to insure. Insurers determine premiums based on a range of risk-based factors – and a car brand that has little claims history and an infant local supply chain of parts could drive up prices for owners looking to protect their brand-new car. In the United Kingdom, we have already seen some underwriters refuse to cover certain Chinese-made models due to an alleged insufficient availability of parts, almost non-existent repair information, and a lack of knowledge of how the European repair market works. The team at Compare the Market also previously found full electric vehicles – which are the main focus for the upcoming Chinese brands – generally carry a higher comprehensive car insurance premium. The calculations from Toyota Corolla and BYD Atto 3 found the difference to be more than $563 per year. On average across 12 insurers studied, it’s anywhere between 7 per cent to 97 per cent more expensive to cover the top five best-selling full EV models compared to a similar petrol-powered model. This is because the battery pack creates more complexity for repairers, many EV-specific parts need to be imported from overseas, and there’s a skills shortage with fewer qualified smash repairers for electric cars in Australia – which contributes to delays in repairs and inconvenience for owners. And with the federal government’s New Vehicle Efficiency Standard (NEVS) due to go in effect next year, the supply and\""
            ],
            "application/vnd.google.colaboratory.intrinsic+json": {
              "type": "string"
            }
          },
          "metadata": {},
          "execution_count": 15
        }
      ]
    },
    {
      "cell_type": "code",
      "source": [
        "input_ids = tokenizer.encode(ARTICLE, return_tensors='pt')\n",
        "output = model.generate(input_ids, max_length=55, num_beams=5, early_stopping=True)\n",
        "summary = tokenizer.decode(output[0], skip_special_tokens=True)"
      ],
      "metadata": {
        "id": "AsUfcZRrBx0i"
      },
      "execution_count": 16,
      "outputs": []
    },
    {
      "cell_type": "code",
      "source": [
        "summary\n"
      ],
      "metadata": {
        "colab": {
          "base_uri": "https://localhost:8080/",
          "height": 35
        },
        "id": "GYielmnHB2Cw",
        "outputId": "631c5d0c-2003-4a4d-dfbb-7d70132e8767"
      },
      "execution_count": 17,
      "outputs": [
        {
          "output_type": "execute_result",
          "data": {
            "text/plain": [
              "'Chinese carmakers to launch in Australia in 2025.'"
            ],
            "application/vnd.google.colaboratory.intrinsic+json": {
              "type": "string"
            }
          },
          "metadata": {},
          "execution_count": 17
        }
      ]
    },
    {
      "cell_type": "markdown",
      "source": [
        "## 4. Building a News and Sentiment Pipeline\n"
      ],
      "metadata": {
        "id": "ZGxrGgXNB4IN"
      }
    },
    {
      "cell_type": "code",
      "source": [
        "monitored_tickers = ['GME', 'TSLA', 'BTC']\n"
      ],
      "metadata": {
        "id": "9g0L0WvmB5aJ"
      },
      "execution_count": 18,
      "outputs": []
    },
    {
      "cell_type": "markdown",
      "source": [
        "## 4.1. Search for Stock News using Google and Yahoo Finance\n"
      ],
      "metadata": {
        "id": "bJoP5L_iB_z5"
      }
    },
    {
      "cell_type": "code",
      "source": [
        "def search_for_stock_news_urls(ticker):\n",
        "    search_url = \"https://www.google.com/search?q=yahoo+finance+{}&tbm=nws\".format(ticker)\n",
        "    r = requests.get(search_url)\n",
        "    soup = BeautifulSoup(r.text, 'html.parser')\n",
        "    atags = soup.find_all('a')\n",
        "    hrefs = [link['href'] for link in atags]\n",
        "    return hrefs"
      ],
      "metadata": {
        "id": "K0plAzgvCG-5"
      },
      "execution_count": 19,
      "outputs": []
    },
    {
      "cell_type": "code",
      "source": [
        "raw_urls = {ticker:search_for_stock_news_urls(ticker) for ticker in monitored_tickers}\n",
        "raw_urls"
      ],
      "metadata": {
        "colab": {
          "base_uri": "https://localhost:8080/"
        },
        "id": "f-bim3EGCJfm",
        "outputId": "a12324b6-6b3c-4ca7-ef3f-3a917a49cf3c"
      },
      "execution_count": 20,
      "outputs": [
        {
          "output_type": "execute_result",
          "data": {
            "text/plain": [
              "{'GME': ['/?sa=X&ved=0ahUKEwjskreQtOCJAxU-6ckDHXoULyAQOwgC',\n",
              "  '/search?q=yahoo+finance+GME&sca_esv=ab1b28e242c283c4&ie=UTF-8&tbm=nws&gbv=1&sei=JlQ4Z-znM77Sp84P-qi8gQI',\n",
              "  '/search?q=yahoo+finance+GME&sca_esv=ab1b28e242c283c4&ie=UTF-8&source=lnms&sa=X&ved=0ahUKEwjskreQtOCJAxU-6ckDHXoULyAQ_AUIBSgA',\n",
              "  '/search?q=yahoo+finance+GME&sca_esv=ab1b28e242c283c4&ie=UTF-8&tbm=vid&source=lnms&sa=X&ved=0ahUKEwjskreQtOCJAxU-6ckDHXoULyAQ_AUIBygC',\n",
              "  '/search?q=yahoo+finance+GME&sca_esv=ab1b28e242c283c4&ie=UTF-8&tbm=isch&source=lnms&sa=X&ved=0ahUKEwjskreQtOCJAxU-6ckDHXoULyAQ_AUICCgD',\n",
              "  '/url?q=https://maps.google.com/maps%3Fq%3Dyahoo%2Bfinance%2BGME%26um%3D1%26ie%3DUTF-8%26ved%3D1t:200713%26ictx%3D111&opi=89978449&sa=U&ved=0ahUKEwjskreQtOCJAxU-6ckDHXoULyAQiaAMCAkoBA&usg=AOvVaw2EyEnWSoqsqB1eLb-UHLvO',\n",
              "  '/url?q=/search%3Fq%3Dyahoo%2Bfinance%2BGME%26sca_esv%3Dab1b28e242c283c4%26ie%3DUTF-8%26tbm%3Dshop%26source%3Dlnms%26ved%3D1t:200713%26ictx%3D111&opi=89978449&sa=U&ved=0ahUKEwjskreQtOCJAxU-6ckDHXoULyAQiaAMCAooBQ&usg=AOvVaw3X8GR16z8XkcM3vUgE106v',\n",
              "  '/search?q=yahoo+finance+GME&sca_esv=ab1b28e242c283c4&ie=UTF-8&tbm=bks&source=lnms&sa=X&ved=0ahUKEwjskreQtOCJAxU-6ckDHXoULyAQ_AUICygG',\n",
              "  '/advanced_search',\n",
              "  '/search?q=yahoo+finance+GME&sca_esv=ab1b28e242c283c4&ie=UTF-8&tbm=nws&source=lnt&tbs=qdr:h&sa=X&ved=0ahUKEwjskreQtOCJAxU-6ckDHXoULyAQpwUIDQ',\n",
              "  '/search?q=yahoo+finance+GME&sca_esv=ab1b28e242c283c4&ie=UTF-8&tbm=nws&source=lnt&tbs=qdr:d&sa=X&ved=0ahUKEwjskreQtOCJAxU-6ckDHXoULyAQpwUIDg',\n",
              "  '/search?q=yahoo+finance+GME&sca_esv=ab1b28e242c283c4&ie=UTF-8&tbm=nws&source=lnt&tbs=qdr:w&sa=X&ved=0ahUKEwjskreQtOCJAxU-6ckDHXoULyAQpwUIDw',\n",
              "  '/search?q=yahoo+finance+GME&sca_esv=ab1b28e242c283c4&ie=UTF-8&tbm=nws&source=lnt&tbs=qdr:m&sa=X&ved=0ahUKEwjskreQtOCJAxU-6ckDHXoULyAQpwUIEA',\n",
              "  '/search?q=yahoo+finance+GME&sca_esv=ab1b28e242c283c4&ie=UTF-8&tbm=nws&source=lnt&tbs=qdr:y&sa=X&ved=0ahUKEwjskreQtOCJAxU-6ckDHXoULyAQpwUIEQ',\n",
              "  '/search?q=yahoo+finance+GME&sca_esv=ab1b28e242c283c4&ie=UTF-8&tbm=nws&source=lnt&tbs=ar:1&sa=X&ved=0ahUKEwjskreQtOCJAxU-6ckDHXoULyAQpwUIEg',\n",
              "  '/search?q=yahoo+finance+GME&sca_esv=ab1b28e242c283c4&ie=UTF-8&tbm=nws&source=lnt&tbs=sbd:1&sa=X&ved=0ahUKEwjskreQtOCJAxU-6ckDHXoULyAQpwUIFA',\n",
              "  '/url?q=https://finance.yahoo.com/news/heres-why-gamestop-gme-fell-224520124.html&sa=U&ved=2ahUKEwjskreQtOCJAxU-6ckDHXoULyAQxfQBegQIBhAC&usg=AOvVaw0s3yAQdamNMiLSdT2yWo65',\n",
              "  '/url?q=https://finance.yahoo.com/news/gamestop-gme-falls-more-steeply-224520779.html&sa=U&ved=2ahUKEwjskreQtOCJAxU-6ckDHXoULyAQxfQBegQICRAC&usg=AOvVaw3KBPCy5ZIZ8O6mL8fe3AUJ',\n",
              "  '/url?q=https://finance.yahoo.com/news/jim-cramer-says-gamestop-gme-134244137.html&sa=U&ved=2ahUKEwjskreQtOCJAxU-6ckDHXoULyAQxfQBegQIAxAC&usg=AOvVaw0PtFYELyaURXj5xo7mUUrt',\n",
              "  '/url?q=https://finance.yahoo.com/news/gamestop-gme-stock-drops-despite-214519430.html&sa=U&ved=2ahUKEwjskreQtOCJAxU-6ckDHXoULyAQxfQBegQIBBAC&usg=AOvVaw3Zd8S4afF80HNC6cZ5KgIB',\n",
              "  '/url?q=https://finance.yahoo.com/news/gamestop-gme-registers-bigger-fall-214521016.html&sa=U&ved=2ahUKEwjskreQtOCJAxU-6ckDHXoULyAQxfQBegQIBxAC&usg=AOvVaw38IAPg9hkcTJsyXqI1yEDF',\n",
              "  '/url?q=https://finance.yahoo.com/news/why-gamestop-gme-dipped-more-214520142.html&sa=U&ved=2ahUKEwjskreQtOCJAxU-6ckDHXoULyAQxfQBegQIBRAC&usg=AOvVaw0zyjJbktbeh2nHyBdkC3d4',\n",
              "  '/url?q=https://finance.yahoo.com/news/investors-heavily-search-gamestop-corp-130016370.html&sa=U&ved=2ahUKEwjskreQtOCJAxU-6ckDHXoULyAQxfQBegQIAhAC&usg=AOvVaw0b2ttb5mqdo2NvEXoh9jNb',\n",
              "  '/url?q=https://finance.yahoo.com/news/gamestop-gme-stock-moves-1-214524513.html&sa=U&ved=2ahUKEwjskreQtOCJAxU-6ckDHXoULyAQxfQBegQIARAC&usg=AOvVaw39BPA7ufEnFnRj5ibJq6eQ',\n",
              "  '/url?q=https://finance.yahoo.com/news/gamestop-gme-stock-moves-0-215522235.html&sa=U&ved=2ahUKEwjskreQtOCJAxU-6ckDHXoULyAQxfQBegQIABAC&usg=AOvVaw2pT9sSOtu9Ls9ie0jhcOTT',\n",
              "  '/url?q=https://finance.yahoo.com/news/why-diamond-hill-long-short-122844695.html&sa=U&ved=2ahUKEwjskreQtOCJAxU-6ckDHXoULyAQxfQBegQICBAC&usg=AOvVaw3Y4jS1z0DNw3CYZtVxZZtv',\n",
              "  '/search?q=yahoo+finance+GME&sca_esv=ab1b28e242c283c4&ie=UTF-8&tbm=nws&ei=JlQ4Z-znM77Sp84P-qi8gQI&start=10&sa=N',\n",
              "  '/url?q=https://support.google.com/websearch%3Fp%3Dws_settings_location%26hl%3Den&opi=89978449&sa=U&ved=0ahUKEwjskreQtOCJAxU-6ckDHXoULyAQty4IUw&usg=AOvVaw1Xe3ZTSZQQGkB8nf2uj9eH',\n",
              "  '/url?q=https://accounts.google.com/ServiceLogin%3Fcontinue%3Dhttps://www.google.com/search%253Fq%253Dyahoo%252Bfinance%252BGME%2526tbm%253Dnws%26hl%3Den&opi=89978449&sa=U&ved=0ahUKEwjskreQtOCJAxU-6ckDHXoULyAQxs8CCFQ&usg=AOvVaw0RKM7AEEhorC7fWuLtf6Xc',\n",
              "  'https://www.google.com/preferences?hl=en&fg=1&sa=X&ved=0ahUKEwjskreQtOCJAxU-6ckDHXoULyAQ5fUCCFU',\n",
              "  'https://policies.google.com/privacy?hl=en&fg=1',\n",
              "  'https://policies.google.com/terms?hl=en&fg=1',\n",
              "  '/setprefs?hl=en&prev=https://www.google.com/search?q%3Dyahoo%2Bfinance%2BGME%26tbm%3Dnws%26pccc%3D1&sig=0_VPRSKFEdkzBDwxZgDsU9h2yaSK4%3D&cs=2&sa=X&ved=0ahUKEwjskreQtOCJAxU-6ckDHXoULyAQjcAJCFY'],\n",
              " 'TSLA': ['/?sa=X&ved=0ahUKEwiiqtSQtOCJAxVZM9AFHSoPLqMQOwgC',\n",
              "  '/search?q=yahoo+finance+TSLA&sca_esv=ab1b28e242c283c4&ie=UTF-8&tbm=nws&gbv=1&sei=J1Q4Z-L6E9nmwN4Pqp64mQo',\n",
              "  '/search?q=yahoo+finance+TSLA&sca_esv=ab1b28e242c283c4&ie=UTF-8&source=lnms&sa=X&ved=0ahUKEwiiqtSQtOCJAxVZM9AFHSoPLqMQ_AUIBSgA',\n",
              "  '/search?q=yahoo+finance+TSLA&sca_esv=ab1b28e242c283c4&ie=UTF-8&tbm=isch&source=lnms&sa=X&ved=0ahUKEwiiqtSQtOCJAxVZM9AFHSoPLqMQ_AUIBygC',\n",
              "  '/search?q=yahoo+finance+TSLA&sca_esv=ab1b28e242c283c4&ie=UTF-8&tbm=vid&source=lnms&sa=X&ved=0ahUKEwiiqtSQtOCJAxVZM9AFHSoPLqMQ_AUICCgD',\n",
              "  '/url?q=https://maps.google.com/maps%3Fq%3Dyahoo%2Bfinance%2BTSLA%26um%3D1%26ie%3DUTF-8%26ved%3D1t:200713%26ictx%3D111&opi=89978449&sa=U&ved=0ahUKEwiiqtSQtOCJAxVZM9AFHSoPLqMQiaAMCAkoBA&usg=AOvVaw2idhaKBeAm7jRP6P-mhuiV',\n",
              "  '/url?q=/search%3Fq%3Dyahoo%2Bfinance%2BTSLA%26sca_esv%3Dab1b28e242c283c4%26ie%3DUTF-8%26tbm%3Dshop%26source%3Dlnms%26ved%3D1t:200713%26ictx%3D111&opi=89978449&sa=U&ved=0ahUKEwiiqtSQtOCJAxVZM9AFHSoPLqMQiaAMCAooBQ&usg=AOvVaw3XRhG_F1qbh5fggIwZkrQR',\n",
              "  '/search?q=yahoo+finance+TSLA&sca_esv=ab1b28e242c283c4&ie=UTF-8&tbm=bks&source=lnms&sa=X&ved=0ahUKEwiiqtSQtOCJAxVZM9AFHSoPLqMQ_AUICygG',\n",
              "  '/advanced_search',\n",
              "  '/search?q=yahoo+finance+TSLA&sca_esv=ab1b28e242c283c4&ie=UTF-8&tbm=nws&source=lnt&tbs=qdr:h&sa=X&ved=0ahUKEwiiqtSQtOCJAxVZM9AFHSoPLqMQpwUIDQ',\n",
              "  '/search?q=yahoo+finance+TSLA&sca_esv=ab1b28e242c283c4&ie=UTF-8&tbm=nws&source=lnt&tbs=qdr:d&sa=X&ved=0ahUKEwiiqtSQtOCJAxVZM9AFHSoPLqMQpwUIDg',\n",
              "  '/search?q=yahoo+finance+TSLA&sca_esv=ab1b28e242c283c4&ie=UTF-8&tbm=nws&source=lnt&tbs=qdr:w&sa=X&ved=0ahUKEwiiqtSQtOCJAxVZM9AFHSoPLqMQpwUIDw',\n",
              "  '/search?q=yahoo+finance+TSLA&sca_esv=ab1b28e242c283c4&ie=UTF-8&tbm=nws&source=lnt&tbs=qdr:m&sa=X&ved=0ahUKEwiiqtSQtOCJAxVZM9AFHSoPLqMQpwUIEA',\n",
              "  '/search?q=yahoo+finance+TSLA&sca_esv=ab1b28e242c283c4&ie=UTF-8&tbm=nws&source=lnt&tbs=qdr:y&sa=X&ved=0ahUKEwiiqtSQtOCJAxVZM9AFHSoPLqMQpwUIEQ',\n",
              "  '/search?q=yahoo+finance+TSLA&sca_esv=ab1b28e242c283c4&ie=UTF-8&tbm=nws&source=lnt&tbs=ar:1&sa=X&ved=0ahUKEwiiqtSQtOCJAxVZM9AFHSoPLqMQpwUIEg',\n",
              "  '/search?q=yahoo+finance+TSLA&sca_esv=ab1b28e242c283c4&ie=UTF-8&tbm=nws&source=lnt&tbs=sbd:1&sa=X&ved=0ahUKEwiiqtSQtOCJAxVZM9AFHSoPLqMQpwUIFA',\n",
              "  '/url?q=https://finance.yahoo.com/news/tesla-stock-falls-as-trump-trade-fades-and-ev-tax-credits-come-under-threat-170918953.html&sa=U&ved=2ahUKEwiiqtSQtOCJAxVZM9AFHSoPLqMQxfQBegQIABAC&usg=AOvVaw0ncIUMqQ3657TNbJE6RW-Q',\n",
              "  '/url?q=https://finance.yahoo.com/news/2-companies-unlocking-higher-profits-002900585.html&sa=U&ved=2ahUKEwiiqtSQtOCJAxVZM9AFHSoPLqMQxfQBegQICRAC&usg=AOvVaw1Hzqgz_ehntpejUMkVHvTR',\n",
              "  '/url?q=https://finance.yahoo.com/video/hedge-funds-shorting-tesla-stock-145155395.html&sa=U&ved=2ahUKEwiiqtSQtOCJAxVZM9AFHSoPLqMQxfQBegQIBRAC&usg=AOvVaw0qhWP9riU8HaoKpjWPiEdd',\n",
              "  '/url?q=https://finance.yahoo.com/news/tesla-stock-to-settle-after-recent-surge-nuveen-cio-204349139.html&sa=U&ved=2ahUKEwiiqtSQtOCJAxVZM9AFHSoPLqMQxfQBegQICBAC&usg=AOvVaw0YSKlJlpZSCc_eve45mPnd',\n",
              "  '/url?q=https://finance.yahoo.com/news/why-tesla-stock-keeps-going-180848891.html&sa=U&ved=2ahUKEwiiqtSQtOCJAxVZM9AFHSoPLqMQxfQBegQIAxAC&usg=AOvVaw1z8weWhbC0R_qFyGs9S_o1',\n",
              "  '/url?q=https://finance.yahoo.com/news/live/stock-market-today-dow-sp-500-close-above-key-milestones-as-tesla-bitcoin-surge-210057604.html&sa=U&ved=2ahUKEwiiqtSQtOCJAxVZM9AFHSoPLqMQxfQBegQIBxAC&usg=AOvVaw1tSVNMwBOfiSWhom00Qs-Q',\n",
              "  '/url?q=https://finance.yahoo.com/video/futures-hedge-funds-pull-back-143647116.html&sa=U&ved=2ahUKEwiiqtSQtOCJAxVZM9AFHSoPLqMQxfQBegQIBBAC&usg=AOvVaw3pEZ4iSrJir8aYoTXOWPzF',\n",
              "  '/url?q=https://finance.yahoo.com/news/tesla-inc-tsla-best-stock-190803129.html&sa=U&ved=2ahUKEwiiqtSQtOCJAxVZM9AFHSoPLqMQxfQBegQIARAC&usg=AOvVaw2jQS6-80bnjqFiBZtNoPSk',\n",
              "  '/url?q=https://finance.yahoo.com/news/tesla-nasdaq-tsla-seems-debt-140111992.html&sa=U&ved=2ahUKEwiiqtSQtOCJAxVZM9AFHSoPLqMQxfQBegQIBhAC&usg=AOvVaw2O1m1C5ShhN9ZpFXUz-WxF',\n",
              "  '/url?q=https://finance.yahoo.com/news/tesla-inc-tsla-morgan-stanley-014425988.html&sa=U&ved=2ahUKEwiiqtSQtOCJAxVZM9AFHSoPLqMQxfQBegQIAhAC&usg=AOvVaw0I6BnUviN1PXdIC8T37jqA',\n",
              "  '/search?q=yahoo+finance+TSLA&sca_esv=ab1b28e242c283c4&ie=UTF-8&tbm=nws&ei=J1Q4Z-L6E9nmwN4Pqp64mQo&start=10&sa=N',\n",
              "  '/url?q=https://support.google.com/websearch%3Fp%3Dws_settings_location%26hl%3Den&opi=89978449&sa=U&ved=0ahUKEwiiqtSQtOCJAxVZM9AFHSoPLqMQty4IUw&usg=AOvVaw2NZWQzr8OApMMPuvncbo-Y',\n",
              "  '/url?q=https://accounts.google.com/ServiceLogin%3Fcontinue%3Dhttps://www.google.com/search%253Fq%253Dyahoo%252Bfinance%252BTSLA%2526tbm%253Dnws%26hl%3Den&opi=89978449&sa=U&ved=0ahUKEwiiqtSQtOCJAxVZM9AFHSoPLqMQxs8CCFQ&usg=AOvVaw2ZPrq24T8u69rt6bmgOf-7',\n",
              "  'https://www.google.com/preferences?hl=en&fg=1&sa=X&ved=0ahUKEwiiqtSQtOCJAxVZM9AFHSoPLqMQ5fUCCFU',\n",
              "  'https://policies.google.com/privacy?hl=en&fg=1',\n",
              "  'https://policies.google.com/terms?hl=en&fg=1',\n",
              "  '/setprefs?hl=en&prev=https://www.google.com/search?q%3Dyahoo%2Bfinance%2BTSLA%26tbm%3Dnws%26pccc%3D1&sig=0_kK-W0gGnLn0rcZD-ArnX8BxzjaU%3D&cs=2&sa=X&ved=0ahUKEwiiqtSQtOCJAxVZM9AFHSoPLqMQjcAJCFY'],\n",
              " 'BTC': ['/?sa=X&ved=0ahUKEwiwrO2QtOCJAxV1JNAFHa7dOnQQOwgC',\n",
              "  '/search?q=yahoo+finance+BTC&sca_esv=ab1b28e242c283c4&ie=UTF-8&tbm=nws&gbv=1&sei=J1Q4Z_D8LPXIwN4PrrvroQc',\n",
              "  '/search?q=yahoo+finance+BTC&sca_esv=ab1b28e242c283c4&ie=UTF-8&source=lnms&sa=X&ved=0ahUKEwiwrO2QtOCJAxV1JNAFHa7dOnQQ_AUIBSgA',\n",
              "  '/search?q=yahoo+finance+BTC&sca_esv=ab1b28e242c283c4&ie=UTF-8&tbm=isch&source=lnms&sa=X&ved=0ahUKEwiwrO2QtOCJAxV1JNAFHa7dOnQQ_AUIBygC',\n",
              "  '/search?q=yahoo+finance+BTC&sca_esv=ab1b28e242c283c4&ie=UTF-8&tbm=vid&source=lnms&sa=X&ved=0ahUKEwiwrO2QtOCJAxV1JNAFHa7dOnQQ_AUICCgD',\n",
              "  '/url?q=https://maps.google.com/maps%3Fq%3Dyahoo%2Bfinance%2BBTC%26um%3D1%26ie%3DUTF-8%26ved%3D1t:200713%26ictx%3D111&opi=89978449&sa=U&ved=0ahUKEwiwrO2QtOCJAxV1JNAFHa7dOnQQiaAMCAkoBA&usg=AOvVaw25E7OnM6O7KM48OF3q3rV-',\n",
              "  '/url?q=/search%3Fq%3Dyahoo%2Bfinance%2BBTC%26sca_esv%3Dab1b28e242c283c4%26ie%3DUTF-8%26tbm%3Dshop%26source%3Dlnms%26ved%3D1t:200713%26ictx%3D111&opi=89978449&sa=U&ved=0ahUKEwiwrO2QtOCJAxV1JNAFHa7dOnQQiaAMCAooBQ&usg=AOvVaw2KxRprtHa-AyR9B3eI7_j7',\n",
              "  '/search?q=yahoo+finance+BTC&sca_esv=ab1b28e242c283c4&ie=UTF-8&tbm=bks&source=lnms&sa=X&ved=0ahUKEwiwrO2QtOCJAxV1JNAFHa7dOnQQ_AUICygG',\n",
              "  '/advanced_search',\n",
              "  '/search?q=yahoo+finance+BTC&sca_esv=ab1b28e242c283c4&ie=UTF-8&tbm=nws&source=lnt&tbs=qdr:h&sa=X&ved=0ahUKEwiwrO2QtOCJAxV1JNAFHa7dOnQQpwUIDQ',\n",
              "  '/search?q=yahoo+finance+BTC&sca_esv=ab1b28e242c283c4&ie=UTF-8&tbm=nws&source=lnt&tbs=qdr:d&sa=X&ved=0ahUKEwiwrO2QtOCJAxV1JNAFHa7dOnQQpwUIDg',\n",
              "  '/search?q=yahoo+finance+BTC&sca_esv=ab1b28e242c283c4&ie=UTF-8&tbm=nws&source=lnt&tbs=qdr:w&sa=X&ved=0ahUKEwiwrO2QtOCJAxV1JNAFHa7dOnQQpwUIDw',\n",
              "  '/search?q=yahoo+finance+BTC&sca_esv=ab1b28e242c283c4&ie=UTF-8&tbm=nws&source=lnt&tbs=qdr:m&sa=X&ved=0ahUKEwiwrO2QtOCJAxV1JNAFHa7dOnQQpwUIEA',\n",
              "  '/search?q=yahoo+finance+BTC&sca_esv=ab1b28e242c283c4&ie=UTF-8&tbm=nws&source=lnt&tbs=qdr:y&sa=X&ved=0ahUKEwiwrO2QtOCJAxV1JNAFHa7dOnQQpwUIEQ',\n",
              "  '/search?q=yahoo+finance+BTC&sca_esv=ab1b28e242c283c4&ie=UTF-8&tbm=nws&source=lnt&tbs=ar:1&sa=X&ved=0ahUKEwiwrO2QtOCJAxV1JNAFHa7dOnQQpwUIEg',\n",
              "  '/search?q=yahoo+finance+BTC&sca_esv=ab1b28e242c283c4&ie=UTF-8&tbm=nws&source=lnt&tbs=sbd:1&sa=X&ved=0ahUKEwiwrO2QtOCJAxV1JNAFHa7dOnQQpwUIFA',\n",
              "  '/url?q=https://finance.yahoo.com/news/bitcoin-touches-record-high-above-93000-on-optimism-around-trumps-pro-crypto-promises-181405097.html&sa=U&ved=2ahUKEwiwrO2QtOCJAxV1JNAFHa7dOnQQxfQBegQIAhAC&usg=AOvVaw0rCkKU49oy6nHcCZLgLuIH',\n",
              "  '/url?q=https://finance.yahoo.com/video/bitcoin-minimize-taxes-crypto-investors-172340880.html&sa=U&ved=2ahUKEwiwrO2QtOCJAxV1JNAFHa7dOnQQxfQBegQICRAC&usg=AOvVaw1d3bsqJTjBltim3a3Tx9tf',\n",
              "  '/url?q=https://finance.yahoo.com/video/strategic-bitcoin-top-trumps-list-215519534.html&sa=U&ved=2ahUKEwiwrO2QtOCJAxV1JNAFHa7dOnQQxfQBegQIBBAC&usg=AOvVaw1SNSuf_DGI7S9KvMGo1pY1',\n",
              "  '/url?q=https://finance.yahoo.com/news/analyst-vaneck-says-bitcoin-might-082458385.html&sa=U&ved=2ahUKEwiwrO2QtOCJAxV1JNAFHa7dOnQQxfQBegQIBhAC&usg=AOvVaw2tpgUvwv8CTIySMaBtDXIk',\n",
              "  '/url?q=https://finance.yahoo.com/news/three-best-cryptocurrencies-buy-now-080900747.html&sa=U&ved=2ahUKEwiwrO2QtOCJAxV1JNAFHa7dOnQQxfQBegQICBAC&usg=AOvVaw0UvjItYoZA7-CgFBkJxk3E',\n",
              "  '/url?q=https://finance.yahoo.com/news/u-bitcoin-plan-could-ignite-192515490.html&sa=U&ved=2ahUKEwiwrO2QtOCJAxV1JNAFHa7dOnQQxfQBegQIBxAC&usg=AOvVaw2yVCyt93bT1W3bnFhgUCaX',\n",
              "  '/url?q=https://finance.yahoo.com/news/vaneck-ceo-boldly-predicts-bitcoin-144521276.html&sa=U&ved=2ahUKEwiwrO2QtOCJAxV1JNAFHa7dOnQQxfQBegQIBRAC&usg=AOvVaw1A-jBWmYx2EQY-oYR98TCY',\n",
              "  '/url?q=https://finance.yahoo.com/video/bitcoin-dogecoin-super-micro-planet-171241925.html&sa=U&ved=2ahUKEwiwrO2QtOCJAxV1JNAFHa7dOnQQxfQBegQIAxAC&usg=AOvVaw3YRKLf7VGwgAr6_bu4Ptpb',\n",
              "  '/url?q=https://uk.finance.yahoo.com/news/bitcoin-price-trump-election-cryptocurrency-poll-060012675.html&sa=U&ved=2ahUKEwiwrO2QtOCJAxV1JNAFHa7dOnQQxfQBegQIARAC&usg=AOvVaw39O47IVTdMQG-N71zQyj2M',\n",
              "  '/url?q=https://finance.yahoo.com/news/bhutan-cashes-33-5b-bitcoin-081756733.html&sa=U&ved=2ahUKEwiwrO2QtOCJAxV1JNAFHa7dOnQQxfQBegQIABAC&usg=AOvVaw3mosJur191N1__YromCbvO',\n",
              "  '/search?q=yahoo+finance+BTC&sca_esv=ab1b28e242c283c4&ie=UTF-8&tbm=nws&ei=J1Q4Z_D8LPXIwN4PrrvroQc&start=10&sa=N',\n",
              "  '/url?q=https://support.google.com/websearch%3Fp%3Dws_settings_location%26hl%3Den&opi=89978449&sa=U&ved=0ahUKEwiwrO2QtOCJAxV1JNAFHa7dOnQQty4IUQ&usg=AOvVaw24rQHKpB08jjglX0k7JqHi',\n",
              "  '/url?q=https://accounts.google.com/ServiceLogin%3Fcontinue%3Dhttps://www.google.com/search%253Fq%253Dyahoo%252Bfinance%252BBTC%2526tbm%253Dnws%26hl%3Den&opi=89978449&sa=U&ved=0ahUKEwiwrO2QtOCJAxV1JNAFHa7dOnQQxs8CCFI&usg=AOvVaw1rkcG4tnngSU7UcgjkXOZQ',\n",
              "  'https://www.google.com/preferences?hl=en&fg=1&sa=X&ved=0ahUKEwiwrO2QtOCJAxV1JNAFHa7dOnQQ5fUCCFM',\n",
              "  'https://policies.google.com/privacy?hl=en&fg=1',\n",
              "  'https://policies.google.com/terms?hl=en&fg=1',\n",
              "  '/setprefs?hl=en&prev=https://www.google.com/search?q%3Dyahoo%2Bfinance%2BBTC%26tbm%3Dnws%26pccc%3D1&sig=0_ihDdt6RMNEhqHExASqzeFugpplk%3D&cs=2&sa=X&ved=0ahUKEwiwrO2QtOCJAxV1JNAFHa7dOnQQjcAJCFQ']}"
            ]
          },
          "metadata": {},
          "execution_count": 20
        }
      ]
    },
    {
      "cell_type": "code",
      "source": [
        "raw_urls['GME']\n"
      ],
      "metadata": {
        "colab": {
          "base_uri": "https://localhost:8080/"
        },
        "id": "fxJWpZOXCOSn",
        "outputId": "80808427-0917-45a8-8724-30ae4279ee02"
      },
      "execution_count": 21,
      "outputs": [
        {
          "output_type": "execute_result",
          "data": {
            "text/plain": [
              "['/?sa=X&ved=0ahUKEwjskreQtOCJAxU-6ckDHXoULyAQOwgC',\n",
              " '/search?q=yahoo+finance+GME&sca_esv=ab1b28e242c283c4&ie=UTF-8&tbm=nws&gbv=1&sei=JlQ4Z-znM77Sp84P-qi8gQI',\n",
              " '/search?q=yahoo+finance+GME&sca_esv=ab1b28e242c283c4&ie=UTF-8&source=lnms&sa=X&ved=0ahUKEwjskreQtOCJAxU-6ckDHXoULyAQ_AUIBSgA',\n",
              " '/search?q=yahoo+finance+GME&sca_esv=ab1b28e242c283c4&ie=UTF-8&tbm=vid&source=lnms&sa=X&ved=0ahUKEwjskreQtOCJAxU-6ckDHXoULyAQ_AUIBygC',\n",
              " '/search?q=yahoo+finance+GME&sca_esv=ab1b28e242c283c4&ie=UTF-8&tbm=isch&source=lnms&sa=X&ved=0ahUKEwjskreQtOCJAxU-6ckDHXoULyAQ_AUICCgD',\n",
              " '/url?q=https://maps.google.com/maps%3Fq%3Dyahoo%2Bfinance%2BGME%26um%3D1%26ie%3DUTF-8%26ved%3D1t:200713%26ictx%3D111&opi=89978449&sa=U&ved=0ahUKEwjskreQtOCJAxU-6ckDHXoULyAQiaAMCAkoBA&usg=AOvVaw2EyEnWSoqsqB1eLb-UHLvO',\n",
              " '/url?q=/search%3Fq%3Dyahoo%2Bfinance%2BGME%26sca_esv%3Dab1b28e242c283c4%26ie%3DUTF-8%26tbm%3Dshop%26source%3Dlnms%26ved%3D1t:200713%26ictx%3D111&opi=89978449&sa=U&ved=0ahUKEwjskreQtOCJAxU-6ckDHXoULyAQiaAMCAooBQ&usg=AOvVaw3X8GR16z8XkcM3vUgE106v',\n",
              " '/search?q=yahoo+finance+GME&sca_esv=ab1b28e242c283c4&ie=UTF-8&tbm=bks&source=lnms&sa=X&ved=0ahUKEwjskreQtOCJAxU-6ckDHXoULyAQ_AUICygG',\n",
              " '/advanced_search',\n",
              " '/search?q=yahoo+finance+GME&sca_esv=ab1b28e242c283c4&ie=UTF-8&tbm=nws&source=lnt&tbs=qdr:h&sa=X&ved=0ahUKEwjskreQtOCJAxU-6ckDHXoULyAQpwUIDQ',\n",
              " '/search?q=yahoo+finance+GME&sca_esv=ab1b28e242c283c4&ie=UTF-8&tbm=nws&source=lnt&tbs=qdr:d&sa=X&ved=0ahUKEwjskreQtOCJAxU-6ckDHXoULyAQpwUIDg',\n",
              " '/search?q=yahoo+finance+GME&sca_esv=ab1b28e242c283c4&ie=UTF-8&tbm=nws&source=lnt&tbs=qdr:w&sa=X&ved=0ahUKEwjskreQtOCJAxU-6ckDHXoULyAQpwUIDw',\n",
              " '/search?q=yahoo+finance+GME&sca_esv=ab1b28e242c283c4&ie=UTF-8&tbm=nws&source=lnt&tbs=qdr:m&sa=X&ved=0ahUKEwjskreQtOCJAxU-6ckDHXoULyAQpwUIEA',\n",
              " '/search?q=yahoo+finance+GME&sca_esv=ab1b28e242c283c4&ie=UTF-8&tbm=nws&source=lnt&tbs=qdr:y&sa=X&ved=0ahUKEwjskreQtOCJAxU-6ckDHXoULyAQpwUIEQ',\n",
              " '/search?q=yahoo+finance+GME&sca_esv=ab1b28e242c283c4&ie=UTF-8&tbm=nws&source=lnt&tbs=ar:1&sa=X&ved=0ahUKEwjskreQtOCJAxU-6ckDHXoULyAQpwUIEg',\n",
              " '/search?q=yahoo+finance+GME&sca_esv=ab1b28e242c283c4&ie=UTF-8&tbm=nws&source=lnt&tbs=sbd:1&sa=X&ved=0ahUKEwjskreQtOCJAxU-6ckDHXoULyAQpwUIFA',\n",
              " '/url?q=https://finance.yahoo.com/news/heres-why-gamestop-gme-fell-224520124.html&sa=U&ved=2ahUKEwjskreQtOCJAxU-6ckDHXoULyAQxfQBegQIBhAC&usg=AOvVaw0s3yAQdamNMiLSdT2yWo65',\n",
              " '/url?q=https://finance.yahoo.com/news/gamestop-gme-falls-more-steeply-224520779.html&sa=U&ved=2ahUKEwjskreQtOCJAxU-6ckDHXoULyAQxfQBegQICRAC&usg=AOvVaw3KBPCy5ZIZ8O6mL8fe3AUJ',\n",
              " '/url?q=https://finance.yahoo.com/news/jim-cramer-says-gamestop-gme-134244137.html&sa=U&ved=2ahUKEwjskreQtOCJAxU-6ckDHXoULyAQxfQBegQIAxAC&usg=AOvVaw0PtFYELyaURXj5xo7mUUrt',\n",
              " '/url?q=https://finance.yahoo.com/news/gamestop-gme-stock-drops-despite-214519430.html&sa=U&ved=2ahUKEwjskreQtOCJAxU-6ckDHXoULyAQxfQBegQIBBAC&usg=AOvVaw3Zd8S4afF80HNC6cZ5KgIB',\n",
              " '/url?q=https://finance.yahoo.com/news/gamestop-gme-registers-bigger-fall-214521016.html&sa=U&ved=2ahUKEwjskreQtOCJAxU-6ckDHXoULyAQxfQBegQIBxAC&usg=AOvVaw38IAPg9hkcTJsyXqI1yEDF',\n",
              " '/url?q=https://finance.yahoo.com/news/why-gamestop-gme-dipped-more-214520142.html&sa=U&ved=2ahUKEwjskreQtOCJAxU-6ckDHXoULyAQxfQBegQIBRAC&usg=AOvVaw0zyjJbktbeh2nHyBdkC3d4',\n",
              " '/url?q=https://finance.yahoo.com/news/investors-heavily-search-gamestop-corp-130016370.html&sa=U&ved=2ahUKEwjskreQtOCJAxU-6ckDHXoULyAQxfQBegQIAhAC&usg=AOvVaw0b2ttb5mqdo2NvEXoh9jNb',\n",
              " '/url?q=https://finance.yahoo.com/news/gamestop-gme-stock-moves-1-214524513.html&sa=U&ved=2ahUKEwjskreQtOCJAxU-6ckDHXoULyAQxfQBegQIARAC&usg=AOvVaw39BPA7ufEnFnRj5ibJq6eQ',\n",
              " '/url?q=https://finance.yahoo.com/news/gamestop-gme-stock-moves-0-215522235.html&sa=U&ved=2ahUKEwjskreQtOCJAxU-6ckDHXoULyAQxfQBegQIABAC&usg=AOvVaw2pT9sSOtu9Ls9ie0jhcOTT',\n",
              " '/url?q=https://finance.yahoo.com/news/why-diamond-hill-long-short-122844695.html&sa=U&ved=2ahUKEwjskreQtOCJAxU-6ckDHXoULyAQxfQBegQICBAC&usg=AOvVaw3Y4jS1z0DNw3CYZtVxZZtv',\n",
              " '/search?q=yahoo+finance+GME&sca_esv=ab1b28e242c283c4&ie=UTF-8&tbm=nws&ei=JlQ4Z-znM77Sp84P-qi8gQI&start=10&sa=N',\n",
              " '/url?q=https://support.google.com/websearch%3Fp%3Dws_settings_location%26hl%3Den&opi=89978449&sa=U&ved=0ahUKEwjskreQtOCJAxU-6ckDHXoULyAQty4IUw&usg=AOvVaw1Xe3ZTSZQQGkB8nf2uj9eH',\n",
              " '/url?q=https://accounts.google.com/ServiceLogin%3Fcontinue%3Dhttps://www.google.com/search%253Fq%253Dyahoo%252Bfinance%252BGME%2526tbm%253Dnws%26hl%3Den&opi=89978449&sa=U&ved=0ahUKEwjskreQtOCJAxU-6ckDHXoULyAQxs8CCFQ&usg=AOvVaw0RKM7AEEhorC7fWuLtf6Xc',\n",
              " 'https://www.google.com/preferences?hl=en&fg=1&sa=X&ved=0ahUKEwjskreQtOCJAxU-6ckDHXoULyAQ5fUCCFU',\n",
              " 'https://policies.google.com/privacy?hl=en&fg=1',\n",
              " 'https://policies.google.com/terms?hl=en&fg=1',\n",
              " '/setprefs?hl=en&prev=https://www.google.com/search?q%3Dyahoo%2Bfinance%2BGME%26tbm%3Dnws%26pccc%3D1&sig=0_VPRSKFEdkzBDwxZgDsU9h2yaSK4%3D&cs=2&sa=X&ved=0ahUKEwjskreQtOCJAxU-6ckDHXoULyAQjcAJCFY']"
            ]
          },
          "metadata": {},
          "execution_count": 21
        }
      ]
    },
    {
      "cell_type": "markdown",
      "source": [
        "## 4.2. Strip out unwanted URLs\n"
      ],
      "metadata": {
        "id": "3mbFadJvCcPX"
      }
    },
    {
      "cell_type": "code",
      "source": [
        "import re\n"
      ],
      "metadata": {
        "id": "ht9Y37tJCej3"
      },
      "execution_count": 22,
      "outputs": []
    },
    {
      "cell_type": "code",
      "source": [
        "exclude_list = ['maps', 'policies', 'preferences', 'accounts', 'support']\n"
      ],
      "metadata": {
        "id": "Xm8rOulNCgXk"
      },
      "execution_count": 23,
      "outputs": []
    },
    {
      "cell_type": "code",
      "source": [
        "def strip_unwanted_urls(urls, exclude_list):\n",
        "    val = []\n",
        "    for url in urls:\n",
        "        if 'https://' in url and not any(exclude_word in url for exclude_word in exclude_list):\n",
        "            res = re.findall(r'(https?://\\S+)', url)[0].split('&')[0]\n",
        "            val.append(res)\n",
        "    return list(set(val))"
      ],
      "metadata": {
        "id": "0mJOI_D7Cj0a"
      },
      "execution_count": 24,
      "outputs": []
    },
    {
      "cell_type": "code",
      "source": [
        "cleaned_urls = {ticker:strip_unwanted_urls(raw_urls[ticker], exclude_list) for ticker in monitored_tickers}\n",
        "cleaned_urls"
      ],
      "metadata": {
        "colab": {
          "base_uri": "https://localhost:8080/"
        },
        "id": "M6HFs8uGCmZT",
        "outputId": "08c1209d-cd2c-4cb5-f5ab-a06ec8085660"
      },
      "execution_count": 25,
      "outputs": [
        {
          "output_type": "execute_result",
          "data": {
            "text/plain": [
              "{'GME': ['https://finance.yahoo.com/news/gamestop-gme-falls-more-steeply-224520779.html',\n",
              "  'https://www.google.com/search?q%3Dyahoo%2Bfinance%2BGME%26tbm%3Dnws%26pccc%3D1',\n",
              "  'https://finance.yahoo.com/news/why-diamond-hill-long-short-122844695.html',\n",
              "  'https://finance.yahoo.com/news/gamestop-gme-stock-drops-despite-214519430.html',\n",
              "  'https://finance.yahoo.com/news/why-gamestop-gme-dipped-more-214520142.html',\n",
              "  'https://finance.yahoo.com/news/heres-why-gamestop-gme-fell-224520124.html',\n",
              "  'https://finance.yahoo.com/news/gamestop-gme-registers-bigger-fall-214521016.html',\n",
              "  'https://finance.yahoo.com/news/gamestop-gme-stock-moves-0-215522235.html',\n",
              "  'https://finance.yahoo.com/news/investors-heavily-search-gamestop-corp-130016370.html',\n",
              "  'https://finance.yahoo.com/news/jim-cramer-says-gamestop-gme-134244137.html',\n",
              "  'https://finance.yahoo.com/news/gamestop-gme-stock-moves-1-214524513.html'],\n",
              " 'TSLA': ['https://finance.yahoo.com/video/hedge-funds-shorting-tesla-stock-145155395.html',\n",
              "  'https://finance.yahoo.com/news/tesla-inc-tsla-morgan-stanley-014425988.html',\n",
              "  'https://finance.yahoo.com/video/futures-hedge-funds-pull-back-143647116.html',\n",
              "  'https://finance.yahoo.com/news/tesla-nasdaq-tsla-seems-debt-140111992.html',\n",
              "  'https://www.google.com/search?q%3Dyahoo%2Bfinance%2BTSLA%26tbm%3Dnws%26pccc%3D1',\n",
              "  'https://finance.yahoo.com/news/tesla-stock-to-settle-after-recent-surge-nuveen-cio-204349139.html',\n",
              "  'https://finance.yahoo.com/news/why-tesla-stock-keeps-going-180848891.html',\n",
              "  'https://finance.yahoo.com/news/live/stock-market-today-dow-sp-500-close-above-key-milestones-as-tesla-bitcoin-surge-210057604.html',\n",
              "  'https://finance.yahoo.com/news/tesla-stock-falls-as-trump-trade-fades-and-ev-tax-credits-come-under-threat-170918953.html',\n",
              "  'https://finance.yahoo.com/news/2-companies-unlocking-higher-profits-002900585.html',\n",
              "  'https://finance.yahoo.com/news/tesla-inc-tsla-best-stock-190803129.html'],\n",
              " 'BTC': ['https://finance.yahoo.com/news/u-bitcoin-plan-could-ignite-192515490.html',\n",
              "  'https://finance.yahoo.com/video/bitcoin-dogecoin-super-micro-planet-171241925.html',\n",
              "  'https://finance.yahoo.com/news/analyst-vaneck-says-bitcoin-might-082458385.html',\n",
              "  'https://uk.finance.yahoo.com/news/bitcoin-price-trump-election-cryptocurrency-poll-060012675.html',\n",
              "  'https://finance.yahoo.com/news/vaneck-ceo-boldly-predicts-bitcoin-144521276.html',\n",
              "  'https://finance.yahoo.com/video/bitcoin-minimize-taxes-crypto-investors-172340880.html',\n",
              "  'https://finance.yahoo.com/news/bhutan-cashes-33-5b-bitcoin-081756733.html',\n",
              "  'https://finance.yahoo.com/video/strategic-bitcoin-top-trumps-list-215519534.html',\n",
              "  'https://www.google.com/search?q%3Dyahoo%2Bfinance%2BBTC%26tbm%3Dnws%26pccc%3D1',\n",
              "  'https://finance.yahoo.com/news/three-best-cryptocurrencies-buy-now-080900747.html',\n",
              "  'https://finance.yahoo.com/news/bitcoin-touches-record-high-above-93000-on-optimism-around-trumps-pro-crypto-promises-181405097.html']}"
            ]
          },
          "metadata": {},
          "execution_count": 25
        }
      ]
    },
    {
      "cell_type": "markdown",
      "source": [
        "## 4.3. Search and Scrape Cleaned URLs\n"
      ],
      "metadata": {
        "id": "dMS_O66JCpzC"
      }
    },
    {
      "cell_type": "code",
      "source": [
        "def scrape_and_process(URLs):\n",
        "    ARTICLES = []\n",
        "    for url in URLs:\n",
        "        r = requests.get(url)\n",
        "        soup = BeautifulSoup(r.text, 'html.parser')\n",
        "        paragraphs = soup.find_all('p')\n",
        "        text = [paragraph.text for paragraph in paragraphs]\n",
        "        words = ' '.join(text).split(' ')[:350]\n",
        "        ARTICLE = ' '.join(words)\n",
        "        ARTICLES.append(ARTICLE)\n",
        "    return ARTICLES"
      ],
      "metadata": {
        "id": "3SqGIkoECsji"
      },
      "execution_count": 26,
      "outputs": []
    },
    {
      "cell_type": "code",
      "source": [
        "articles = {ticker:scrape_and_process(cleaned_urls[ticker]) for ticker in monitored_tickers}\n",
        "articles"
      ],
      "metadata": {
        "colab": {
          "base_uri": "https://localhost:8080/"
        },
        "id": "Nar4vWkKCxIt",
        "outputId": "f0686e30-2fbc-47c0-b21a-7bd947b4088c"
      },
      "execution_count": 27,
      "outputs": [
        {
          "output_type": "execute_result",
          "data": {
            "text/plain": [
              "{'GME': [\"We are experiencing some temporary issues. The market data on this page is currently delayed. Please bear with us as we address this and restore your personalized lists. GameStop (GME) closed the latest trading day at $22.33, indicating a -0.36% change from the previous session's end. This change lagged the S&P 500's 0.28% loss on the day. Meanwhile, the Dow lost 0.61%, and the Nasdaq, a tech-heavy index, lost 0.33%. Heading into today, shares of the video game retailer had gained 4.72% over the past month, outpacing the Consumer Discretionary sector's gain of 2.26% and the S&P 500's gain of 0.41% in that time. Market participants will be closely following the financial results of GameStop in its upcoming release. At the same time, our most recent consensus estimate is projecting a revenue of $900 million, reflecting a 16.54% fall from the equivalent quarter last year. Regarding the entire year, the Zacks Consensus Estimates forecast earnings of $0.01 per share and revenue of $4.03 billion, indicating changes of -83.33% and -23.57%, respectively, compared to the previous year. Furthermore, it would be beneficial for investors to monitor any recent shifts in analyst projections for GameStop. These revisions help to show the ever-changing nature of near-term business trends. As a result, upbeat changes in estimates indicate analysts' favorable outlook on the company's business health and profitability. Based on our research, we believe these estimate revisions are directly related to near-team stock moves. To capitalize on this, we've crafted the Zacks Rank, a unique model that incorporates these estimate changes and offers a practical rating system. Ranging from #1 (Strong Buy) to #5 (Strong Sell), the Zacks Rank system has a proven, outside-audited track record of outperformance, with #1 stocks returning an average of +25% annually since 1988. Over the last 30 days, the Zacks Consensus EPS estimate has witnessed an unchanged state. GameStop is holding a Zacks Rank of #3 (Hold) right now. Looking at its valuation, GameStop is holding a Forward P/E ratio of 2241. This expresses a premium compared to the average Forward P/E of 21.5 of its industry. The Gaming\",\n",
              "  '© 2024 - Privacy - Terms',\n",
              "  'Thank you for your patience. Our engineers are working quickly to resolve the issue.',\n",
              "  'Thank you for your patience. Our engineers are working quickly to resolve the issue.',\n",
              "  \"We are experiencing some temporary issues. The market data on this page is currently delayed. Please bear with us as we address this and restore your personalized lists. GameStop (GME) closed at $20.54 in the latest trading session, marking a -1.86% move from the prior day. The stock trailed the S&P 500, which registered a daily loss of 0.92%. At the same time, the Dow lost 0.96%, and the tech-heavy Nasdaq lost 1.6%. The the stock of video game retailer has fallen by 7.51% in the past month, lagging the Consumer Discretionary sector's gain of 3.47% and the S&P 500's gain of 2.68%. Analysts and investors alike will be keeping a close eye on the performance of GameStop in its upcoming earnings disclosure. In the meantime, our current consensus estimate forecasts the revenue to be $900 million, indicating a 16.54% decline compared to the corresponding quarter of the prior year. GME's full-year Zacks Consensus Estimates are calling for earnings of $0.01 per share and revenue of $4.03 billion. These results would represent year-over-year changes of -83.33% and -23.57%, respectively. Investors should also pay attention to any latest changes in analyst estimates for GameStop. These revisions typically reflect the latest short-term business trends, which can change frequently. As a result, we can interpret positive estimate revisions as a good sign for the company's business outlook. Research indicates that these estimate revisions are directly correlated with near-term share price momentum. To capitalize on this, we've crafted the Zacks Rank, a unique model that incorporates these estimate changes and offers a practical rating system. The Zacks Rank system ranges from #1 (Strong Buy) to #5 (Strong Sell). It has a remarkable, outside-audited track record of success, with #1 stocks delivering an average annual return of +25% since 1988. Over the last 30 days, the Zacks Consensus EPS estimate has witnessed an unchanged state. GameStop is currently a Zacks Rank #3 (Hold). Investors should also note GameStop's current valuation metrics, including its Forward P/E ratio of 2093. This denotes a premium relative to the industry's average Forward P/E of 20.79. The Gaming industry is\",\n",
              "  \"We are experiencing some temporary issues. The market data on this page is currently delayed. Please bear with us as we address this and restore your personalized lists. The latest trading session saw GameStop (GME) ending at $26.84, denoting a -1.54% adjustment from its last day's close. The stock trailed the S&P 500, which registered a daily loss of 0.29%. Meanwhile, the Dow experienced a drop of 0.86%, and the technology-dominated Nasdaq saw a decrease of 0.09%. Coming into today, shares of the video game retailer had gained 27.8% in the past month. In that same time, the Consumer Discretionary sector gained 6.91%, while the S&P 500 gained 3.3%. Investors will be eagerly watching for the performance of GameStop in its upcoming earnings disclosure. Meanwhile, our latest consensus estimate is calling for revenue of $900 million, down 16.54% from the prior-year quarter. In terms of the entire fiscal year, the Zacks Consensus Estimates predict earnings of $0.01 per share and a revenue of $4.03 billion, indicating changes of -83.33% and -23.57%, respectively, from the former year. Investors should also take note of any recent adjustments to analyst estimates for GameStop. These revisions typically reflect the latest short-term business trends, which can change frequently. As a result, upbeat changes in estimates indicate analysts' favorable outlook on the company's business health and profitability. Our research demonstrates that these adjustments in estimates directly associate with imminent stock price performance. We developed the Zacks Rank to capitalize on this phenomenon. Our system takes these estimate changes into account and delivers a clear, actionable rating model. The Zacks Rank system, running from #1 (Strong Buy) to #5 (Strong Sell), holds an admirable track record of superior performance, independently audited, with #1 stocks contributing an average annual return of +25% since 1988. Within the past 30 days, our consensus EPS projection remained stagnant. As of now, GameStop holds a Zacks Rank of #3 (Hold). In terms of valuation, GameStop is currently trading at a Forward P/E ratio of 2726. This expresses a premium compared to the average Forward P/E of 24.2 of its industry. The Gaming\",\n",
              "  \"The latest trading session saw GameStop (GME) ending at $21.36, denoting a -1.41% adjustment from its last day's close. This change lagged the S&P 500's 0.02% loss on the day. Meanwhile, the Dow experienced a rise of 0.38%, and the technology-dominated Nasdaq saw an increase of 0.04%. The video game retailer's stock has climbed by 10.23% in the past month, exceeding the Consumer Discretionary sector's gain of 7.27% and the S&P 500's gain of 3.77%. The investment community will be closely monitoring the performance of GameStop in its forthcoming earnings report. In the meantime, our current consensus estimate forecasts the revenue to be $900 million, indicating a 16.54% decline compared to the corresponding quarter of the prior year. For the full year, the Zacks Consensus Estimates project earnings of $0.01 per share and a revenue of $4.03 billion, demonstrating changes of -83.33% and -23.57%, respectively, from the preceding year. Investors should also note any recent changes to analyst estimates for GameStop. Such recent modifications usually signify the changing landscape of near-term business trends. Consequently, upward revisions in estimates express analysts' positivity towards the company's business operations and its ability to generate profits. Based on our research, we believe these estimate revisions are directly related to near-team stock moves. We developed the Zacks Rank to capitalize on this phenomenon. Our system takes these estimate changes into account and delivers a clear, actionable rating model. The Zacks Rank system, which varies between #1 (Strong Buy) and #5 (Strong Sell), carries an impressive track record of exceeding expectations, confirmed by external audits, with stocks at #1 delivering an average annual return of +25% since 1988. Over the past month, the Zacks Consensus EPS estimate has remained steady. At present, GameStop boasts a Zacks Rank of #3 (Hold). In terms of valuation, GameStop is presently being traded at a Forward P/E ratio of 2166. This represents a premium compared to its industry's average Forward P/E of 20.82. The Gaming industry is part of the Consumer Discretionary sector. Currently, this industry holds a Zacks Industry Rank of 105, positioning it in the top 42% of\",\n",
              "  'Thank you for your patience. Our engineers are working quickly to resolve the issue.',\n",
              "  'Thank you for your patience. Our engineers are working quickly to resolve the issue.',\n",
              "  'Thank you for your patience. Our engineers are working quickly to resolve the issue.',\n",
              "  'Thank you for your patience. Our engineers are working quickly to resolve the issue.'],\n",
              " 'TSLA': ['Thank you for your patience. Our engineers are working quickly to resolve the issue.',\n",
              "  \"We are experiencing some temporary issues. The market data on this page is currently delayed. Please bear with us as we address this and restore your personalized lists. We recently compiled a list of the 15 AI News That Broke The Internet.\\xa0In this article, we are going to take a look at where Tesla, Inc.\\xa0(NASDAQ:TSLA) stands against the other AI stocks that broke the Internet. One conversation gaining traction in Silicon Valley these days is how the advancement of Generative AI models is slowing down. Deirdre Bosa takes a look at the matter in CNBC’s TechCheck, revealing how rapid genAI advancements are now showing signs of deceleration. She notes how the quality of improvement in OpenAI's upcoming model, Orion, is expected to be smaller than the leap from ChatGPT-3 to ChatGPT-4. This smaller advancement is largely due to a limited supply of training data, a key factor that could significantly affect how investors view AI companies. READ ALSO:\\xa015 AI News That Should Not Be Ignored and 10 Trending AI Stocks on Latest Analyst Ratings and News\\xa0  Nevertheless, OpenAI CEO Sam Altman has boasted on X that ChatGPT is now the eighth-biggest website in the world by traffic. As of October, ChatGPT had 3.7 billion visits, versus Perplexity’s 91 million visits, and Google Gemini's 292 million visits. Nevertheless, the plateau in technology advancement doesn’t necessarily mean a slowdown. For instance, Mark Zuckerberg proposes that there is a lot of opportunity to build consumer enterprise applications on top of the existing technology. While that is certainly an option, Reuters has reported that artificial intelligence companies are seeking a new path to smarter AI due to the plateau. Ilya Sutskever, co-founder of AI labs Safe Superintelligence (SSI) and OpenAI, told Reuters recently that scaling up pre-training for AI models, which involves using large amounts of unlabeled data to learn language patterns, has reached a plateau. “The 2010s were the age of scaling, now we're back in the age of wonder and discovery once again. Everyone is looking for the next thing. Scaling the right thing matters more now than ever”. In light\",\n",
              "  'Thank you for your patience. Our engineers are working quickly to resolve the issue.',\n",
              "  \"We are experiencing some temporary issues. The market data on this page is currently delayed. Please bear with us as we address this and restore your personalized lists. Legendary fund manager Li Lu (who Charlie Munger backed) once said, 'The biggest investment risk is not the volatility of prices, but whether you will suffer a permanent loss of capital.' So it seems the smart money knows that debt - which is usually involved in bankruptcies - is a very important factor, when you assess how risky a company is. Importantly, Tesla, Inc. (NASDAQ:TSLA) does carry debt. But the more important question is: how much risk is that debt creating? Generally speaking, debt only becomes a real problem when a company can't easily pay it off, either by raising capital or with its own cash flow. Ultimately, if the company can't fulfill its legal obligations to repay debt, shareholders could walk away with nothing. However, a more common (but still painful) scenario is that it has to raise new equity capital at a low price, thus permanently diluting shareholders. Of course, debt can be an important tool in businesses, particularly capital heavy businesses. When we examine debt levels, we first consider both cash and debt levels, together.  View our latest analysis for Tesla  The image below, which you can click on for greater detail, shows that at September 2024 Tesla had debt of US$7.39b, up from US$3.70b in one year. But it also has US$33.6b in cash to offset that, meaning it has US$26.3b net cash. Zooming in on the latest balance sheet data, we can see that Tesla had liabilities of US$30.6b due within 12 months and liabilities of US$18.6b due beyond that. Offsetting these obligations, it had cash of US$33.6b as well as receivables valued at US$3.48b due within 12 months. So its liabilities total US$12.0b more than the combination of its cash and short-term receivables. This state of affairs indicates that Tesla's balance sheet looks quite solid, as its total liabilities are just about equal to its liquid assets. So while it's hard to imagine that\",\n",
              "  '© 2024 - Privacy - Terms',\n",
              "  'We are experiencing some temporary issues. The market data on this page is currently delayed. Please bear with us as we address this and restore your personalized lists. Listen and subscribe to Opening Bid on Apple Podcasts, Spotify, or wherever you find your favorite podcasts. Tesla\\'s (TSLA) post-election surge has had investors wondering if the volatile stock might be in a bubble. Trump’s bullish sentiment overall about Elon Musk brought “a lot of attention to Tesla, which made the stock spike,” Saira Malik, chief investment officer at Nuveen, told Yahoo Finance Executive Editor Brian Sozzi during Yahoo Finance\\'s \"Opening Bid\" podcast (video above). The market has been on a rally since Trump\\'s win, particularly in sectors that are seen as beneficiaries of his policies. Though the president-elect has not been a fan of green energy and may withdraw the $7,500 EV credit created under the Biden administration, Tesla may be in a favorable position due to its CEO\\'s connection with Trump. Trump and Musk have publicly praised each other, with the latter donating at least $132 million to Trump and other Republicans\\' campaigns. Trump has hinted at a role for Musk in his administration — as the head of a newly created Department of Government Efficiency — and Musk has expressed interest in taking the job.   Two catalysts for Tesla are the world\\'s continued transition to renewable energy and EVs and Musk’s relationship with Trump, per Malik. “For the long term, it has a lot of growth trajectory in front of it,” she said. Shares of Tesla have been on a roller-coaster ride in 2024, as concerns about slowing growth hammered the stock in Q1. But the stock is up 16% since Nov. 6 and 33% year to date. It still lags behind Magnificent Seven peers like Nvidia, up over 200% this year, and Amazon, up 39%. This points to Tesla\\'s rise being “part of a catch-up trade for [the] stock,” said Malik. \"With these stocks reacting so strongly in the past week or so, what we\\'re seeing today is them starting to settle down.\" Deutsche Bank’s Edison',\n",
              "  'We are experiencing some temporary issues. The market data on this page is currently delayed. Please bear with us as we address this and restore your personalized lists. Tesla (NASDAQ: TSLA) stock continued putting pedal to metal as stock markets reopened for business Monday. Through 12:20 p.m. ET, the electric car leader gained 7.3%, bringing total gains since Donald Trump won reelection (with Elon Musk\\'s support) to a staggering 37%. Oh, and Tesla is a trillion-dollar company again — $1.1 trillion, to be precise. Start Your Mornings Smarter! Wake up with Breakfast news in your inbox every market day. Sign Up For Free » Today\\'s gains owe in part to growing enthusiasm for Tesla stock on Wall Street. Specifically, investors seem to be reacting to a new price target hike from investment bank Wedbush. According to reports, Wedbush analyst Daniel Ives just raised his price target on Tesla stock to $400 — a 33% increase. \"The Trump White House win will be a gamechanger for the autonomous and AI story for Tesla and Musk over the coming years,\" predicts Ives. More than just a reward for financial support that helped him win reelection, the analyst anticipates that a new Trump administration will clear out the \"federal regulatory spiderweb\" that has slow-rolled developments in artificial intelligence and self-driving cars alike. And while it\\'s hard to quantify what that might mean for Tesla (Ives says $1 trillion, but really, that\\'s just a guess), Musk has positioned Tesla to capitalize on these technologies. If a Trump White House works to get these developments fast-tracked, Tesla would be a logical company to benefit from that. Enticing investors with big, round numbers like $1 trillion, without providing math to support the number, is a great way to attract momentum traders to Tesla stock. More cautious investors, however, shouldn\\'t ignore the math. After its run-up these past few days, Tesla stock now costs a distressingly high 88 times trailing earnings, and 322 times free cash flow. Tesla\\'s going to have to grow awfully fast to justify those multiples. Worse, it may have only four years in',\n",
              "  'We are experiencing some temporary issues. The market data on this page is currently delayed. Please bear with us as we address this and restore your personalized lists. The Dow and S&P 500 both closed above key milestones Monday as Wall Street built on a roaring post-election rally. The \"Trump trade\" again took the spotlight in markets, with bitcoin (BTC-USD) nearing $87,000 and shares of Tesla (TSLA) jumping for a fifth straight session. The Dow Jones Industrial Average (^DJI) led the way higher, up almost 0.7% to close above 44,000 for the first time ever, while the S&P 500 (^GSPC) closed above the 6,000 milestone. Both indexes are coming off their best week of the year, capped by record highs. Meanwhile, the tech-heavy Nasdaq Composite (^IXIC) closed just above the flat line as Nvidia (NVDA), Apple (AAPL), and Meta (META) lagged. Small-cap stocks also rose, with the Russell 2,000 (^RUT) hitting its highest level since November 2021. The markets opened on Veterans Day near all-time highs thanks in large part to expectations for lower corporate taxes and deregulation from President-elect Donald Trump. The Federal Reserve\\'s latest interest rate cut also buoyed the mood. Bitcoin hit a record amid high hopes for a crypto-friendly Trump administration and Congress. Dogecoin (DOGE-USD) and other smaller digital currencies also gained as traders bet on Trump\\'s promise to make the US a leading light in crypto. That optimism also helped push crypto-related stocks higher, building on sharp gains booked since the election. Trading platform provider Coinbase (COIN) rose over 20%, while shares in peer Robinhood (HOOD) put on over 10%. Tesla stock — another \"Trump trade\" hot spot — continued to climb, up over 8%. The electric vehicle maker\\'s stock hit its highest close in over two years on Friday, topping $1 trillion in market value amid optimism over CEO Elon Musk\\'s relationship with the incoming president. At the same time, doubts about the stock market rally\\'s staying power are starting to emerge. Wall Street is waiting for October consumer inflation data on Wednesday for pointers to the path of rates. Last week, Chair Jerome',\n",
              "  'We are experiencing some temporary issues. The market data on this page is currently delayed. Please bear with us as we address this and restore your personalized lists. Tesla (TSLA) stock fell as the stock\\'s post-election gains faded amid a cooling of the Trump trade and a new report from Reuters that suggested EV tax credits could be cut under the incoming Trump administration. Tesla stock closed 5.7% lower on Thursdat after Reuters reported Trump\\'s team has drawn up plans to eliminate the $7,500 tax credit for electric vehicle buyers as part of a broader tax reform. Shares continued to slip early on Friday, down over 1% in premarket trading. The report, which quoted two sources with knowledge of the matter, said the hallmark incentive of the Biden administration\\'s Inflation Reduction Act was being discussed in meetings by an energy policy transition team. Reuters\\' report added that Tesla representatives in touch with Trump\\'s team support ending the subsidy. Tesla stock opened Thursday\\'s session lower as the Trump trade rally was showing signs of fatigue. Still, shares remain close to 15% higher than where they opened the day after the election. Tesla is up more than 25% this year after a challenging first six months. The company this week also announced its sixth recall for the Cybertruck this year, recalling 2,400 pickups due to a faulty part that could lead to a loss of power and increase the risk of a collision. Tesla CEO Elon Musk is one of the business world\\'s biggest supporters of Trump and was a key surrogate for the president-elect in the final months of the campaign, Musk donated at least $132 million to Trump and other Republican campaigns. On Monday, Tesla shares reached their highest level since early 2022, with Wall Street analysts growing increasingly bullish on Musk\\'s connection to an incoming Trump administration. This week, Trump announced Musk and former GOP presidential candidate Vivek Ramaswamy would co-lead a new group to cut government waste. \"We are raising our price target on Tesla to $400 from $300 as we believe the Trump White House win will',\n",
              "  'We are experiencing some temporary issues. The market data on this page is currently delayed. Please bear with us as we address this and restore your personalized lists. Earnings season is slowly winding down, with just a small chunk of S&P 500 companies yet to reveal their quarterly results. The period has remained positive, with the growth trend expected to continue in the coming periods. Stay up-to-date with all quarterly releases: See Zacks Earnings Calendar. And throughout the period, several popular companies, including Advanced Micro Devices AMD and Tesla TSLA – enjoyed a profitability boost, seeing their margins improve on a year-over-year basis. Let’s take a closer look at the releases. \\xa0 Concerning headline figures in the release, AMD posted a 1.1% beat relative to the Zacks Consensus EPS estimate and reported sales 1.5% ahead of expectations, reflecting growth rates of 31% and 17%, respectively. Margin expansion aided the results in a big way, with a gross margin of 54% well above the 47% mark in the year-ago period. Margin expansion has been present for several periods, as shown below. Below is a chart illustrating the company’s margins on a trailing twelve-month basis. Image Source: Zacks Investment Research Notably, the company is now on track to deliver record annual revenue for 2024 thanks to significant growth among its Data Center and Client segments. In fact, Data Center revenue of $3.5 billion reflected a quarterly record, up an astonishing 122% on a year-over-year stack. AMD’s data center results have regularly exceeded our consensus expectations in recent quarters, as we can see below. Image Source: Zacks Investment Research \\xa0 While the company’s EV numbers are important, the real highlight of the Tesla release was margin expansion, with the company’s gross margin expanding nicely to 19.8% vs. a 17.9% print in the same period last year. As shown below, margins have finally begun recovering. Please note that the chart’s values are calculated on a trailing twelve-month basis. Image Source: Zacks Investment Research While margins remain well below highs set in 2022, the recent uptick is undoubtedly encouraging, further underpinned by the fact that',\n",
              "  'We are experiencing some temporary issues. The market data on this page is currently delayed. Please bear with us as we address this and restore your personalized lists. We recently published a list of 10 Best Stocks to Buy and Hold For 5 Years. In this article, we are going to take a look at where Tesla, Inc. (NASDAQ:TSLA) stands against other best stocks to buy and hold for 5 years. On November 7, Reuters reported that stocks in the United States were higher than usual after the Fed announced a 25 basis point rate cut, extending the rally fueled by the election results. The Fed decision came promptly after the job market showed signs of easing and inflation moved towards the Central Bank’s target of 2%. Most investors expect the new administration to ease taxes and regulations, all of which sparked all three of the major indexes. The S&P 500 and Dow, each logged their largest one-day percentage jumps in two years. Now that the elections are over, investors are keen to know how will markets perform amid election results. On November 8, Bethany McLean, contributing editor at Vanity Fair, joined\\xa0Catalysts\\xa0on\\xa0Yahoo Finance\\xa0to discuss why businesses may be optimistic as the new president takes over the White House. McLean emphasizes that investors foresee a myriad of benefits such as tax cut extensions, fewer regulations, and less aggressive antitrust oversight, all of which have sparked a surge in markets. Despite the possible benefits, she emphasizes it is difficult to predict what the administration is going to do at the moment. McLean expects the new administration to be friendlier with companies in the technology sector, however, she remains fixated on waiting to see how the policies play out. She further adds that if any future policies made by the new administration negatively impact the stock market, she expects them to “switch course.” On the flip side, some analysts maintain that the easing cycle has a greater bearing on the stock market than the elections, hinting that value names may be more important as of now. On November 7, Arup Datta, senior vice'],\n",
              " 'BTC': ['We are experiencing some temporary issues. The market data on this page is currently delayed. Please bear with us as we address this and restore your personalized lists. Senator Cynthia Lummis recently outlined a bold proposal: Within a hundred days of Donald Trump\\'s return to the presidency, she envisions a strategic bitcoin acquisition initiative by the U.S. government. According to Host of CryptosRus, George Tung, this plan would involve purchasing up to 5% of the total bitcoin supply to establish a reserve intended for national debt repayment over the next two decades. Tung explores the potentially explosive impact of this policy, which he says could lead to an unprecedented buying frenzy, with possible geopolitical ramifications. Tung sees this buying pressure as massive, stating, \"That\\'s a lot of buying pressure. That is going to be a lot,\" especially considering the additional demand from ETFs, retail investors, and other entities. He speculates that U.S. purchases could provoke reactions from other countries, suggesting, \"Do you think Putin and Xi...are going to sit back...and let the U.S. buy up 5% of the supply of bitcoin?\" According to Tung, rival nations might escalate their own acquisitions, saying, \"They might say, well, if they\\'re going to buy 5%, we\\'re going to buy 10%.\" The scenario Tung describes grows even more intense if corporations join the race, such as BlackRock\\'s speculated involvement. He asserts, \"If four entities try to buy 40% of the supply...that alone will drive bitcoin into the millions.\" He highlights how limited the global supply of bitcoin is, mentioning that even smaller countries, like Bhutan and El Salvador, have already started acquiring significant amounts of bitcoin. Fundstrat analyst Sean Farrell recently used the same logic to say he may need to adjust his $115,000 price target higher. Emphasizing bitcoin\\'s rarity, Tung states, \"There’s just not enough to go around,\" noting that demand significantly outstrips supply. He argues that this scarcity combined with bitcoin’s fixed supply underpins its value, calling it \"The scarcest asset that we have.\" To him, this is the primary reason bitcoin will continue to rise in value. Finally, Tung underscores bitcoin\\'s',\n",
              "  'Thank you for your patience. Our engineers are working quickly to resolve the issue.',\n",
              "  'We are experiencing some temporary issues. The market data on this page is currently delayed. Please bear with us as we address this and restore your personalized lists. The recent surge in Bitcoin (BTC) prices could well last into 2025 and see it reach highs of $180,000, said Matthew Sigel, head of digital assets research at VanEck. During a recent interview with CNBC Squawk Box, Sigel drew uncanny similarities between the digital currency\\'s ongoing post-election rally and that of its aftermath from the 2020 presidential election. \"As we expected, Bitcoin saw this high volatility pump after the election. We’re now in blue sky territory, no technical resistance, and we think we’re likely to make repeated all-time highs over the next two quarters,\" Sigel said, referring to financial periods ending March and June 2025. Starting from Election Day, Nov. 5, the cryptocurrency surged rather impressively, breaking successive resistance levels at $80,000, $85,000, and $90,000. Now trading around $88,500, Bitcoin currently retains market dominance of approximately 57% of the total cryptocurrency market capitalization. Drawing historic comparisons, Sigel went as far as noting that Bitcoin doubled in value between the 2020 election and the year\\'s end despite enduring multiple 10% corrections. Already up 30%, the current rally is painting similar patterns and promising signs of continued upward movement. Optimism from VanEck trickles up to company leadership; recently, CEO Jan Van Eck suggested that Bitcoin could reach $300,000 based on the idea that Bitcoin\\'s value could eventually equate to half of all outstanding gold. Sign in to access your portfolio',\n",
              "  'We are experiencing some temporary issues. The market data on this page is currently delayed. Please bear with us as we address this and restore your personalised lists. Given that you\\'d struggle to buy a coffee with bitcoin (BTC-USD) in many places, the token\\'s frequent rallies over the years have been held up as a sign of market froth. Since Donald Trump\\'s election win, however, even some skeptics are considering it as an investment bet. Across the sector, all eyes have been on bitcoin, which has made massive gains over the past week, reaching a new all-time high of $93,500 (£73,785) on Wednesday. At the time of writing, it was trading at $91,000. This is a rise of more than 34% since Trump\\'s victory. Many are considering its rally a \"big bang\" moment that is impossible for even hardened skeptics to ignore, as the FT reported.  Trump himself was once a crypto sceptic and suggested that the sector would probably need to be regulated in the face of its rising popularity. Those days are long gone, as the president-elect has since gone all in on bitcoin, launching a much-hyped but ultimately faltering crypto platform, and appearing at the Bitcoin2024 conference in Nashville. Analysts have been endlessly speculating that bitcoin\\'s price could reach $100,000 as soon as Christmas. Given its surge this week, this seems more likely than ever but we were keen to hear what our readers thought. In our poll of the week, we asked readers whether they thought the analysts were correct or misplaced about the $100,000 figure. At the time of writing, our poll had received 893 votes, with 69% voting yes, 23% voting no and 8% undecided. However high the price soars in the next few weeks, it\\'s clear that the bitcoin buzz is not likely to die down. If you\\'re thinking of investing but are unsure whether it\\'s the right time, here\\'s what you should know before you decide. Read more:  Bitcoin soars close to $100k as Trump election rally continues What does the launch of pension megafunds mean for investors? Best UK',\n",
              "  'We are experiencing some temporary issues. The market data on this page is currently delayed. Please bear with us as we address this and restore your personalized lists. VanEck CEO Jan van Eck has made waves with a bold forecast: Bitcoin could skyrocket to $300,000 within five to 10 years. This optimistic projection rests on Bitcoin\\'s ability to capture a substantial share of the gold market – a market long valued as a hedge against inflation. Don\\'t Miss: Over the last five years, the price of gold has increased by approximately 83% – Investors like Bill O’Reilly and Rudy Giuliani are using this platform to create customized gold IRAs to help shield their savings from inflation and economic turbulence.\\xa0 1 in four Americans own a share of Bitcoin according to Nasdaq – this platform touts returns as high as 12.5% APY and is giving $100 in welcome rewards if you sign up today. According to van Eck, the rise of traditional financial institutions (or \"TradFi\") investing in Bitcoin drives this trend, with many viewing it as a digital alternative to gold. Van Eck suggested that Bitcoin could eventually reach half of gold\\'s current market capitalization, giving the cryptocurrency a total valuation close to $7 trillion. Recent data from CoinGecko aligns with this bullish outlook. Bitcoin recently set a record above $89,000, although it settled back to around $90,000 shortly after. Individual investors are jumping into Bitcoin ETFs, a trend that JPMorgan analysts expect to continue through 2025. These ETFs are increasingly seen as a sign that retail and institutional investors trust Bitcoin as a potential \"digital gold.\" Trending: This well known prop trading firm is offering 100% of your first $25,000 profit per account and 90% after that. Here\\'s how to get a special 50% OFF CODE that lets you start out with monthly investments as low as $147 today. Michael Saylor, CEO of MicroStrategy and a known Bitcoin advocate, pointed out that in the future, bitcoin would be more valuable than gold. \"Bitcoin is certainly at least digital gold, it\\'s going to eat gold,\" Saylor said. \"It\\'s got all',\n",
              "  'Thank you for your patience. Our engineers are working quickly to resolve the issue.',\n",
              "  \"We are experiencing some temporary issues. The market data on this page is currently delayed. Please bear with us as we address this and restore your personalized lists. The Royal Government of Bhutan has sold 367 Bitcoin (BTC), worth about $33.5 million through major cryptocurrency exchange Binance. According to Arkham Intelligence, a blockchain analytics firm that tracked the transaction, the sale occurred Thursday morning when Bitcoin reached an intraday high of more than $90,000, before later retreating to $87,000. This latest sale makes the second significant Bitcoin sale for Bhutan in recent weeks, after one for $66 million upon Bitcoin's reach for $70,000. Combined, these sales totaled almost $100 million, yet the Himalayan nation continues as one of the bigger government Bitcoin holders with 12,206 Bitcoin still under management by Druk Holding & Investments, worth approximately $1.11 billion. This contrasts with other countries' more common reported asset seizures, unlike Bhutan which mines Bitcoin with abundant hydroelectric resources. The country’s trading pattern reflects a certain level of strategic timing in the sale of its holdings, reflecting sophisticated management of its cryptocurrency. Bhutan is fifth among countries holding BTC, after the United States, China, the United Kingdom, and Ukraine. Other nations are also benefiting from the current bull market. El Salvador, for example, one of the first countries to approve Bitcoin as tender, is using the surge as an opportunity to clean up some of its national debt burden and fund ambitious projects such as its planned Bitcoin City. In the U.S., from Senator Lummis' ambitious bill to make Federal Reserve gold holdings into Bitcoin, to a Pennsylvania bill exploring the use of 10% of state funds for crypto as an inflation hedge, new legislation is cropping up all over, inspired by the state of Wyoming’s leading charge. Sign in to access your portfolio\",\n",
              "  'Thank you for your patience. Our engineers are working quickly to resolve the issue.',\n",
              "  '© 2024 - Privacy - Terms',\n",
              "  'We are experiencing some temporary issues. The market data on this page is currently delayed. Please bear with us as we address this and restore your personalized lists. The cryptocurrency market has been surging recently with Bitcoin (CRYPTO: BTC) leading the way by setting a new all-time high of over $88,000. This rally has ignited excitement across the board, driving up prices and drawing fresh interest in crypto. While Bitcoin has captured most of the headlines, some other cryptocurrencies have the potential for even greater upside, as they still have room to catch up to Bitcoin\\'s gains. Start Your Mornings Smarter! Wake up with Breakfast news in your inbox every market day. Sign Up For Free » For those looking to position their portfolios for the next wave of crypto growth, here are three digital coins worth considering. These assets have shown significant potential and may offer some of the most compelling opportunities in today\\'s market. The first choice is Ethereum (CRYPTO: ETH), which remains the second-most valuable cryptocurrency by market cap and the backbone of decentralized finance (DeFi). Despite its prominence, Ethereum has lagged behind the market\\'s broader rally for most of 2024. At the end of October, it was only up a measly 7% year to date. However, it has gained strong momentum recently, jumping nearly 33% since the start of November. Yet, even with these recent gains, Ethereum\\'s price still sits 30% below its all-time high, suggesting plenty of upside potential. Beyond just price, its fundamentals remain strong. As the primary platform for DeFi protocols, Ethereum benefits from a steady influx of value and growing interest in tokenization, an innovation that allows traditional assets like real estate and stocks to be represented digitally on the blockchain. These factors create a solid foundation for Ethereum\\'s potential to not only reclaim its previous highs but to also reach new records as adoption deepens and this bull cycle progresses. Next is Aave (CRYPTO: AAVE), one of the most prominent players in the DeFi ecosystem. Known as a decentralized lending and borrowing platform, Aave functions as a \"digital bank\" where users',\n",
              "  'We are experiencing some temporary issues. The market data on this page is currently delayed. Please bear with us as we address this and restore your personalized lists. Bitcoin (BTC-USD) prices traded to a record high on Wednesday, peaking north of $93,400 in a continuation of the crypto rally following Donald Trump\\'s election win last week. The world\\'s largest cryptocurrency, which has been at the center of the \"Trump trade\" catalyzing moves across a range of assets, is up more than 30% since Election Day. The price of bitcoin has more than doubled this year. Investors have flocked to bitcoin and other digital assets under the presumption that Trump will follow through on his pro-crypto campaign promises.  The president-elect has suggested appointing a crypto Presidential Advisory Council, firing SEC Chair Gary Gensler, and creating a \"strategic national bitcoin stockpile.\" Other cryptocurrencies also rose on Wednesday, including ethereum (ETH-USD), solana (SOL-USD), and even dogecoin (DOGE-US). The meme coin soared after Trump said Tesla (TSLA) CEO Elon Musk and former Republican presidential candidate Vivek Ramaswamy would be in charge of a new “Department of Government Efficiency,” or DOGE for short. The upward move in bitcoin on Wednesday appeared more isolated to cryptocurrencies than in prior sessions. Crypto-related equities — including names like Coinbase (COIN) and Robinhood (HOOD) — weren\\'t participating alongside bitcoin\\'s run to record levels and appeared to take a breather after recent runs higher, with Coinbase stock off about 2% on Wednesday and Robinhood little changed. While investors may be eyeing targets of $100,000, some Wall Street analysts continue to warn clients about the \"speculative\" nature of cryptocurrencies, which cannot be valued on earnings or future cash flows in the same way as most stocks. \"We continue to view crypto assets as a speculative trade rather than a strategic investment in portfolios,\" UBS Global Wealth Management chief investment officer Americas Solita Marcelli said in note on Tuesday. \"We are skeptical that crypto assets can make significant inroads in meaningful and disruptive real-world use cases, and they can significantly raise a portfolio’s volatility,\" Marcelli added. The firm highlighted that since']}"
            ]
          },
          "metadata": {},
          "execution_count": 27
        }
      ]
    },
    {
      "cell_type": "code",
      "source": [
        "articles['TSLA'][9]\n"
      ],
      "metadata": {
        "colab": {
          "base_uri": "https://localhost:8080/",
          "height": 348
        },
        "id": "ObibURZRC1V5",
        "outputId": "2e9ef67b-6502-4db2-ff9f-7663a841299f"
      },
      "execution_count": 32,
      "outputs": [
        {
          "output_type": "execute_result",
          "data": {
            "text/plain": [
              "'We are experiencing some temporary issues. The market data on this page is currently delayed. Please bear with us as we address this and restore your personalized lists. Earnings season is slowly winding down, with just a small chunk of S&P 500 companies yet to reveal their quarterly results. The period has remained positive, with the growth trend expected to continue in the coming periods. Stay up-to-date with all quarterly releases: See Zacks Earnings Calendar. And throughout the period, several popular companies, including Advanced Micro Devices AMD and Tesla TSLA – enjoyed a profitability boost, seeing their margins improve on a year-over-year basis. Let’s take a closer look at the releases. \\xa0 Concerning headline figures in the release, AMD posted a 1.1% beat relative to the Zacks Consensus EPS estimate and reported sales 1.5% ahead of expectations, reflecting growth rates of 31% and 17%, respectively. Margin expansion aided the results in a big way, with a gross margin of 54% well above the 47% mark in the year-ago period. Margin expansion has been present for several periods, as shown below. Below is a chart illustrating the company’s margins on a trailing twelve-month basis. Image Source: Zacks Investment Research Notably, the company is now on track to deliver record annual revenue for 2024 thanks to significant growth among its Data Center and Client segments. In fact, Data Center revenue of $3.5 billion reflected a quarterly record, up an astonishing 122% on a year-over-year stack. AMD’s data center results have regularly exceeded our consensus expectations in recent quarters, as we can see below. Image Source: Zacks Investment Research \\xa0 While the company’s EV numbers are important, the real highlight of the Tesla release was margin expansion, with the company’s gross margin expanding nicely to 19.8% vs. a 17.9% print in the same period last year. As shown below, margins have finally begun recovering. Please note that the chart’s values are calculated on a trailing twelve-month basis. Image Source: Zacks Investment Research While margins remain well below highs set in 2022, the recent uptick is undoubtedly encouraging, further underpinned by the fact that'"
            ],
            "application/vnd.google.colaboratory.intrinsic+json": {
              "type": "string"
            }
          },
          "metadata": {},
          "execution_count": 32
        }
      ]
    },
    {
      "cell_type": "markdown",
      "source": [
        "## 4.4. Summarise all Articles\n"
      ],
      "metadata": {
        "id": "guIOFZfUC7QX"
      }
    },
    {
      "cell_type": "code",
      "source": [
        "def summarize(articles):\n",
        "    summaries = []\n",
        "    for article in articles:\n",
        "        input_ids = tokenizer.encode(article, return_tensors='pt')\n",
        "        output = model.generate(input_ids, max_length=55, num_beams=5, early_stopping=True)\n",
        "        summary = tokenizer.decode(output[0], skip_special_tokens=True)\n",
        "        summaries.append(summary)\n",
        "    return summaries"
      ],
      "metadata": {
        "id": "iOhK0X24C5si"
      },
      "execution_count": 33,
      "outputs": []
    },
    {
      "cell_type": "code",
      "source": [
        "summaries = {ticker:summarize(articles[ticker]) for ticker in monitored_tickers}\n",
        "summaries"
      ],
      "metadata": {
        "colab": {
          "base_uri": "https://localhost:8080/"
        },
        "id": "BEIjgutNDKMl",
        "outputId": "d8ec7dc4-868b-4233-db2d-b53252295375"
      },
      "execution_count": 34,
      "outputs": [
        {
          "output_type": "execute_result",
          "data": {
            "text/plain": [
              "{'GME': ['Video game retailer is scheduled to report earnings later today.',\n",
              "  'Your information may be shared with third parties.',\n",
              "  'We are aware of the issue and are working to resolve it.',\n",
              "  'We are aware of the issue and are working to resolve it.',\n",
              "  'Video game retailer is scheduled to report earnings later on Wednesday.',\n",
              "  'Video game retailer is set to report earnings later today.',\n",
              "  'Video game retailer is scheduled to report earnings later on Thursday.',\n",
              "  'We are aware of the issue and are working to resolve it.',\n",
              "  'We are aware of the issue and are working to resolve it.',\n",
              "  'We are aware of the issue and are working to resolve it.',\n",
              "  'We are aware of the issue and are working to resolve it.'],\n",
              " 'TSLA': ['We are aware of the issue and are working to resolve it.',\n",
              "  'OpenAI to release fourth generation of ChatGPT model. Tesla, Perplexity and Google are also in the spotlight',\n",
              "  'We are aware of the issue and are working to resolve it.',\n",
              "  'Tesla has a debt-to-cash ratio of 26.37%, which is higher than the industry average.',\n",
              "  'Your information may be shared with third parties.',\n",
              "  'Tesla’s rise is ‘part of a catch-up trade,’ says Nuveen',\n",
              "  \"Electric car maker has surged 37% since Trump's election. Wedbush raises its price target on Tesla by 33%\",\n",
              "  'The Dow and S&P 500 both closed above key milestones Monday. Bitcoin nears $87,000 on hopes for a crypto-friendly Trump administration',\n",
              "  \"President-elect's team has drawn up plans to eliminate EV tax credits, Reuters says.\",\n",
              "  'AMD, TSLA among companies to see margins improve on a year-over-year basis.',\n",
              "  'Tesla, Inc. stands against other best stocks to buy and hold for 5 years.'],\n",
              " 'BTC': ['On CryptosRus, George Tung explores U.S. plan to buy up to 5% of supply. Bitcoin scarcity, U.S. buying, and more',\n",
              "  'We are aware of the issue and are working to resolve it.',\n",
              "  'Digital currency ‘in blue sky territory,’ VanEck’s Sigel says. ‘We’re likely to make repeated all-time highs,’ he says',\n",
              "  'Analysts have been predicting a price of $100,000 before Christmas.',\n",
              "  \"Coin could reach half of gold's market cap, van Eck says. Individual investors are flocking to Bitcoin ETFs\",\n",
              "  'We are aware of the issue and are working to resolve it.',\n",
              "  'The Himalayan nation has been diversifying its cryptocurrency holdings. Bhutan is fifth among countries with Bitcoin holdings',\n",
              "  'We are aware of the issue and are working to resolve it.',\n",
              "  'Your information may be shared with third parties.',\n",
              "  'Ethereum, Aave, and Dogecoin all have potential for upside.',\n",
              "  'The world’s largest cryptocurrency has more than doubled this year. Ethereum, solana and dogecoin also rise on Wednesday']}"
            ]
          },
          "metadata": {},
          "execution_count": 34
        }
      ]
    },
    {
      "cell_type": "code",
      "source": [
        "summaries['BTC']\n"
      ],
      "metadata": {
        "colab": {
          "base_uri": "https://localhost:8080/"
        },
        "id": "cd0zCJTfDMyg",
        "outputId": "3939d8fb-7d01-4210-e2f2-c336310ff4c6"
      },
      "execution_count": 35,
      "outputs": [
        {
          "output_type": "execute_result",
          "data": {
            "text/plain": [
              "['On CryptosRus, George Tung explores U.S. plan to buy up to 5% of supply. Bitcoin scarcity, U.S. buying, and more',\n",
              " 'We are aware of the issue and are working to resolve it.',\n",
              " 'Digital currency ‘in blue sky territory,’ VanEck’s Sigel says. ‘We’re likely to make repeated all-time highs,’ he says',\n",
              " 'Analysts have been predicting a price of $100,000 before Christmas.',\n",
              " \"Coin could reach half of gold's market cap, van Eck says. Individual investors are flocking to Bitcoin ETFs\",\n",
              " 'We are aware of the issue and are working to resolve it.',\n",
              " 'The Himalayan nation has been diversifying its cryptocurrency holdings. Bhutan is fifth among countries with Bitcoin holdings',\n",
              " 'We are aware of the issue and are working to resolve it.',\n",
              " 'Your information may be shared with third parties.',\n",
              " 'Ethereum, Aave, and Dogecoin all have potential for upside.',\n",
              " 'The world’s largest cryptocurrency has more than doubled this year. Ethereum, solana and dogecoin also rise on Wednesday']"
            ]
          },
          "metadata": {},
          "execution_count": 35
        }
      ]
    },
    {
      "cell_type": "markdown",
      "source": [
        "## 5. Adding Sentiment Analysis\n"
      ],
      "metadata": {
        "id": "_Ak5lRj7DPhw"
      }
    },
    {
      "cell_type": "code",
      "source": [
        "from transformers import pipeline\n",
        "sentiment = pipeline('sentiment-analysis')"
      ],
      "metadata": {
        "colab": {
          "base_uri": "https://localhost:8080/",
          "height": 200,
          "referenced_widgets": [
            "c5b899d1ae0e4e80ac71208048a61e1d",
            "41a3286bbf52427bbbd84154969f93d9",
            "f48d15012681458db8c59a50e2e8dcb9",
            "09ca8f893a814d21bd756c37e4c50cea",
            "5134f504a1b74fdbaf7fa9e29ee59537",
            "4467b36acc344291b6779c73ec456298",
            "47cd01e2b3994b2ab3fb8ec060eceacd",
            "eefa8e36e82d4bf0aae8d148a3de2d45",
            "07f0688e02f543979a3cf87c2c0abfa3",
            "8beba53cf2764ba48b2642dfd2cb8bed",
            "e111b43cfbbc477ea94b35a2769c073d",
            "ca1b78199bbf49068d3a621aa85f2708",
            "36342b0215b54fd4b5423d08bd562fef",
            "c0df4ccc05ef49bd833c273b3f56b26c",
            "59a913ee673c4b41b7aaba3b90c0dfc3",
            "be5601d50e4b4249aef83e940086ed6b",
            "ec6c785a835643b89e1a4e3e3c2395bb",
            "29e2505f5e9144a18f3ee2474310e134",
            "6875158b436640248d21f836eb1f2f91",
            "e1a99b7cbc69487b901df10af2910bc6",
            "cf80a72f7288478eb3c6875e181ff331",
            "87819ae2bb584c4da55bdd92061f7f2d",
            "5f28f9670dbb4ff4bd43cef056af16e6",
            "97a74a6842444b669d4729c95c79cc7d",
            "1849b41a310444aba78c5879af8a60e8",
            "d96632bbcf9c4bf194cc2b2be21e9709",
            "9133af113c5d4797ab37e153a7f2fd7b",
            "038ba2e3fa7445f1b2ba0388cb73cc68",
            "e1ae7e421976482ca9d9fce98cf8d095",
            "baa6df5eebaf41d3b347a6b3717d77a4",
            "161da38d616b47f19d24815aec12b43d",
            "34315295ac4f4e3b8030a22136264c0a",
            "a6eac7dc5d1c4824b5e443bee487a7e6",
            "115bd56a5d1e4bae8b24edee6e223514",
            "aa32770c5ef04960bacca0ceb68b75f2",
            "4698e1d9fac848eebdd84eff769a1d00",
            "bce7110bdebc47fabdb1effabcb39dd2",
            "84ab5d7fa4c7421795620e0ec42e3a4d",
            "8b95afd81e874f2ba914c10545b07801",
            "64c882edb82c49aab543d35bcc495a23",
            "88fcaeca8782407081451b82d6bbd462",
            "a684744c44d94487b1eaf4806f2e5615",
            "5809ff0423714234ae2720dcfaa746f9",
            "5b44cfd47f0b400c82fae19f0a6f3c53"
          ]
        },
        "id": "ne79w8bCDUWC",
        "outputId": "e2fa86aa-1702-4841-8ccd-2b03f55eec2a"
      },
      "execution_count": 36,
      "outputs": [
        {
          "output_type": "stream",
          "name": "stderr",
          "text": [
            "No model was supplied, defaulted to distilbert/distilbert-base-uncased-finetuned-sst-2-english and revision 714eb0f (https://huggingface.co/distilbert/distilbert-base-uncased-finetuned-sst-2-english).\n",
            "Using a pipeline without specifying a model name and revision in production is not recommended.\n"
          ]
        },
        {
          "output_type": "display_data",
          "data": {
            "text/plain": [
              "config.json:   0%|          | 0.00/629 [00:00<?, ?B/s]"
            ],
            "application/vnd.jupyter.widget-view+json": {
              "version_major": 2,
              "version_minor": 0,
              "model_id": "c5b899d1ae0e4e80ac71208048a61e1d"
            }
          },
          "metadata": {}
        },
        {
          "output_type": "display_data",
          "data": {
            "text/plain": [
              "model.safetensors:   0%|          | 0.00/268M [00:00<?, ?B/s]"
            ],
            "application/vnd.jupyter.widget-view+json": {
              "version_major": 2,
              "version_minor": 0,
              "model_id": "ca1b78199bbf49068d3a621aa85f2708"
            }
          },
          "metadata": {}
        },
        {
          "output_type": "display_data",
          "data": {
            "text/plain": [
              "tokenizer_config.json:   0%|          | 0.00/48.0 [00:00<?, ?B/s]"
            ],
            "application/vnd.jupyter.widget-view+json": {
              "version_major": 2,
              "version_minor": 0,
              "model_id": "5f28f9670dbb4ff4bd43cef056af16e6"
            }
          },
          "metadata": {}
        },
        {
          "output_type": "display_data",
          "data": {
            "text/plain": [
              "vocab.txt:   0%|          | 0.00/232k [00:00<?, ?B/s]"
            ],
            "application/vnd.jupyter.widget-view+json": {
              "version_major": 2,
              "version_minor": 0,
              "model_id": "115bd56a5d1e4bae8b24edee6e223514"
            }
          },
          "metadata": {}
        }
      ]
    },
    {
      "cell_type": "code",
      "source": [
        "sentiment(summaries['BTC'])\n"
      ],
      "metadata": {
        "colab": {
          "base_uri": "https://localhost:8080/"
        },
        "id": "-rxyAgNoDWDG",
        "outputId": "ce9dfb3a-423b-45c1-e187-362a9f7b67fe"
      },
      "execution_count": 37,
      "outputs": [
        {
          "output_type": "execute_result",
          "data": {
            "text/plain": [
              "[{'label': 'POSITIVE', 'score': 0.9878144264221191},\n",
              " {'label': 'POSITIVE', 'score': 0.9979088306427002},\n",
              " {'label': 'POSITIVE', 'score': 0.8589006066322327},\n",
              " {'label': 'NEGATIVE', 'score': 0.9923264980316162},\n",
              " {'label': 'NEGATIVE', 'score': 0.958739161491394},\n",
              " {'label': 'POSITIVE', 'score': 0.9979088306427002},\n",
              " {'label': 'POSITIVE', 'score': 0.9852761030197144},\n",
              " {'label': 'POSITIVE', 'score': 0.9979088306427002},\n",
              " {'label': 'NEGATIVE', 'score': 0.9903545379638672},\n",
              " {'label': 'POSITIVE', 'score': 0.8397566676139832},\n",
              " {'label': 'POSITIVE', 'score': 0.998205304145813}]"
            ]
          },
          "metadata": {},
          "execution_count": 37
        }
      ]
    },
    {
      "cell_type": "code",
      "source": [
        "scores = {ticker:sentiment(summaries[ticker]) for ticker in monitored_tickers}\n",
        "scores"
      ],
      "metadata": {
        "colab": {
          "base_uri": "https://localhost:8080/"
        },
        "id": "k3xMye4vDZu3",
        "outputId": "a922665b-136f-4d05-bf96-b79202984104"
      },
      "execution_count": 38,
      "outputs": [
        {
          "output_type": "execute_result",
          "data": {
            "text/plain": [
              "{'GME': [{'label': 'NEGATIVE', 'score': 0.9656205177307129},\n",
              "  {'label': 'NEGATIVE', 'score': 0.9903545379638672},\n",
              "  {'label': 'POSITIVE', 'score': 0.9979088306427002},\n",
              "  {'label': 'POSITIVE', 'score': 0.9979088306427002},\n",
              "  {'label': 'NEGATIVE', 'score': 0.9778563380241394},\n",
              "  {'label': 'NEGATIVE', 'score': 0.974228024482727},\n",
              "  {'label': 'NEGATIVE', 'score': 0.9768379926681519},\n",
              "  {'label': 'POSITIVE', 'score': 0.9979088306427002},\n",
              "  {'label': 'POSITIVE', 'score': 0.9979088306427002},\n",
              "  {'label': 'POSITIVE', 'score': 0.9979088306427002},\n",
              "  {'label': 'POSITIVE', 'score': 0.9979088306427002}],\n",
              " 'TSLA': [{'label': 'POSITIVE', 'score': 0.9979088306427002},\n",
              "  {'label': 'POSITIVE', 'score': 0.9967484474182129},\n",
              "  {'label': 'POSITIVE', 'score': 0.9979088306427002},\n",
              "  {'label': 'POSITIVE', 'score': 0.9946510195732117},\n",
              "  {'label': 'NEGATIVE', 'score': 0.9903545379638672},\n",
              "  {'label': 'POSITIVE', 'score': 0.9948047995567322},\n",
              "  {'label': 'POSITIVE', 'score': 0.9634703993797302},\n",
              "  {'label': 'NEGATIVE', 'score': 0.9606702327728271},\n",
              "  {'label': 'NEGATIVE', 'score': 0.978199303150177},\n",
              "  {'label': 'POSITIVE', 'score': 0.9122101664543152},\n",
              "  {'label': 'NEGATIVE', 'score': 0.6253010034561157}],\n",
              " 'BTC': [{'label': 'POSITIVE', 'score': 0.9878144264221191},\n",
              "  {'label': 'POSITIVE', 'score': 0.9979088306427002},\n",
              "  {'label': 'POSITIVE', 'score': 0.8589006066322327},\n",
              "  {'label': 'NEGATIVE', 'score': 0.9923264980316162},\n",
              "  {'label': 'NEGATIVE', 'score': 0.958739161491394},\n",
              "  {'label': 'POSITIVE', 'score': 0.9979088306427002},\n",
              "  {'label': 'POSITIVE', 'score': 0.9852761030197144},\n",
              "  {'label': 'POSITIVE', 'score': 0.9979088306427002},\n",
              "  {'label': 'NEGATIVE', 'score': 0.9903545379638672},\n",
              "  {'label': 'POSITIVE', 'score': 0.8397566676139832},\n",
              "  {'label': 'POSITIVE', 'score': 0.998205304145813}]}"
            ]
          },
          "metadata": {},
          "execution_count": 38
        }
      ]
    },
    {
      "cell_type": "code",
      "source": [
        "print(summaries['GME'][3], scores['GME'][3]['label'], scores['GME'][3]['score'])\n"
      ],
      "metadata": {
        "colab": {
          "base_uri": "https://localhost:8080/"
        },
        "id": "001VAKrkDcHk",
        "outputId": "c6cd90cb-e987-4a20-8302-966f30323ceb"
      },
      "execution_count": 39,
      "outputs": [
        {
          "output_type": "stream",
          "name": "stdout",
          "text": [
            "We are aware of the issue and are working to resolve it. POSITIVE 0.9979088306427002\n"
          ]
        }
      ]
    },
    {
      "cell_type": "code",
      "source": [
        "scores['BTC'][0]['score']\n"
      ],
      "metadata": {
        "id": "1nvA3rjBDelP"
      },
      "execution_count": null,
      "outputs": []
    },
    {
      "cell_type": "markdown",
      "source": [
        "## 6. Exporting Results to CSV\n"
      ],
      "metadata": {
        "id": "eYe95Pq-Dgk3"
      }
    },
    {
      "cell_type": "code",
      "source": [
        "summaries\n"
      ],
      "metadata": {
        "colab": {
          "base_uri": "https://localhost:8080/"
        },
        "id": "7U1zCETqDjTI",
        "outputId": "c975a910-5dc5-4752-c1f5-693f05964a2e"
      },
      "execution_count": 41,
      "outputs": [
        {
          "output_type": "execute_result",
          "data": {
            "text/plain": [
              "{'GME': ['Video game retailer is scheduled to report earnings later today.',\n",
              "  'Your information may be shared with third parties.',\n",
              "  'We are aware of the issue and are working to resolve it.',\n",
              "  'We are aware of the issue and are working to resolve it.',\n",
              "  'Video game retailer is scheduled to report earnings later on Wednesday.',\n",
              "  'Video game retailer is set to report earnings later today.',\n",
              "  'Video game retailer is scheduled to report earnings later on Thursday.',\n",
              "  'We are aware of the issue and are working to resolve it.',\n",
              "  'We are aware of the issue and are working to resolve it.',\n",
              "  'We are aware of the issue and are working to resolve it.',\n",
              "  'We are aware of the issue and are working to resolve it.'],\n",
              " 'TSLA': ['We are aware of the issue and are working to resolve it.',\n",
              "  'OpenAI to release fourth generation of ChatGPT model. Tesla, Perplexity and Google are also in the spotlight',\n",
              "  'We are aware of the issue and are working to resolve it.',\n",
              "  'Tesla has a debt-to-cash ratio of 26.37%, which is higher than the industry average.',\n",
              "  'Your information may be shared with third parties.',\n",
              "  'Tesla’s rise is ‘part of a catch-up trade,’ says Nuveen',\n",
              "  \"Electric car maker has surged 37% since Trump's election. Wedbush raises its price target on Tesla by 33%\",\n",
              "  'The Dow and S&P 500 both closed above key milestones Monday. Bitcoin nears $87,000 on hopes for a crypto-friendly Trump administration',\n",
              "  \"President-elect's team has drawn up plans to eliminate EV tax credits, Reuters says.\",\n",
              "  'AMD, TSLA among companies to see margins improve on a year-over-year basis.',\n",
              "  'Tesla, Inc. stands against other best stocks to buy and hold for 5 years.'],\n",
              " 'BTC': ['On CryptosRus, George Tung explores U.S. plan to buy up to 5% of supply. Bitcoin scarcity, U.S. buying, and more',\n",
              "  'We are aware of the issue and are working to resolve it.',\n",
              "  'Digital currency ‘in blue sky territory,’ VanEck’s Sigel says. ‘We’re likely to make repeated all-time highs,’ he says',\n",
              "  'Analysts have been predicting a price of $100,000 before Christmas.',\n",
              "  \"Coin could reach half of gold's market cap, van Eck says. Individual investors are flocking to Bitcoin ETFs\",\n",
              "  'We are aware of the issue and are working to resolve it.',\n",
              "  'The Himalayan nation has been diversifying its cryptocurrency holdings. Bhutan is fifth among countries with Bitcoin holdings',\n",
              "  'We are aware of the issue and are working to resolve it.',\n",
              "  'Your information may be shared with third parties.',\n",
              "  'Ethereum, Aave, and Dogecoin all have potential for upside.',\n",
              "  'The world’s largest cryptocurrency has more than doubled this year. Ethereum, solana and dogecoin also rise on Wednesday']}"
            ]
          },
          "metadata": {},
          "execution_count": 41
        }
      ]
    },
    {
      "cell_type": "code",
      "source": [
        "scores\n"
      ],
      "metadata": {
        "colab": {
          "base_uri": "https://localhost:8080/"
        },
        "id": "ozaerR0FDvp7",
        "outputId": "a6d10f06-6382-40a0-b304-528649c1f09a"
      },
      "execution_count": 42,
      "outputs": [
        {
          "output_type": "execute_result",
          "data": {
            "text/plain": [
              "{'GME': [{'label': 'NEGATIVE', 'score': 0.9656205177307129},\n",
              "  {'label': 'NEGATIVE', 'score': 0.9903545379638672},\n",
              "  {'label': 'POSITIVE', 'score': 0.9979088306427002},\n",
              "  {'label': 'POSITIVE', 'score': 0.9979088306427002},\n",
              "  {'label': 'NEGATIVE', 'score': 0.9778563380241394},\n",
              "  {'label': 'NEGATIVE', 'score': 0.974228024482727},\n",
              "  {'label': 'NEGATIVE', 'score': 0.9768379926681519},\n",
              "  {'label': 'POSITIVE', 'score': 0.9979088306427002},\n",
              "  {'label': 'POSITIVE', 'score': 0.9979088306427002},\n",
              "  {'label': 'POSITIVE', 'score': 0.9979088306427002},\n",
              "  {'label': 'POSITIVE', 'score': 0.9979088306427002}],\n",
              " 'TSLA': [{'label': 'POSITIVE', 'score': 0.9979088306427002},\n",
              "  {'label': 'POSITIVE', 'score': 0.9967484474182129},\n",
              "  {'label': 'POSITIVE', 'score': 0.9979088306427002},\n",
              "  {'label': 'POSITIVE', 'score': 0.9946510195732117},\n",
              "  {'label': 'NEGATIVE', 'score': 0.9903545379638672},\n",
              "  {'label': 'POSITIVE', 'score': 0.9948047995567322},\n",
              "  {'label': 'POSITIVE', 'score': 0.9634703993797302},\n",
              "  {'label': 'NEGATIVE', 'score': 0.9606702327728271},\n",
              "  {'label': 'NEGATIVE', 'score': 0.978199303150177},\n",
              "  {'label': 'POSITIVE', 'score': 0.9122101664543152},\n",
              "  {'label': 'NEGATIVE', 'score': 0.6253010034561157}],\n",
              " 'BTC': [{'label': 'POSITIVE', 'score': 0.9878144264221191},\n",
              "  {'label': 'POSITIVE', 'score': 0.9979088306427002},\n",
              "  {'label': 'POSITIVE', 'score': 0.8589006066322327},\n",
              "  {'label': 'NEGATIVE', 'score': 0.9923264980316162},\n",
              "  {'label': 'NEGATIVE', 'score': 0.958739161491394},\n",
              "  {'label': 'POSITIVE', 'score': 0.9979088306427002},\n",
              "  {'label': 'POSITIVE', 'score': 0.9852761030197144},\n",
              "  {'label': 'POSITIVE', 'score': 0.9979088306427002},\n",
              "  {'label': 'NEGATIVE', 'score': 0.9903545379638672},\n",
              "  {'label': 'POSITIVE', 'score': 0.8397566676139832},\n",
              "  {'label': 'POSITIVE', 'score': 0.998205304145813}]}"
            ]
          },
          "metadata": {},
          "execution_count": 42
        }
      ]
    },
    {
      "cell_type": "code",
      "source": [
        "cleaned_urls\n"
      ],
      "metadata": {
        "colab": {
          "base_uri": "https://localhost:8080/"
        },
        "id": "pYeg5ugEDuAO",
        "outputId": "9bdce37b-479d-4706-f27d-98148a986206"
      },
      "execution_count": 43,
      "outputs": [
        {
          "output_type": "execute_result",
          "data": {
            "text/plain": [
              "{'GME': ['https://finance.yahoo.com/news/gamestop-gme-falls-more-steeply-224520779.html',\n",
              "  'https://www.google.com/search?q%3Dyahoo%2Bfinance%2BGME%26tbm%3Dnws%26pccc%3D1',\n",
              "  'https://finance.yahoo.com/news/why-diamond-hill-long-short-122844695.html',\n",
              "  'https://finance.yahoo.com/news/gamestop-gme-stock-drops-despite-214519430.html',\n",
              "  'https://finance.yahoo.com/news/why-gamestop-gme-dipped-more-214520142.html',\n",
              "  'https://finance.yahoo.com/news/heres-why-gamestop-gme-fell-224520124.html',\n",
              "  'https://finance.yahoo.com/news/gamestop-gme-registers-bigger-fall-214521016.html',\n",
              "  'https://finance.yahoo.com/news/gamestop-gme-stock-moves-0-215522235.html',\n",
              "  'https://finance.yahoo.com/news/investors-heavily-search-gamestop-corp-130016370.html',\n",
              "  'https://finance.yahoo.com/news/jim-cramer-says-gamestop-gme-134244137.html',\n",
              "  'https://finance.yahoo.com/news/gamestop-gme-stock-moves-1-214524513.html'],\n",
              " 'TSLA': ['https://finance.yahoo.com/video/hedge-funds-shorting-tesla-stock-145155395.html',\n",
              "  'https://finance.yahoo.com/news/tesla-inc-tsla-morgan-stanley-014425988.html',\n",
              "  'https://finance.yahoo.com/video/futures-hedge-funds-pull-back-143647116.html',\n",
              "  'https://finance.yahoo.com/news/tesla-nasdaq-tsla-seems-debt-140111992.html',\n",
              "  'https://www.google.com/search?q%3Dyahoo%2Bfinance%2BTSLA%26tbm%3Dnws%26pccc%3D1',\n",
              "  'https://finance.yahoo.com/news/tesla-stock-to-settle-after-recent-surge-nuveen-cio-204349139.html',\n",
              "  'https://finance.yahoo.com/news/why-tesla-stock-keeps-going-180848891.html',\n",
              "  'https://finance.yahoo.com/news/live/stock-market-today-dow-sp-500-close-above-key-milestones-as-tesla-bitcoin-surge-210057604.html',\n",
              "  'https://finance.yahoo.com/news/tesla-stock-falls-as-trump-trade-fades-and-ev-tax-credits-come-under-threat-170918953.html',\n",
              "  'https://finance.yahoo.com/news/2-companies-unlocking-higher-profits-002900585.html',\n",
              "  'https://finance.yahoo.com/news/tesla-inc-tsla-best-stock-190803129.html'],\n",
              " 'BTC': ['https://finance.yahoo.com/news/u-bitcoin-plan-could-ignite-192515490.html',\n",
              "  'https://finance.yahoo.com/video/bitcoin-dogecoin-super-micro-planet-171241925.html',\n",
              "  'https://finance.yahoo.com/news/analyst-vaneck-says-bitcoin-might-082458385.html',\n",
              "  'https://uk.finance.yahoo.com/news/bitcoin-price-trump-election-cryptocurrency-poll-060012675.html',\n",
              "  'https://finance.yahoo.com/news/vaneck-ceo-boldly-predicts-bitcoin-144521276.html',\n",
              "  'https://finance.yahoo.com/video/bitcoin-minimize-taxes-crypto-investors-172340880.html',\n",
              "  'https://finance.yahoo.com/news/bhutan-cashes-33-5b-bitcoin-081756733.html',\n",
              "  'https://finance.yahoo.com/video/strategic-bitcoin-top-trumps-list-215519534.html',\n",
              "  'https://www.google.com/search?q%3Dyahoo%2Bfinance%2BBTC%26tbm%3Dnws%26pccc%3D1',\n",
              "  'https://finance.yahoo.com/news/three-best-cryptocurrencies-buy-now-080900747.html',\n",
              "  'https://finance.yahoo.com/news/bitcoin-touches-record-high-above-93000-on-optimism-around-trumps-pro-crypto-promises-181405097.html']}"
            ]
          },
          "metadata": {},
          "execution_count": 43
        }
      ]
    },
    {
      "cell_type": "code",
      "source": [
        "range(len(summaries['GME']))\n"
      ],
      "metadata": {
        "colab": {
          "base_uri": "https://localhost:8080/"
        },
        "id": "W3f_zT1eD0iy",
        "outputId": "ea32d320-641b-4612-ab99-25411f14e656"
      },
      "execution_count": 44,
      "outputs": [
        {
          "output_type": "execute_result",
          "data": {
            "text/plain": [
              "range(0, 11)"
            ]
          },
          "metadata": {},
          "execution_count": 44
        }
      ]
    },
    {
      "cell_type": "code",
      "source": [
        "summaries['GME'][6]\n"
      ],
      "metadata": {
        "colab": {
          "base_uri": "https://localhost:8080/",
          "height": 35
        },
        "id": "kXy3k_3AD2Mg",
        "outputId": "5493eb4a-91c2-4735-91ff-628132c7dc89"
      },
      "execution_count": 52,
      "outputs": [
        {
          "output_type": "execute_result",
          "data": {
            "text/plain": [
              "'Video game retailer is scheduled to report earnings later on Thursday.'"
            ],
            "application/vnd.google.colaboratory.intrinsic+json": {
              "type": "string"
            }
          },
          "metadata": {},
          "execution_count": 52
        }
      ]
    },
    {
      "cell_type": "code",
      "source": [
        "def create_output_array(summaries, scores, urls):\n",
        "    output = []\n",
        "    for ticker in monitored_tickers:\n",
        "        for counter in range(len(summaries[ticker])):\n",
        "            output_this = [\n",
        "                ticker,\n",
        "                summaries[ticker][counter],\n",
        "                scores[ticker][counter]['label'],\n",
        "                scores[ticker][counter]['score'],\n",
        "                urls[ticker][counter]\n",
        "            ]\n",
        "            output.append(output_this)\n",
        "    return output"
      ],
      "metadata": {
        "id": "4n9_aO-fD41t"
      },
      "execution_count": 46,
      "outputs": []
    },
    {
      "cell_type": "code",
      "source": [
        "final_output = create_output_array(summaries, scores, cleaned_urls)\n",
        "final_output"
      ],
      "metadata": {
        "colab": {
          "base_uri": "https://localhost:8080/"
        },
        "id": "00VcPyiWD7mM",
        "outputId": "6034eb7e-18c3-43e8-8122-ec595eb5bfd9"
      },
      "execution_count": 47,
      "outputs": [
        {
          "output_type": "execute_result",
          "data": {
            "text/plain": [
              "[['GME',\n",
              "  'Video game retailer is scheduled to report earnings later today.',\n",
              "  'NEGATIVE',\n",
              "  0.9656205177307129,\n",
              "  'https://finance.yahoo.com/news/gamestop-gme-falls-more-steeply-224520779.html'],\n",
              " ['GME',\n",
              "  'Your information may be shared with third parties.',\n",
              "  'NEGATIVE',\n",
              "  0.9903545379638672,\n",
              "  'https://www.google.com/search?q%3Dyahoo%2Bfinance%2BGME%26tbm%3Dnws%26pccc%3D1'],\n",
              " ['GME',\n",
              "  'We are aware of the issue and are working to resolve it.',\n",
              "  'POSITIVE',\n",
              "  0.9979088306427002,\n",
              "  'https://finance.yahoo.com/news/why-diamond-hill-long-short-122844695.html'],\n",
              " ['GME',\n",
              "  'We are aware of the issue and are working to resolve it.',\n",
              "  'POSITIVE',\n",
              "  0.9979088306427002,\n",
              "  'https://finance.yahoo.com/news/gamestop-gme-stock-drops-despite-214519430.html'],\n",
              " ['GME',\n",
              "  'Video game retailer is scheduled to report earnings later on Wednesday.',\n",
              "  'NEGATIVE',\n",
              "  0.9778563380241394,\n",
              "  'https://finance.yahoo.com/news/why-gamestop-gme-dipped-more-214520142.html'],\n",
              " ['GME',\n",
              "  'Video game retailer is set to report earnings later today.',\n",
              "  'NEGATIVE',\n",
              "  0.974228024482727,\n",
              "  'https://finance.yahoo.com/news/heres-why-gamestop-gme-fell-224520124.html'],\n",
              " ['GME',\n",
              "  'Video game retailer is scheduled to report earnings later on Thursday.',\n",
              "  'NEGATIVE',\n",
              "  0.9768379926681519,\n",
              "  'https://finance.yahoo.com/news/gamestop-gme-registers-bigger-fall-214521016.html'],\n",
              " ['GME',\n",
              "  'We are aware of the issue and are working to resolve it.',\n",
              "  'POSITIVE',\n",
              "  0.9979088306427002,\n",
              "  'https://finance.yahoo.com/news/gamestop-gme-stock-moves-0-215522235.html'],\n",
              " ['GME',\n",
              "  'We are aware of the issue and are working to resolve it.',\n",
              "  'POSITIVE',\n",
              "  0.9979088306427002,\n",
              "  'https://finance.yahoo.com/news/investors-heavily-search-gamestop-corp-130016370.html'],\n",
              " ['GME',\n",
              "  'We are aware of the issue and are working to resolve it.',\n",
              "  'POSITIVE',\n",
              "  0.9979088306427002,\n",
              "  'https://finance.yahoo.com/news/jim-cramer-says-gamestop-gme-134244137.html'],\n",
              " ['GME',\n",
              "  'We are aware of the issue and are working to resolve it.',\n",
              "  'POSITIVE',\n",
              "  0.9979088306427002,\n",
              "  'https://finance.yahoo.com/news/gamestop-gme-stock-moves-1-214524513.html'],\n",
              " ['TSLA',\n",
              "  'We are aware of the issue and are working to resolve it.',\n",
              "  'POSITIVE',\n",
              "  0.9979088306427002,\n",
              "  'https://finance.yahoo.com/video/hedge-funds-shorting-tesla-stock-145155395.html'],\n",
              " ['TSLA',\n",
              "  'OpenAI to release fourth generation of ChatGPT model. Tesla, Perplexity and Google are also in the spotlight',\n",
              "  'POSITIVE',\n",
              "  0.9967484474182129,\n",
              "  'https://finance.yahoo.com/news/tesla-inc-tsla-morgan-stanley-014425988.html'],\n",
              " ['TSLA',\n",
              "  'We are aware of the issue and are working to resolve it.',\n",
              "  'POSITIVE',\n",
              "  0.9979088306427002,\n",
              "  'https://finance.yahoo.com/video/futures-hedge-funds-pull-back-143647116.html'],\n",
              " ['TSLA',\n",
              "  'Tesla has a debt-to-cash ratio of 26.37%, which is higher than the industry average.',\n",
              "  'POSITIVE',\n",
              "  0.9946510195732117,\n",
              "  'https://finance.yahoo.com/news/tesla-nasdaq-tsla-seems-debt-140111992.html'],\n",
              " ['TSLA',\n",
              "  'Your information may be shared with third parties.',\n",
              "  'NEGATIVE',\n",
              "  0.9903545379638672,\n",
              "  'https://www.google.com/search?q%3Dyahoo%2Bfinance%2BTSLA%26tbm%3Dnws%26pccc%3D1'],\n",
              " ['TSLA',\n",
              "  'Tesla’s rise is ‘part of a catch-up trade,’ says Nuveen',\n",
              "  'POSITIVE',\n",
              "  0.9948047995567322,\n",
              "  'https://finance.yahoo.com/news/tesla-stock-to-settle-after-recent-surge-nuveen-cio-204349139.html'],\n",
              " ['TSLA',\n",
              "  \"Electric car maker has surged 37% since Trump's election. Wedbush raises its price target on Tesla by 33%\",\n",
              "  'POSITIVE',\n",
              "  0.9634703993797302,\n",
              "  'https://finance.yahoo.com/news/why-tesla-stock-keeps-going-180848891.html'],\n",
              " ['TSLA',\n",
              "  'The Dow and S&P 500 both closed above key milestones Monday. Bitcoin nears $87,000 on hopes for a crypto-friendly Trump administration',\n",
              "  'NEGATIVE',\n",
              "  0.9606702327728271,\n",
              "  'https://finance.yahoo.com/news/live/stock-market-today-dow-sp-500-close-above-key-milestones-as-tesla-bitcoin-surge-210057604.html'],\n",
              " ['TSLA',\n",
              "  \"President-elect's team has drawn up plans to eliminate EV tax credits, Reuters says.\",\n",
              "  'NEGATIVE',\n",
              "  0.978199303150177,\n",
              "  'https://finance.yahoo.com/news/tesla-stock-falls-as-trump-trade-fades-and-ev-tax-credits-come-under-threat-170918953.html'],\n",
              " ['TSLA',\n",
              "  'AMD, TSLA among companies to see margins improve on a year-over-year basis.',\n",
              "  'POSITIVE',\n",
              "  0.9122101664543152,\n",
              "  'https://finance.yahoo.com/news/2-companies-unlocking-higher-profits-002900585.html'],\n",
              " ['TSLA',\n",
              "  'Tesla, Inc. stands against other best stocks to buy and hold for 5 years.',\n",
              "  'NEGATIVE',\n",
              "  0.6253010034561157,\n",
              "  'https://finance.yahoo.com/news/tesla-inc-tsla-best-stock-190803129.html'],\n",
              " ['BTC',\n",
              "  'On CryptosRus, George Tung explores U.S. plan to buy up to 5% of supply. Bitcoin scarcity, U.S. buying, and more',\n",
              "  'POSITIVE',\n",
              "  0.9878144264221191,\n",
              "  'https://finance.yahoo.com/news/u-bitcoin-plan-could-ignite-192515490.html'],\n",
              " ['BTC',\n",
              "  'We are aware of the issue and are working to resolve it.',\n",
              "  'POSITIVE',\n",
              "  0.9979088306427002,\n",
              "  'https://finance.yahoo.com/video/bitcoin-dogecoin-super-micro-planet-171241925.html'],\n",
              " ['BTC',\n",
              "  'Digital currency ‘in blue sky territory,’ VanEck’s Sigel says. ‘We’re likely to make repeated all-time highs,’ he says',\n",
              "  'POSITIVE',\n",
              "  0.8589006066322327,\n",
              "  'https://finance.yahoo.com/news/analyst-vaneck-says-bitcoin-might-082458385.html'],\n",
              " ['BTC',\n",
              "  'Analysts have been predicting a price of $100,000 before Christmas.',\n",
              "  'NEGATIVE',\n",
              "  0.9923264980316162,\n",
              "  'https://uk.finance.yahoo.com/news/bitcoin-price-trump-election-cryptocurrency-poll-060012675.html'],\n",
              " ['BTC',\n",
              "  \"Coin could reach half of gold's market cap, van Eck says. Individual investors are flocking to Bitcoin ETFs\",\n",
              "  'NEGATIVE',\n",
              "  0.958739161491394,\n",
              "  'https://finance.yahoo.com/news/vaneck-ceo-boldly-predicts-bitcoin-144521276.html'],\n",
              " ['BTC',\n",
              "  'We are aware of the issue and are working to resolve it.',\n",
              "  'POSITIVE',\n",
              "  0.9979088306427002,\n",
              "  'https://finance.yahoo.com/video/bitcoin-minimize-taxes-crypto-investors-172340880.html'],\n",
              " ['BTC',\n",
              "  'The Himalayan nation has been diversifying its cryptocurrency holdings. Bhutan is fifth among countries with Bitcoin holdings',\n",
              "  'POSITIVE',\n",
              "  0.9852761030197144,\n",
              "  'https://finance.yahoo.com/news/bhutan-cashes-33-5b-bitcoin-081756733.html'],\n",
              " ['BTC',\n",
              "  'We are aware of the issue and are working to resolve it.',\n",
              "  'POSITIVE',\n",
              "  0.9979088306427002,\n",
              "  'https://finance.yahoo.com/video/strategic-bitcoin-top-trumps-list-215519534.html'],\n",
              " ['BTC',\n",
              "  'Your information may be shared with third parties.',\n",
              "  'NEGATIVE',\n",
              "  0.9903545379638672,\n",
              "  'https://www.google.com/search?q%3Dyahoo%2Bfinance%2BBTC%26tbm%3Dnws%26pccc%3D1'],\n",
              " ['BTC',\n",
              "  'Ethereum, Aave, and Dogecoin all have potential for upside.',\n",
              "  'POSITIVE',\n",
              "  0.8397566676139832,\n",
              "  'https://finance.yahoo.com/news/three-best-cryptocurrencies-buy-now-080900747.html'],\n",
              " ['BTC',\n",
              "  'The world’s largest cryptocurrency has more than doubled this year. Ethereum, solana and dogecoin also rise on Wednesday',\n",
              "  'POSITIVE',\n",
              "  0.998205304145813,\n",
              "  'https://finance.yahoo.com/news/bitcoin-touches-record-high-above-93000-on-optimism-around-trumps-pro-crypto-promises-181405097.html']]"
            ]
          },
          "metadata": {},
          "execution_count": 47
        }
      ]
    },
    {
      "cell_type": "code",
      "source": [
        "final_output.insert(0, ['Ticker', 'Summary', 'Label', 'Confidence', 'URL'])\n"
      ],
      "metadata": {
        "id": "oEnOObWTD-a4"
      },
      "execution_count": 48,
      "outputs": []
    },
    {
      "cell_type": "code",
      "source": [
        "final_output\n"
      ],
      "metadata": {
        "colab": {
          "base_uri": "https://localhost:8080/"
        },
        "id": "K_evpsliEAV1",
        "outputId": "50c9acd7-eceb-406c-a724-a10cc14370a4"
      },
      "execution_count": 49,
      "outputs": [
        {
          "output_type": "execute_result",
          "data": {
            "text/plain": [
              "[['Ticker', 'Summary', 'Label', 'Confidence', 'URL'],\n",
              " ['GME',\n",
              "  'Video game retailer is scheduled to report earnings later today.',\n",
              "  'NEGATIVE',\n",
              "  0.9656205177307129,\n",
              "  'https://finance.yahoo.com/news/gamestop-gme-falls-more-steeply-224520779.html'],\n",
              " ['GME',\n",
              "  'Your information may be shared with third parties.',\n",
              "  'NEGATIVE',\n",
              "  0.9903545379638672,\n",
              "  'https://www.google.com/search?q%3Dyahoo%2Bfinance%2BGME%26tbm%3Dnws%26pccc%3D1'],\n",
              " ['GME',\n",
              "  'We are aware of the issue and are working to resolve it.',\n",
              "  'POSITIVE',\n",
              "  0.9979088306427002,\n",
              "  'https://finance.yahoo.com/news/why-diamond-hill-long-short-122844695.html'],\n",
              " ['GME',\n",
              "  'We are aware of the issue and are working to resolve it.',\n",
              "  'POSITIVE',\n",
              "  0.9979088306427002,\n",
              "  'https://finance.yahoo.com/news/gamestop-gme-stock-drops-despite-214519430.html'],\n",
              " ['GME',\n",
              "  'Video game retailer is scheduled to report earnings later on Wednesday.',\n",
              "  'NEGATIVE',\n",
              "  0.9778563380241394,\n",
              "  'https://finance.yahoo.com/news/why-gamestop-gme-dipped-more-214520142.html'],\n",
              " ['GME',\n",
              "  'Video game retailer is set to report earnings later today.',\n",
              "  'NEGATIVE',\n",
              "  0.974228024482727,\n",
              "  'https://finance.yahoo.com/news/heres-why-gamestop-gme-fell-224520124.html'],\n",
              " ['GME',\n",
              "  'Video game retailer is scheduled to report earnings later on Thursday.',\n",
              "  'NEGATIVE',\n",
              "  0.9768379926681519,\n",
              "  'https://finance.yahoo.com/news/gamestop-gme-registers-bigger-fall-214521016.html'],\n",
              " ['GME',\n",
              "  'We are aware of the issue and are working to resolve it.',\n",
              "  'POSITIVE',\n",
              "  0.9979088306427002,\n",
              "  'https://finance.yahoo.com/news/gamestop-gme-stock-moves-0-215522235.html'],\n",
              " ['GME',\n",
              "  'We are aware of the issue and are working to resolve it.',\n",
              "  'POSITIVE',\n",
              "  0.9979088306427002,\n",
              "  'https://finance.yahoo.com/news/investors-heavily-search-gamestop-corp-130016370.html'],\n",
              " ['GME',\n",
              "  'We are aware of the issue and are working to resolve it.',\n",
              "  'POSITIVE',\n",
              "  0.9979088306427002,\n",
              "  'https://finance.yahoo.com/news/jim-cramer-says-gamestop-gme-134244137.html'],\n",
              " ['GME',\n",
              "  'We are aware of the issue and are working to resolve it.',\n",
              "  'POSITIVE',\n",
              "  0.9979088306427002,\n",
              "  'https://finance.yahoo.com/news/gamestop-gme-stock-moves-1-214524513.html'],\n",
              " ['TSLA',\n",
              "  'We are aware of the issue and are working to resolve it.',\n",
              "  'POSITIVE',\n",
              "  0.9979088306427002,\n",
              "  'https://finance.yahoo.com/video/hedge-funds-shorting-tesla-stock-145155395.html'],\n",
              " ['TSLA',\n",
              "  'OpenAI to release fourth generation of ChatGPT model. Tesla, Perplexity and Google are also in the spotlight',\n",
              "  'POSITIVE',\n",
              "  0.9967484474182129,\n",
              "  'https://finance.yahoo.com/news/tesla-inc-tsla-morgan-stanley-014425988.html'],\n",
              " ['TSLA',\n",
              "  'We are aware of the issue and are working to resolve it.',\n",
              "  'POSITIVE',\n",
              "  0.9979088306427002,\n",
              "  'https://finance.yahoo.com/video/futures-hedge-funds-pull-back-143647116.html'],\n",
              " ['TSLA',\n",
              "  'Tesla has a debt-to-cash ratio of 26.37%, which is higher than the industry average.',\n",
              "  'POSITIVE',\n",
              "  0.9946510195732117,\n",
              "  'https://finance.yahoo.com/news/tesla-nasdaq-tsla-seems-debt-140111992.html'],\n",
              " ['TSLA',\n",
              "  'Your information may be shared with third parties.',\n",
              "  'NEGATIVE',\n",
              "  0.9903545379638672,\n",
              "  'https://www.google.com/search?q%3Dyahoo%2Bfinance%2BTSLA%26tbm%3Dnws%26pccc%3D1'],\n",
              " ['TSLA',\n",
              "  'Tesla’s rise is ‘part of a catch-up trade,’ says Nuveen',\n",
              "  'POSITIVE',\n",
              "  0.9948047995567322,\n",
              "  'https://finance.yahoo.com/news/tesla-stock-to-settle-after-recent-surge-nuveen-cio-204349139.html'],\n",
              " ['TSLA',\n",
              "  \"Electric car maker has surged 37% since Trump's election. Wedbush raises its price target on Tesla by 33%\",\n",
              "  'POSITIVE',\n",
              "  0.9634703993797302,\n",
              "  'https://finance.yahoo.com/news/why-tesla-stock-keeps-going-180848891.html'],\n",
              " ['TSLA',\n",
              "  'The Dow and S&P 500 both closed above key milestones Monday. Bitcoin nears $87,000 on hopes for a crypto-friendly Trump administration',\n",
              "  'NEGATIVE',\n",
              "  0.9606702327728271,\n",
              "  'https://finance.yahoo.com/news/live/stock-market-today-dow-sp-500-close-above-key-milestones-as-tesla-bitcoin-surge-210057604.html'],\n",
              " ['TSLA',\n",
              "  \"President-elect's team has drawn up plans to eliminate EV tax credits, Reuters says.\",\n",
              "  'NEGATIVE',\n",
              "  0.978199303150177,\n",
              "  'https://finance.yahoo.com/news/tesla-stock-falls-as-trump-trade-fades-and-ev-tax-credits-come-under-threat-170918953.html'],\n",
              " ['TSLA',\n",
              "  'AMD, TSLA among companies to see margins improve on a year-over-year basis.',\n",
              "  'POSITIVE',\n",
              "  0.9122101664543152,\n",
              "  'https://finance.yahoo.com/news/2-companies-unlocking-higher-profits-002900585.html'],\n",
              " ['TSLA',\n",
              "  'Tesla, Inc. stands against other best stocks to buy and hold for 5 years.',\n",
              "  'NEGATIVE',\n",
              "  0.6253010034561157,\n",
              "  'https://finance.yahoo.com/news/tesla-inc-tsla-best-stock-190803129.html'],\n",
              " ['BTC',\n",
              "  'On CryptosRus, George Tung explores U.S. plan to buy up to 5% of supply. Bitcoin scarcity, U.S. buying, and more',\n",
              "  'POSITIVE',\n",
              "  0.9878144264221191,\n",
              "  'https://finance.yahoo.com/news/u-bitcoin-plan-could-ignite-192515490.html'],\n",
              " ['BTC',\n",
              "  'We are aware of the issue and are working to resolve it.',\n",
              "  'POSITIVE',\n",
              "  0.9979088306427002,\n",
              "  'https://finance.yahoo.com/video/bitcoin-dogecoin-super-micro-planet-171241925.html'],\n",
              " ['BTC',\n",
              "  'Digital currency ‘in blue sky territory,’ VanEck’s Sigel says. ‘We’re likely to make repeated all-time highs,’ he says',\n",
              "  'POSITIVE',\n",
              "  0.8589006066322327,\n",
              "  'https://finance.yahoo.com/news/analyst-vaneck-says-bitcoin-might-082458385.html'],\n",
              " ['BTC',\n",
              "  'Analysts have been predicting a price of $100,000 before Christmas.',\n",
              "  'NEGATIVE',\n",
              "  0.9923264980316162,\n",
              "  'https://uk.finance.yahoo.com/news/bitcoin-price-trump-election-cryptocurrency-poll-060012675.html'],\n",
              " ['BTC',\n",
              "  \"Coin could reach half of gold's market cap, van Eck says. Individual investors are flocking to Bitcoin ETFs\",\n",
              "  'NEGATIVE',\n",
              "  0.958739161491394,\n",
              "  'https://finance.yahoo.com/news/vaneck-ceo-boldly-predicts-bitcoin-144521276.html'],\n",
              " ['BTC',\n",
              "  'We are aware of the issue and are working to resolve it.',\n",
              "  'POSITIVE',\n",
              "  0.9979088306427002,\n",
              "  'https://finance.yahoo.com/video/bitcoin-minimize-taxes-crypto-investors-172340880.html'],\n",
              " ['BTC',\n",
              "  'The Himalayan nation has been diversifying its cryptocurrency holdings. Bhutan is fifth among countries with Bitcoin holdings',\n",
              "  'POSITIVE',\n",
              "  0.9852761030197144,\n",
              "  'https://finance.yahoo.com/news/bhutan-cashes-33-5b-bitcoin-081756733.html'],\n",
              " ['BTC',\n",
              "  'We are aware of the issue and are working to resolve it.',\n",
              "  'POSITIVE',\n",
              "  0.9979088306427002,\n",
              "  'https://finance.yahoo.com/video/strategic-bitcoin-top-trumps-list-215519534.html'],\n",
              " ['BTC',\n",
              "  'Your information may be shared with third parties.',\n",
              "  'NEGATIVE',\n",
              "  0.9903545379638672,\n",
              "  'https://www.google.com/search?q%3Dyahoo%2Bfinance%2BBTC%26tbm%3Dnws%26pccc%3D1'],\n",
              " ['BTC',\n",
              "  'Ethereum, Aave, and Dogecoin all have potential for upside.',\n",
              "  'POSITIVE',\n",
              "  0.8397566676139832,\n",
              "  'https://finance.yahoo.com/news/three-best-cryptocurrencies-buy-now-080900747.html'],\n",
              " ['BTC',\n",
              "  'The world’s largest cryptocurrency has more than doubled this year. Ethereum, solana and dogecoin also rise on Wednesday',\n",
              "  'POSITIVE',\n",
              "  0.998205304145813,\n",
              "  'https://finance.yahoo.com/news/bitcoin-touches-record-high-above-93000-on-optimism-around-trumps-pro-crypto-promises-181405097.html']]"
            ]
          },
          "metadata": {},
          "execution_count": 49
        }
      ]
    },
    {
      "cell_type": "code",
      "source": [
        "import csv\n",
        "with open('assetsummaries.csv', mode='w', newline='') as f:\n",
        "    csv_writer = csv.writer(f, delimiter=',', quotechar='\"', quoting=csv.QUOTE_MINIMAL)\n",
        "    csv_writer.writerows(final_output)"
      ],
      "metadata": {
        "id": "u4Ql4coWEEko"
      },
      "execution_count": 50,
      "outputs": []
    }
  ]
}